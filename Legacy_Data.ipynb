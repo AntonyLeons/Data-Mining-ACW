{
 "cells": [
  {
   "cell_type": "markdown",
   "metadata": {
    "colab_type": "text",
    "id": "view-in-github"
   },
   "source": [
    "<a href=\"https://colab.research.google.com/github/AntonyLeons/Data-Mining-ACW/blob/master/Legacy_Data.ipynb\" target=\"_parent\"><img src=\"https://colab.research.google.com/assets/colab-badge.svg\" alt=\"Open In Colab\"/></a>"
   ]
  },
  {
   "cell_type": "markdown",
   "metadata": {
    "colab_type": "text",
    "id": "sg6oiJnY9suG"
   },
   "source": [
    "# Legacy Data"
   ]
  },
  {
   "cell_type": "code",
   "execution_count": 1,
   "metadata": {
    "colab": {},
    "colab_type": "code",
    "id": "XkTgFM8T9n1c"
   },
   "outputs": [],
   "source": [
    "import pandas as pd\n",
    "import numpy as np\n",
    "import random as rand # import libs\n",
    "import seaborn as sns\n",
    "import sklearn\n",
    "import sklearn.tree as tree\n",
    "from sklearn.metrics import confusion_matrix\n",
    "from sklearn.linear_model import LogisticRegression\n",
    "import scikitplot as skplt\n",
    "from sklearn.preprocessing import OneHotEncoder\n",
    "from sklearn import preprocessing\n",
    "from sklearn.tree import DecisionTreeClassifier\n",
    "import matplotlib.pyplot as plt\n",
    "from sklearn.tree import plot_tree\n",
    "from sklearn.neural_network import MLPClassifier\n",
    "from sklearn.ensemble import RandomForestClassifier\n",
    "from sklearn.naive_bayes import GaussianNB\n",
    "from sklearn.metrics import classification_report\n",
    "from yellowbrick.classifier import ClassificationReport\n",
    "from sklearn.model_selection import cross_validate\n",
    "from sklearn.model_selection import cross_val_score"
   ]
  },
  {
   "cell_type": "code",
   "execution_count": 2,
   "metadata": {},
   "outputs": [],
   "source": [
    "# from google.colab import files  # If running on google upload data\n",
    "\n",
    "# uploaded = files.upload()\n",
    "\n",
    "# for fn in uploaded.keys():\n",
    "#   print('User uploaded file \"{name}\" with length {length} bytes'.format(\n",
    "#       name=fn, length=len(uploaded[fn])))\n",
    "# %notebook inline"
   ]
  },
  {
   "cell_type": "code",
   "execution_count": 3,
   "metadata": {},
   "outputs": [],
   "source": [
    "data=pd.read_csv('data/600092_data.csv') # import CSV"
   ]
  },
  {
   "cell_type": "code",
   "execution_count": 4,
   "metadata": {},
   "outputs": [
    {
     "name": "stdout",
     "output_type": "stream",
     "text": [
      "Random          float64\n",
      "Id                int64\n",
      "Indication       object\n",
      "Diabetes         object\n",
      "IHD              object\n",
      "Hypertension     object\n",
      "Arrhythmia       object\n",
      "History          object\n",
      "IPSI            float64\n",
      "Contra           object\n",
      "label            object\n",
      "dtype: object\n",
      "total heading 11\n"
     ]
    }
   ],
   "source": [
    "print(data.dtypes) # see types, conta is not a int. IPSI is float but can be an int however this should not affect the model\n",
    "print(f\"total heading {len(data.columns)}\")"
   ]
  },
  {
   "cell_type": "code",
   "execution_count": 5,
   "metadata": {},
   "outputs": [
    {
     "data": {
      "text/html": [
       "<div>\n",
       "<style scoped>\n",
       "    .dataframe tbody tr th:only-of-type {\n",
       "        vertical-align: middle;\n",
       "    }\n",
       "\n",
       "    .dataframe tbody tr th {\n",
       "        vertical-align: top;\n",
       "    }\n",
       "\n",
       "    .dataframe thead th {\n",
       "        text-align: right;\n",
       "    }\n",
       "</style>\n",
       "<table border=\"1\" class=\"dataframe\">\n",
       "  <thead>\n",
       "    <tr style=\"text-align: right;\">\n",
       "      <th></th>\n",
       "      <th>Random</th>\n",
       "      <th>Id</th>\n",
       "      <th>Indication</th>\n",
       "      <th>Diabetes</th>\n",
       "      <th>IHD</th>\n",
       "      <th>Hypertension</th>\n",
       "      <th>Arrhythmia</th>\n",
       "      <th>History</th>\n",
       "      <th>IPSI</th>\n",
       "      <th>Contra</th>\n",
       "      <th>label</th>\n",
       "    </tr>\n",
       "  </thead>\n",
       "  <tbody>\n",
       "    <tr>\n",
       "      <th>count</th>\n",
       "      <td>1520.000000</td>\n",
       "      <td>1520.000000</td>\n",
       "      <td>1517</td>\n",
       "      <td>1518</td>\n",
       "      <td>1520</td>\n",
       "      <td>1517</td>\n",
       "      <td>1520</td>\n",
       "      <td>1518</td>\n",
       "      <td>1516.000000</td>\n",
       "      <td>1520</td>\n",
       "      <td>1517</td>\n",
       "    </tr>\n",
       "    <tr>\n",
       "      <th>unique</th>\n",
       "      <td>NaN</td>\n",
       "      <td>NaN</td>\n",
       "      <td>5</td>\n",
       "      <td>2</td>\n",
       "      <td>2</td>\n",
       "      <td>2</td>\n",
       "      <td>2</td>\n",
       "      <td>2</td>\n",
       "      <td>NaN</td>\n",
       "      <td>41</td>\n",
       "      <td>3</td>\n",
       "    </tr>\n",
       "    <tr>\n",
       "      <th>top</th>\n",
       "      <td>NaN</td>\n",
       "      <td>NaN</td>\n",
       "      <td>A-F</td>\n",
       "      <td>no</td>\n",
       "      <td>no</td>\n",
       "      <td>no</td>\n",
       "      <td>no</td>\n",
       "      <td>no</td>\n",
       "      <td>NaN</td>\n",
       "      <td>100</td>\n",
       "      <td>NoRisk</td>\n",
       "    </tr>\n",
       "    <tr>\n",
       "      <th>freq</th>\n",
       "      <td>NaN</td>\n",
       "      <td>NaN</td>\n",
       "      <td>493</td>\n",
       "      <td>1441</td>\n",
       "      <td>801</td>\n",
       "      <td>784</td>\n",
       "      <td>1190</td>\n",
       "      <td>1494</td>\n",
       "      <td>NaN</td>\n",
       "      <td>244</td>\n",
       "      <td>1008</td>\n",
       "    </tr>\n",
       "    <tr>\n",
       "      <th>mean</th>\n",
       "      <td>0.509545</td>\n",
       "      <td>188365.022368</td>\n",
       "      <td>NaN</td>\n",
       "      <td>NaN</td>\n",
       "      <td>NaN</td>\n",
       "      <td>NaN</td>\n",
       "      <td>NaN</td>\n",
       "      <td>NaN</td>\n",
       "      <td>78.872032</td>\n",
       "      <td>NaN</td>\n",
       "      <td>NaN</td>\n",
       "    </tr>\n",
       "    <tr>\n",
       "      <th>std</th>\n",
       "      <td>0.284006</td>\n",
       "      <td>64355.870242</td>\n",
       "      <td>NaN</td>\n",
       "      <td>NaN</td>\n",
       "      <td>NaN</td>\n",
       "      <td>NaN</td>\n",
       "      <td>NaN</td>\n",
       "      <td>NaN</td>\n",
       "      <td>10.162351</td>\n",
       "      <td>NaN</td>\n",
       "      <td>NaN</td>\n",
       "    </tr>\n",
       "    <tr>\n",
       "      <th>min</th>\n",
       "      <td>0.000295</td>\n",
       "      <td>78261.000000</td>\n",
       "      <td>NaN</td>\n",
       "      <td>NaN</td>\n",
       "      <td>NaN</td>\n",
       "      <td>NaN</td>\n",
       "      <td>NaN</td>\n",
       "      <td>NaN</td>\n",
       "      <td>35.000000</td>\n",
       "      <td>NaN</td>\n",
       "      <td>NaN</td>\n",
       "    </tr>\n",
       "    <tr>\n",
       "      <th>25%</th>\n",
       "      <td>0.268531</td>\n",
       "      <td>137130.750000</td>\n",
       "      <td>NaN</td>\n",
       "      <td>NaN</td>\n",
       "      <td>NaN</td>\n",
       "      <td>NaN</td>\n",
       "      <td>NaN</td>\n",
       "      <td>NaN</td>\n",
       "      <td>73.000000</td>\n",
       "      <td>NaN</td>\n",
       "      <td>NaN</td>\n",
       "    </tr>\n",
       "    <tr>\n",
       "      <th>50%</th>\n",
       "      <td>0.517616</td>\n",
       "      <td>191344.500000</td>\n",
       "      <td>NaN</td>\n",
       "      <td>NaN</td>\n",
       "      <td>NaN</td>\n",
       "      <td>NaN</td>\n",
       "      <td>NaN</td>\n",
       "      <td>NaN</td>\n",
       "      <td>77.000000</td>\n",
       "      <td>NaN</td>\n",
       "      <td>NaN</td>\n",
       "    </tr>\n",
       "    <tr>\n",
       "      <th>75%</th>\n",
       "      <td>0.754724</td>\n",
       "      <td>244559.500000</td>\n",
       "      <td>NaN</td>\n",
       "      <td>NaN</td>\n",
       "      <td>NaN</td>\n",
       "      <td>NaN</td>\n",
       "      <td>NaN</td>\n",
       "      <td>NaN</td>\n",
       "      <td>85.000000</td>\n",
       "      <td>NaN</td>\n",
       "      <td>NaN</td>\n",
       "    </tr>\n",
       "    <tr>\n",
       "      <th>max</th>\n",
       "      <td>0.999448</td>\n",
       "      <td>295978.000000</td>\n",
       "      <td>NaN</td>\n",
       "      <td>NaN</td>\n",
       "      <td>NaN</td>\n",
       "      <td>NaN</td>\n",
       "      <td>NaN</td>\n",
       "      <td>NaN</td>\n",
       "      <td>99.000000</td>\n",
       "      <td>NaN</td>\n",
       "      <td>NaN</td>\n",
       "    </tr>\n",
       "  </tbody>\n",
       "</table>\n",
       "</div>"
      ],
      "text/plain": [
       "             Random             Id Indication Diabetes   IHD Hypertension  \\\n",
       "count   1520.000000    1520.000000       1517     1518  1520         1517   \n",
       "unique          NaN            NaN          5        2     2            2   \n",
       "top             NaN            NaN        A-F       no    no           no   \n",
       "freq            NaN            NaN        493     1441   801          784   \n",
       "mean       0.509545  188365.022368        NaN      NaN   NaN          NaN   \n",
       "std        0.284006   64355.870242        NaN      NaN   NaN          NaN   \n",
       "min        0.000295   78261.000000        NaN      NaN   NaN          NaN   \n",
       "25%        0.268531  137130.750000        NaN      NaN   NaN          NaN   \n",
       "50%        0.517616  191344.500000        NaN      NaN   NaN          NaN   \n",
       "75%        0.754724  244559.500000        NaN      NaN   NaN          NaN   \n",
       "max        0.999448  295978.000000        NaN      NaN   NaN          NaN   \n",
       "\n",
       "       Arrhythmia History         IPSI Contra   label  \n",
       "count        1520    1518  1516.000000   1520    1517  \n",
       "unique          2       2          NaN     41       3  \n",
       "top            no      no          NaN    100  NoRisk  \n",
       "freq         1190    1494          NaN    244    1008  \n",
       "mean          NaN     NaN    78.872032    NaN     NaN  \n",
       "std           NaN     NaN    10.162351    NaN     NaN  \n",
       "min           NaN     NaN    35.000000    NaN     NaN  \n",
       "25%           NaN     NaN    73.000000    NaN     NaN  \n",
       "50%           NaN     NaN    77.000000    NaN     NaN  \n",
       "75%           NaN     NaN    85.000000    NaN     NaN  \n",
       "max           NaN     NaN    99.000000    NaN     NaN  "
      ]
     },
     "execution_count": 5,
     "metadata": {},
     "output_type": "execute_result"
    }
   ],
   "source": [
    "data.describe(include = 'all') # Data summary"
   ]
  },
  {
   "cell_type": "code",
   "execution_count": 6,
   "metadata": {},
   "outputs": [
    {
     "data": {
      "text/html": [
       "<div>\n",
       "<style scoped>\n",
       "    .dataframe tbody tr th:only-of-type {\n",
       "        vertical-align: middle;\n",
       "    }\n",
       "\n",
       "    .dataframe tbody tr th {\n",
       "        vertical-align: top;\n",
       "    }\n",
       "\n",
       "    .dataframe thead th {\n",
       "        text-align: right;\n",
       "    }\n",
       "</style>\n",
       "<table border=\"1\" class=\"dataframe\">\n",
       "  <thead>\n",
       "    <tr style=\"text-align: right;\">\n",
       "      <th></th>\n",
       "      <th>Random</th>\n",
       "      <th>Id</th>\n",
       "      <th>Indication</th>\n",
       "      <th>Diabetes</th>\n",
       "      <th>IHD</th>\n",
       "      <th>Hypertension</th>\n",
       "      <th>Arrhythmia</th>\n",
       "      <th>History</th>\n",
       "      <th>IPSI</th>\n",
       "      <th>Contra</th>\n",
       "      <th>label</th>\n",
       "    </tr>\n",
       "  </thead>\n",
       "  <tbody>\n",
       "    <tr>\n",
       "      <th>0</th>\n",
       "      <td>0.602437</td>\n",
       "      <td>218242</td>\n",
       "      <td>A-F</td>\n",
       "      <td>no</td>\n",
       "      <td>no</td>\n",
       "      <td>yes</td>\n",
       "      <td>no</td>\n",
       "      <td>no</td>\n",
       "      <td>78.0</td>\n",
       "      <td>20</td>\n",
       "      <td>NoRisk</td>\n",
       "    </tr>\n",
       "    <tr>\n",
       "      <th>1</th>\n",
       "      <td>0.602437</td>\n",
       "      <td>159284</td>\n",
       "      <td>TIA</td>\n",
       "      <td>no</td>\n",
       "      <td>no</td>\n",
       "      <td>no</td>\n",
       "      <td>no</td>\n",
       "      <td>no</td>\n",
       "      <td>70.0</td>\n",
       "      <td>60</td>\n",
       "      <td>NoRisk</td>\n",
       "    </tr>\n",
       "    <tr>\n",
       "      <th>2</th>\n",
       "      <td>0.602437</td>\n",
       "      <td>106066</td>\n",
       "      <td>A-F</td>\n",
       "      <td>no</td>\n",
       "      <td>yes</td>\n",
       "      <td>yes</td>\n",
       "      <td>no</td>\n",
       "      <td>no</td>\n",
       "      <td>95.0</td>\n",
       "      <td>40</td>\n",
       "      <td>Risk</td>\n",
       "    </tr>\n",
       "    <tr>\n",
       "      <th>3</th>\n",
       "      <td>0.128157</td>\n",
       "      <td>229592</td>\n",
       "      <td>TIA</td>\n",
       "      <td>no</td>\n",
       "      <td>no</td>\n",
       "      <td>yes</td>\n",
       "      <td>no</td>\n",
       "      <td>no</td>\n",
       "      <td>90.0</td>\n",
       "      <td>85</td>\n",
       "      <td>Risk</td>\n",
       "    </tr>\n",
       "    <tr>\n",
       "      <th>4</th>\n",
       "      <td>0.676862</td>\n",
       "      <td>245829</td>\n",
       "      <td>CVA</td>\n",
       "      <td>no</td>\n",
       "      <td>no</td>\n",
       "      <td>no</td>\n",
       "      <td>no</td>\n",
       "      <td>no</td>\n",
       "      <td>70.0</td>\n",
       "      <td>20</td>\n",
       "      <td>NoRisk</td>\n",
       "    </tr>\n",
       "    <tr>\n",
       "      <th>5</th>\n",
       "      <td>0.916897</td>\n",
       "      <td>169990</td>\n",
       "      <td>A-F</td>\n",
       "      <td>no</td>\n",
       "      <td>no</td>\n",
       "      <td>no</td>\n",
       "      <td>yes</td>\n",
       "      <td>no</td>\n",
       "      <td>95.0</td>\n",
       "      <td>95</td>\n",
       "      <td>Risk</td>\n",
       "    </tr>\n",
       "    <tr>\n",
       "      <th>6</th>\n",
       "      <td>0.383408</td>\n",
       "      <td>196122</td>\n",
       "      <td>A-F</td>\n",
       "      <td>no</td>\n",
       "      <td>yes</td>\n",
       "      <td>yes</td>\n",
       "      <td>no</td>\n",
       "      <td>no</td>\n",
       "      <td>90.0</td>\n",
       "      <td>95</td>\n",
       "      <td>Risk</td>\n",
       "    </tr>\n",
       "    <tr>\n",
       "      <th>7</th>\n",
       "      <td>0.538333</td>\n",
       "      <td>261057</td>\n",
       "      <td>CVA</td>\n",
       "      <td>no</td>\n",
       "      <td>no</td>\n",
       "      <td>no</td>\n",
       "      <td>no</td>\n",
       "      <td>no</td>\n",
       "      <td>75.0</td>\n",
       "      <td>60</td>\n",
       "      <td>NoRisk</td>\n",
       "    </tr>\n",
       "    <tr>\n",
       "      <th>8</th>\n",
       "      <td>0.678157</td>\n",
       "      <td>256128</td>\n",
       "      <td>TIA</td>\n",
       "      <td>no</td>\n",
       "      <td>no</td>\n",
       "      <td>yes</td>\n",
       "      <td>no</td>\n",
       "      <td>no</td>\n",
       "      <td>81.0</td>\n",
       "      <td>20</td>\n",
       "      <td>NoRisk</td>\n",
       "    </tr>\n",
       "    <tr>\n",
       "      <th>9</th>\n",
       "      <td>0.689331</td>\n",
       "      <td>196936</td>\n",
       "      <td>A-F</td>\n",
       "      <td>no</td>\n",
       "      <td>no</td>\n",
       "      <td>yes</td>\n",
       "      <td>yes</td>\n",
       "      <td>no</td>\n",
       "      <td>95.0</td>\n",
       "      <td>100</td>\n",
       "      <td>Risk</td>\n",
       "    </tr>\n",
       "    <tr>\n",
       "      <th>10</th>\n",
       "      <td>0.678157</td>\n",
       "      <td>174588</td>\n",
       "      <td>CVA</td>\n",
       "      <td>no</td>\n",
       "      <td>yes</td>\n",
       "      <td>yes</td>\n",
       "      <td>yes</td>\n",
       "      <td>no</td>\n",
       "      <td>75.0</td>\n",
       "      <td>50</td>\n",
       "      <td>Risk</td>\n",
       "    </tr>\n",
       "    <tr>\n",
       "      <th>11</th>\n",
       "      <td>0.655217</td>\n",
       "      <td>271863</td>\n",
       "      <td>A-F</td>\n",
       "      <td>no</td>\n",
       "      <td>yes</td>\n",
       "      <td>yes</td>\n",
       "      <td>no</td>\n",
       "      <td>no</td>\n",
       "      <td>80.0</td>\n",
       "      <td>40</td>\n",
       "      <td>Risk</td>\n",
       "    </tr>\n",
       "    <tr>\n",
       "      <th>12</th>\n",
       "      <td>0.071533</td>\n",
       "      <td>274906</td>\n",
       "      <td>A-F</td>\n",
       "      <td>no</td>\n",
       "      <td>yes</td>\n",
       "      <td>no</td>\n",
       "      <td>no</td>\n",
       "      <td>no</td>\n",
       "      <td>76.0</td>\n",
       "      <td>50</td>\n",
       "      <td>NoRisk</td>\n",
       "    </tr>\n",
       "    <tr>\n",
       "      <th>13</th>\n",
       "      <td>0.025356</td>\n",
       "      <td>224025</td>\n",
       "      <td>CVA</td>\n",
       "      <td>no</td>\n",
       "      <td>yes</td>\n",
       "      <td>yes</td>\n",
       "      <td>yes</td>\n",
       "      <td>no</td>\n",
       "      <td>75.0</td>\n",
       "      <td>50</td>\n",
       "      <td>Risk</td>\n",
       "    </tr>\n",
       "    <tr>\n",
       "      <th>14</th>\n",
       "      <td>0.637037</td>\n",
       "      <td>167053</td>\n",
       "      <td>TIA</td>\n",
       "      <td>no</td>\n",
       "      <td>yes</td>\n",
       "      <td>no</td>\n",
       "      <td>no</td>\n",
       "      <td>no</td>\n",
       "      <td>78.0</td>\n",
       "      <td>30</td>\n",
       "      <td>NoRisk</td>\n",
       "    </tr>\n",
       "  </tbody>\n",
       "</table>\n",
       "</div>"
      ],
      "text/plain": [
       "      Random      Id Indication Diabetes  IHD Hypertension Arrhythmia History  \\\n",
       "0   0.602437  218242        A-F       no   no          yes         no      no   \n",
       "1   0.602437  159284        TIA       no   no           no         no      no   \n",
       "2   0.602437  106066        A-F       no  yes          yes         no      no   \n",
       "3   0.128157  229592        TIA       no   no          yes         no      no   \n",
       "4   0.676862  245829        CVA       no   no           no         no      no   \n",
       "5   0.916897  169990        A-F       no   no           no        yes      no   \n",
       "6   0.383408  196122        A-F       no  yes          yes         no      no   \n",
       "7   0.538333  261057        CVA       no   no           no         no      no   \n",
       "8   0.678157  256128        TIA       no   no          yes         no      no   \n",
       "9   0.689331  196936        A-F       no   no          yes        yes      no   \n",
       "10  0.678157  174588        CVA       no  yes          yes        yes      no   \n",
       "11  0.655217  271863        A-F       no  yes          yes         no      no   \n",
       "12  0.071533  274906        A-F       no  yes           no         no      no   \n",
       "13  0.025356  224025        CVA       no  yes          yes        yes      no   \n",
       "14  0.637037  167053        TIA       no  yes           no         no      no   \n",
       "\n",
       "    IPSI Contra   label  \n",
       "0   78.0    20   NoRisk  \n",
       "1   70.0    60   NoRisk  \n",
       "2   95.0     40    Risk  \n",
       "3   90.0     85    Risk  \n",
       "4   70.0    20   NoRisk  \n",
       "5   95.0     95    Risk  \n",
       "6   90.0     95    Risk  \n",
       "7   75.0    60   NoRisk  \n",
       "8   81.0    20   NoRisk  \n",
       "9   95.0    100    Risk  \n",
       "10  75.0     50    Risk  \n",
       "11  80.0     40    Risk  \n",
       "12  76.0    50   NoRisk  \n",
       "13  75.0     50    Risk  \n",
       "14  78.0    30   NoRisk  "
      ]
     },
     "execution_count": 6,
     "metadata": {},
     "output_type": "execute_result"
    }
   ],
   "source": [
    "data.head(15) # quick look at the data"
   ]
  },
  {
   "cell_type": "code",
   "execution_count": 7,
   "metadata": {},
   "outputs": [
    {
     "name": "stdout",
     "output_type": "stream",
     "text": [
      "Random 1222\n",
      "Id 1520\n",
      "Indication 5\n",
      "Diabetes 2\n",
      "IHD 2\n",
      "Hypertension 2\n",
      "Arrhythmia 2\n",
      "History 2\n",
      "IPSI 29\n",
      "Contra 41\n",
      "label 3\n"
     ]
    }
   ],
   "source": [
    "for headings in data.columns:\n",
    "    print(f\"{headings} {data[headings].nunique()}\")  # get total distict for each column"
   ]
  },
  {
   "cell_type": "code",
   "execution_count": 8,
   "metadata": {},
   "outputs": [],
   "source": [
    "# random should be unique according to the data decription but in the id is Unique and Random has ~200 repeats, this implies the columns have been switched.\n",
    "# label also has 3 values but should be nominal with Risk and NoRisk values"
   ]
  },
  {
   "cell_type": "code",
   "execution_count": 9,
   "metadata": {},
   "outputs": [],
   "source": [
    "data_copy = data.copy() #copy original dataframe"
   ]
  },
  {
   "cell_type": "code",
   "execution_count": 10,
   "metadata": {},
   "outputs": [
    {
     "data": {
      "text/html": [
       "<div>\n",
       "<style scoped>\n",
       "    .dataframe tbody tr th:only-of-type {\n",
       "        vertical-align: middle;\n",
       "    }\n",
       "\n",
       "    .dataframe tbody tr th {\n",
       "        vertical-align: top;\n",
       "    }\n",
       "\n",
       "    .dataframe thead th {\n",
       "        text-align: right;\n",
       "    }\n",
       "</style>\n",
       "<table border=\"1\" class=\"dataframe\">\n",
       "  <thead>\n",
       "    <tr style=\"text-align: right;\">\n",
       "      <th></th>\n",
       "      <th>Random</th>\n",
       "      <th>Id</th>\n",
       "      <th>Indication</th>\n",
       "      <th>Diabetes</th>\n",
       "      <th>IHD</th>\n",
       "      <th>Hypertension</th>\n",
       "      <th>Arrhythmia</th>\n",
       "      <th>History</th>\n",
       "      <th>IPSI</th>\n",
       "      <th>Contra</th>\n",
       "      <th>label</th>\n",
       "    </tr>\n",
       "  </thead>\n",
       "  <tbody>\n",
       "    <tr>\n",
       "      <th>1122</th>\n",
       "      <td>0.000314</td>\n",
       "      <td>102033</td>\n",
       "      <td>ASx</td>\n",
       "      <td>no</td>\n",
       "      <td>no</td>\n",
       "      <td>no</td>\n",
       "      <td>no</td>\n",
       "      <td>no</td>\n",
       "      <td>95.0</td>\n",
       "      <td>10</td>\n",
       "      <td>NoRisk</td>\n",
       "    </tr>\n",
       "    <tr>\n",
       "      <th>1120</th>\n",
       "      <td>0.000314</td>\n",
       "      <td>99636</td>\n",
       "      <td>TIA</td>\n",
       "      <td>no</td>\n",
       "      <td>no</td>\n",
       "      <td>no</td>\n",
       "      <td>no</td>\n",
       "      <td>yes</td>\n",
       "      <td>75.0</td>\n",
       "      <td>100</td>\n",
       "      <td>NoRisk</td>\n",
       "    </tr>\n",
       "    <tr>\n",
       "      <th>916</th>\n",
       "      <td>0.004501</td>\n",
       "      <td>281679</td>\n",
       "      <td>A-F</td>\n",
       "      <td>no</td>\n",
       "      <td>no</td>\n",
       "      <td>no</td>\n",
       "      <td>no</td>\n",
       "      <td>no</td>\n",
       "      <td>NaN</td>\n",
       "      <td>50</td>\n",
       "      <td>NoRisk</td>\n",
       "    </tr>\n",
       "    <tr>\n",
       "      <th>914</th>\n",
       "      <td>0.004501</td>\n",
       "      <td>223035</td>\n",
       "      <td>A-F</td>\n",
       "      <td>no</td>\n",
       "      <td>no</td>\n",
       "      <td>no</td>\n",
       "      <td>no</td>\n",
       "      <td>no</td>\n",
       "      <td>80.0</td>\n",
       "      <td>25</td>\n",
       "      <td>NoRisk</td>\n",
       "    </tr>\n",
       "    <tr>\n",
       "      <th>991</th>\n",
       "      <td>0.004501</td>\n",
       "      <td>178402</td>\n",
       "      <td>CVA</td>\n",
       "      <td>no</td>\n",
       "      <td>no</td>\n",
       "      <td>no</td>\n",
       "      <td>no</td>\n",
       "      <td>no</td>\n",
       "      <td>70.0</td>\n",
       "      <td>40</td>\n",
       "      <td>NoRisk</td>\n",
       "    </tr>\n",
       "    <tr>\n",
       "      <th>278</th>\n",
       "      <td>0.022231</td>\n",
       "      <td>134091</td>\n",
       "      <td>A-F</td>\n",
       "      <td>no</td>\n",
       "      <td>no</td>\n",
       "      <td>yes</td>\n",
       "      <td>yes</td>\n",
       "      <td>no</td>\n",
       "      <td>90.0</td>\n",
       "      <td>30</td>\n",
       "      <td>Risk</td>\n",
       "    </tr>\n",
       "    <tr>\n",
       "      <th>276</th>\n",
       "      <td>0.022231</td>\n",
       "      <td>89583</td>\n",
       "      <td>A-F</td>\n",
       "      <td>no</td>\n",
       "      <td>yes</td>\n",
       "      <td>no</td>\n",
       "      <td>no</td>\n",
       "      <td>no</td>\n",
       "      <td>75.0</td>\n",
       "      <td>35</td>\n",
       "      <td>NoRisk</td>\n",
       "    </tr>\n",
       "    <tr>\n",
       "      <th>244</th>\n",
       "      <td>0.024023</td>\n",
       "      <td>171350</td>\n",
       "      <td>TIA</td>\n",
       "      <td>no</td>\n",
       "      <td>yes</td>\n",
       "      <td>yes</td>\n",
       "      <td>no</td>\n",
       "      <td>no</td>\n",
       "      <td>80.0</td>\n",
       "      <td>100</td>\n",
       "      <td>Risk</td>\n",
       "    </tr>\n",
       "    <tr>\n",
       "      <th>261</th>\n",
       "      <td>0.024023</td>\n",
       "      <td>175170</td>\n",
       "      <td>TIA</td>\n",
       "      <td>no</td>\n",
       "      <td>no</td>\n",
       "      <td>no</td>\n",
       "      <td>no</td>\n",
       "      <td>no</td>\n",
       "      <td>75.0</td>\n",
       "      <td>75</td>\n",
       "      <td>NoRisk</td>\n",
       "    </tr>\n",
       "    <tr>\n",
       "      <th>13</th>\n",
       "      <td>0.025356</td>\n",
       "      <td>224025</td>\n",
       "      <td>CVA</td>\n",
       "      <td>no</td>\n",
       "      <td>yes</td>\n",
       "      <td>yes</td>\n",
       "      <td>yes</td>\n",
       "      <td>no</td>\n",
       "      <td>75.0</td>\n",
       "      <td>50</td>\n",
       "      <td>Risk</td>\n",
       "    </tr>\n",
       "    <tr>\n",
       "      <th>15</th>\n",
       "      <td>0.025356</td>\n",
       "      <td>219417</td>\n",
       "      <td>CVA</td>\n",
       "      <td>no</td>\n",
       "      <td>yes</td>\n",
       "      <td>yes</td>\n",
       "      <td>yes</td>\n",
       "      <td>no</td>\n",
       "      <td>90.0</td>\n",
       "      <td>100</td>\n",
       "      <td>Risk</td>\n",
       "    </tr>\n",
       "    <tr>\n",
       "      <th>608</th>\n",
       "      <td>0.026466</td>\n",
       "      <td>222474</td>\n",
       "      <td>CVA</td>\n",
       "      <td>no</td>\n",
       "      <td>yes</td>\n",
       "      <td>yes</td>\n",
       "      <td>yes</td>\n",
       "      <td>no</td>\n",
       "      <td>70.0</td>\n",
       "      <td>100</td>\n",
       "      <td>Risk</td>\n",
       "    </tr>\n",
       "    <tr>\n",
       "      <th>618</th>\n",
       "      <td>0.026466</td>\n",
       "      <td>115285</td>\n",
       "      <td>A-F</td>\n",
       "      <td>no</td>\n",
       "      <td>yes</td>\n",
       "      <td>yes</td>\n",
       "      <td>no</td>\n",
       "      <td>no</td>\n",
       "      <td>80.0</td>\n",
       "      <td>10</td>\n",
       "      <td>NoRisk</td>\n",
       "    </tr>\n",
       "    <tr>\n",
       "      <th>1086</th>\n",
       "      <td>0.026874</td>\n",
       "      <td>157773</td>\n",
       "      <td>Asx</td>\n",
       "      <td>no</td>\n",
       "      <td>yes</td>\n",
       "      <td>yes</td>\n",
       "      <td>yes</td>\n",
       "      <td>no</td>\n",
       "      <td>80.0</td>\n",
       "      <td>53</td>\n",
       "      <td>Risk</td>\n",
       "    </tr>\n",
       "    <tr>\n",
       "      <th>1084</th>\n",
       "      <td>0.026874</td>\n",
       "      <td>234393</td>\n",
       "      <td>TIA</td>\n",
       "      <td>no</td>\n",
       "      <td>no</td>\n",
       "      <td>no</td>\n",
       "      <td>no</td>\n",
       "      <td>no</td>\n",
       "      <td>71.0</td>\n",
       "      <td>30</td>\n",
       "      <td>NoRisk</td>\n",
       "    </tr>\n",
       "    <tr>\n",
       "      <th>1074</th>\n",
       "      <td>0.055136</td>\n",
       "      <td>163765</td>\n",
       "      <td>CVA</td>\n",
       "      <td>no</td>\n",
       "      <td>no</td>\n",
       "      <td>no</td>\n",
       "      <td>yes</td>\n",
       "      <td>yes</td>\n",
       "      <td>99.0</td>\n",
       "      <td>100</td>\n",
       "      <td>Risk</td>\n",
       "    </tr>\n",
       "    <tr>\n",
       "      <th>1072</th>\n",
       "      <td>0.055136</td>\n",
       "      <td>193096</td>\n",
       "      <td>CVA</td>\n",
       "      <td>no</td>\n",
       "      <td>yes</td>\n",
       "      <td>yes</td>\n",
       "      <td>yes</td>\n",
       "      <td>no</td>\n",
       "      <td>70.0</td>\n",
       "      <td>100</td>\n",
       "      <td>Risk</td>\n",
       "    </tr>\n",
       "    <tr>\n",
       "      <th>694</th>\n",
       "      <td>0.061611</td>\n",
       "      <td>276501</td>\n",
       "      <td>ASx</td>\n",
       "      <td>no</td>\n",
       "      <td>yes</td>\n",
       "      <td>no</td>\n",
       "      <td>no</td>\n",
       "      <td>no</td>\n",
       "      <td>76.0</td>\n",
       "      <td>30</td>\n",
       "      <td>NoRisk</td>\n",
       "    </tr>\n",
       "    <tr>\n",
       "      <th>688</th>\n",
       "      <td>0.061611</td>\n",
       "      <td>254686</td>\n",
       "      <td>ASx</td>\n",
       "      <td>no</td>\n",
       "      <td>no</td>\n",
       "      <td>no</td>\n",
       "      <td>no</td>\n",
       "      <td>no</td>\n",
       "      <td>95.0</td>\n",
       "      <td>10</td>\n",
       "      <td>NoRisk</td>\n",
       "    </tr>\n",
       "    <tr>\n",
       "      <th>1060</th>\n",
       "      <td>0.063159</td>\n",
       "      <td>154051</td>\n",
       "      <td>TIA</td>\n",
       "      <td>no</td>\n",
       "      <td>no</td>\n",
       "      <td>no</td>\n",
       "      <td>no</td>\n",
       "      <td>no</td>\n",
       "      <td>90.0</td>\n",
       "      <td>90</td>\n",
       "      <td>NoRisk</td>\n",
       "    </tr>\n",
       "    <tr>\n",
       "      <th>1062</th>\n",
       "      <td>0.063159</td>\n",
       "      <td>163118</td>\n",
       "      <td>TIA</td>\n",
       "      <td>no</td>\n",
       "      <td>no</td>\n",
       "      <td>no</td>\n",
       "      <td>no</td>\n",
       "      <td>no</td>\n",
       "      <td>50.0</td>\n",
       "      <td>40</td>\n",
       "      <td>NoRisk</td>\n",
       "    </tr>\n",
       "    <tr>\n",
       "      <th>262</th>\n",
       "      <td>0.063693</td>\n",
       "      <td>234112</td>\n",
       "      <td>A-F</td>\n",
       "      <td>no</td>\n",
       "      <td>yes</td>\n",
       "      <td>no</td>\n",
       "      <td>no</td>\n",
       "      <td>yes</td>\n",
       "      <td>80.0</td>\n",
       "      <td>50</td>\n",
       "      <td>Risk</td>\n",
       "    </tr>\n",
       "    <tr>\n",
       "      <th>260</th>\n",
       "      <td>0.063693</td>\n",
       "      <td>171463</td>\n",
       "      <td>TIA</td>\n",
       "      <td>no</td>\n",
       "      <td>yes</td>\n",
       "      <td>yes</td>\n",
       "      <td>no</td>\n",
       "      <td>no</td>\n",
       "      <td>75.0</td>\n",
       "      <td>50</td>\n",
       "      <td>NoRisk</td>\n",
       "    </tr>\n",
       "    <tr>\n",
       "      <th>272</th>\n",
       "      <td>0.064520</td>\n",
       "      <td>85100</td>\n",
       "      <td>A-F</td>\n",
       "      <td>no</td>\n",
       "      <td>yes</td>\n",
       "      <td>no</td>\n",
       "      <td>yes</td>\n",
       "      <td>yes</td>\n",
       "      <td>90.0</td>\n",
       "      <td>50</td>\n",
       "      <td>Risk</td>\n",
       "    </tr>\n",
       "    <tr>\n",
       "      <th>274</th>\n",
       "      <td>0.064520</td>\n",
       "      <td>293544</td>\n",
       "      <td>CVA</td>\n",
       "      <td>no</td>\n",
       "      <td>no</td>\n",
       "      <td>yes</td>\n",
       "      <td>no</td>\n",
       "      <td>no</td>\n",
       "      <td>70.0</td>\n",
       "      <td>20</td>\n",
       "      <td>NoRisk</td>\n",
       "    </tr>\n",
       "    <tr>\n",
       "      <th>460</th>\n",
       "      <td>0.065549</td>\n",
       "      <td>88086</td>\n",
       "      <td>ASx</td>\n",
       "      <td>no</td>\n",
       "      <td>yes</td>\n",
       "      <td>no</td>\n",
       "      <td>no</td>\n",
       "      <td>no</td>\n",
       "      <td>73.0</td>\n",
       "      <td>20</td>\n",
       "      <td>NoRisk</td>\n",
       "    </tr>\n",
       "    <tr>\n",
       "      <th>478</th>\n",
       "      <td>0.065549</td>\n",
       "      <td>242888</td>\n",
       "      <td>CVA</td>\n",
       "      <td>no</td>\n",
       "      <td>yes</td>\n",
       "      <td>yes</td>\n",
       "      <td>yes</td>\n",
       "      <td>no</td>\n",
       "      <td>75.0</td>\n",
       "      <td>50</td>\n",
       "      <td>Risk</td>\n",
       "    </tr>\n",
       "    <tr>\n",
       "      <th>16</th>\n",
       "      <td>0.065821</td>\n",
       "      <td>275149</td>\n",
       "      <td>ASx</td>\n",
       "      <td>no</td>\n",
       "      <td>yes</td>\n",
       "      <td>yes</td>\n",
       "      <td>yes</td>\n",
       "      <td>no</td>\n",
       "      <td>90.0</td>\n",
       "      <td>100</td>\n",
       "      <td>Risk</td>\n",
       "    </tr>\n",
       "    <tr>\n",
       "      <th>19</th>\n",
       "      <td>0.065821</td>\n",
       "      <td>101248</td>\n",
       "      <td>ASx</td>\n",
       "      <td>yes</td>\n",
       "      <td>no</td>\n",
       "      <td>yes</td>\n",
       "      <td>no</td>\n",
       "      <td>no</td>\n",
       "      <td>80.0</td>\n",
       "      <td>80</td>\n",
       "      <td>Risk</td>\n",
       "    </tr>\n",
       "    <tr>\n",
       "      <th>642</th>\n",
       "      <td>0.066603</td>\n",
       "      <td>202357</td>\n",
       "      <td>TIA</td>\n",
       "      <td>no</td>\n",
       "      <td>no</td>\n",
       "      <td>no</td>\n",
       "      <td>no</td>\n",
       "      <td>no</td>\n",
       "      <td>75.0</td>\n",
       "      <td>75</td>\n",
       "      <td>NoRisk</td>\n",
       "    </tr>\n",
       "  </tbody>\n",
       "</table>\n",
       "</div>"
      ],
      "text/plain": [
       "        Random      Id Indication Diabetes  IHD Hypertension Arrhythmia  \\\n",
       "1122  0.000314  102033        ASx       no   no           no         no   \n",
       "1120  0.000314   99636        TIA       no   no           no         no   \n",
       "916   0.004501  281679        A-F       no   no           no         no   \n",
       "914   0.004501  223035        A-F       no   no           no         no   \n",
       "991   0.004501  178402        CVA       no   no           no         no   \n",
       "278   0.022231  134091        A-F       no   no          yes        yes   \n",
       "276   0.022231   89583        A-F       no  yes           no         no   \n",
       "244   0.024023  171350        TIA       no  yes          yes         no   \n",
       "261   0.024023  175170        TIA       no   no           no         no   \n",
       "13    0.025356  224025        CVA       no  yes          yes        yes   \n",
       "15    0.025356  219417        CVA       no  yes          yes        yes   \n",
       "608   0.026466  222474        CVA       no  yes          yes        yes   \n",
       "618   0.026466  115285        A-F       no  yes          yes         no   \n",
       "1086  0.026874  157773        Asx       no  yes          yes        yes   \n",
       "1084  0.026874  234393        TIA       no   no           no         no   \n",
       "1074  0.055136  163765        CVA       no   no           no        yes   \n",
       "1072  0.055136  193096        CVA       no  yes          yes        yes   \n",
       "694   0.061611  276501        ASx       no  yes           no         no   \n",
       "688   0.061611  254686        ASx       no   no           no         no   \n",
       "1060  0.063159  154051        TIA       no   no           no         no   \n",
       "1062  0.063159  163118        TIA       no   no           no         no   \n",
       "262   0.063693  234112        A-F       no  yes           no         no   \n",
       "260   0.063693  171463        TIA       no  yes          yes         no   \n",
       "272   0.064520   85100        A-F       no  yes           no        yes   \n",
       "274   0.064520  293544        CVA       no   no          yes         no   \n",
       "460   0.065549   88086        ASx       no  yes           no         no   \n",
       "478   0.065549  242888        CVA       no  yes          yes        yes   \n",
       "16    0.065821  275149        ASx       no  yes          yes        yes   \n",
       "19    0.065821  101248        ASx      yes   no          yes         no   \n",
       "642   0.066603  202357        TIA       no   no           no         no   \n",
       "\n",
       "     History  IPSI Contra   label  \n",
       "1122      no  95.0    10   NoRisk  \n",
       "1120     yes  75.0   100   NoRisk  \n",
       "916       no   NaN     50  NoRisk  \n",
       "914       no  80.0    25   NoRisk  \n",
       "991       no  70.0    40   NoRisk  \n",
       "278       no  90.0     30    Risk  \n",
       "276       no  75.0    35   NoRisk  \n",
       "244       no  80.0    100    Risk  \n",
       "261       no  75.0    75   NoRisk  \n",
       "13        no  75.0     50    Risk  \n",
       "15        no  90.0    100    Risk  \n",
       "608       no  70.0    100    Risk  \n",
       "618       no  80.0    10   NoRisk  \n",
       "1086      no  80.0     53    Risk  \n",
       "1084      no  71.0    30   NoRisk  \n",
       "1074     yes  99.0    100    Risk  \n",
       "1072      no  70.0    100    Risk  \n",
       "694       no  76.0    30   NoRisk  \n",
       "688       no  95.0    10   NoRisk  \n",
       "1060      no  90.0    90   NoRisk  \n",
       "1062      no  50.0    40   NoRisk  \n",
       "262      yes  80.0     50    Risk  \n",
       "260       no  75.0    50   NoRisk  \n",
       "272      yes  90.0     50    Risk  \n",
       "274       no  70.0    20   NoRisk  \n",
       "460       no  73.0    20   NoRisk  \n",
       "478       no  75.0     50    Risk  \n",
       "16        no  90.0    100    Risk  \n",
       "19        no  80.0     80    Risk  \n",
       "642       no  75.0    75   NoRisk  "
      ]
     },
     "execution_count": 10,
     "metadata": {},
     "output_type": "execute_result"
    }
   ],
   "source": [
    "duplicated = data_copy['Random'].duplicated(keep=False)\n",
    "data_copy[duplicated].sort_values(by=['Random']).head(30) # we can see the duplicated random records are unique"
   ]
  },
  {
   "cell_type": "code",
   "execution_count": 11,
   "metadata": {},
   "outputs": [],
   "source": [
    "data_copy.set_index('Id',inplace=True,verify_integrity=True) # setting unique index as Id is unique"
   ]
  },
  {
   "cell_type": "code",
   "execution_count": 12,
   "metadata": {},
   "outputs": [],
   "source": [
    "data.set_index('Id',inplace=True,verify_integrity=True) # setting unique index as Id is unique for reference"
   ]
  },
  {
   "cell_type": "code",
   "execution_count": 13,
   "metadata": {},
   "outputs": [
    {
     "data": {
      "text/plain": [
       "Random          float64\n",
       "Indication       object\n",
       "Diabetes         object\n",
       "IHD              object\n",
       "Hypertension     object\n",
       "Arrhythmia       object\n",
       "History          object\n",
       "IPSI            float64\n",
       "Contra          float64\n",
       "label            object\n",
       "dtype: object"
      ]
     },
     "execution_count": 13,
     "metadata": {},
     "output_type": "execute_result"
    }
   ],
   "source": [
    "data_copy['Contra'] = pd.to_numeric(data_copy['Contra'],errors='coerce') # convert conta to numberic values replacing invalid with NaNs\n",
    "data_copy.dtypes # conta now numeric "
   ]
  },
  {
   "cell_type": "code",
   "execution_count": 14,
   "metadata": {},
   "outputs": [
    {
     "data": {
      "text/plain": [
       "array(['NoRisk', 'Risk', 'Unknown', nan], dtype=object)"
      ]
     },
     "execution_count": 14,
     "metadata": {},
     "output_type": "execute_result"
    }
   ],
   "source": [
    "data_copy['label'].unique() # only 2 possible values"
   ]
  },
  {
   "cell_type": "code",
   "execution_count": 15,
   "metadata": {},
   "outputs": [],
   "source": [
    "data_copy[\"label\"] = data_copy['label'].replace('Unknown',np.nan)"
   ]
  },
  {
   "cell_type": "code",
   "execution_count": 16,
   "metadata": {},
   "outputs": [
    {
     "data": {
      "text/plain": [
       "array(['NoRisk', 'Risk', nan], dtype=object)"
      ]
     },
     "execution_count": 16,
     "metadata": {},
     "output_type": "execute_result"
    }
   ],
   "source": [
    "data_copy['label'].unique()"
   ]
  },
  {
   "cell_type": "code",
   "execution_count": 17,
   "metadata": {},
   "outputs": [
    {
     "data": {
      "text/plain": [
       "array(['A-F', 'TIA', 'CVA', 'ASx', 'Asx', nan], dtype=object)"
      ]
     },
     "execution_count": 17,
     "metadata": {},
     "output_type": "execute_result"
    }
   ],
   "source": [
    "data_copy['Indication'].unique()  # Data Decription says only 4 possible values"
   ]
  },
  {
   "cell_type": "code",
   "execution_count": 18,
   "metadata": {},
   "outputs": [],
   "source": [
    "data_copy['Indication'] = data_copy['Indication'].replace('Asx','ASX')\n",
    "data_copy['Indication'] = data_copy['Indication'].replace('ASx','ASX')"
   ]
  },
  {
   "cell_type": "code",
   "execution_count": 19,
   "metadata": {},
   "outputs": [
    {
     "data": {
      "text/plain": [
       "array(['A-F', 'TIA', 'CVA', 'ASX', nan], dtype=object)"
      ]
     },
     "execution_count": 19,
     "metadata": {},
     "output_type": "execute_result"
    }
   ],
   "source": [
    "data_copy['Indication'].unique()"
   ]
  },
  {
   "cell_type": "code",
   "execution_count": 20,
   "metadata": {},
   "outputs": [
    {
     "name": "stdout",
     "output_type": "stream",
     "text": [
      "Indication      3\n",
      "Diabetes        2\n",
      "Hypertension    3\n",
      "History         2\n",
      "IPSI            4\n",
      "Contra          1\n",
      "label           5\n",
      "dtype: int64\n",
      "total  20\n",
      "Percent 1.32%\n"
     ]
    },
    {
     "data": {
      "image/png": "[encoded data removed]",
      "text/plain": [
       "<Figure size 432x288 with 1 Axes>"
      ]
     },
     "metadata": {},
     "output_type": "display_data"
    }
   ],
   "source": [
    "null_headings = data_copy.isnull().any()\n",
    "null_columns = data_copy.columns[null_headings]\n",
    "null_column_count = data_copy[null_columns].isnull().sum() \n",
    "# find the number of null values in each column\n",
    "total_null = null_column_count.sum()\n",
    "print(null_column_count)\n",
    "print(f\"total  {total_null}\") # total records containing null values\n",
    "percent = (total_null/len(data_copy.index))*100\n",
    "print(f\"Percent {percent:.3}%\") #  20 records contain null\n",
    "\n",
    "labels = ['total','null']\n",
    "values = [len(data_copy.index),total_null]\n",
    "fig1, ax1 = plt.subplots()\n",
    "ax1.pie(values, labels=labels, autopct='%1.1f%%', startangle=90)\n",
    "ax1.axis('equal')  \n",
    "plt.tight_layout()\n",
    "plt.show()\n"
   ]
  },
  {
   "cell_type": "code",
   "execution_count": 21,
   "metadata": {},
   "outputs": [
    {
     "data": {
      "text/html": [
       "<div>\n",
       "<style scoped>\n",
       "    .dataframe tbody tr th:only-of-type {\n",
       "        vertical-align: middle;\n",
       "    }\n",
       "\n",
       "    .dataframe tbody tr th {\n",
       "        vertical-align: top;\n",
       "    }\n",
       "\n",
       "    .dataframe thead th {\n",
       "        text-align: right;\n",
       "    }\n",
       "</style>\n",
       "<table border=\"1\" class=\"dataframe\">\n",
       "  <thead>\n",
       "    <tr style=\"text-align: right;\">\n",
       "      <th></th>\n",
       "      <th>Random</th>\n",
       "      <th>Indication</th>\n",
       "      <th>Diabetes</th>\n",
       "      <th>IHD</th>\n",
       "      <th>Hypertension</th>\n",
       "      <th>Arrhythmia</th>\n",
       "      <th>History</th>\n",
       "      <th>IPSI</th>\n",
       "      <th>Contra</th>\n",
       "      <th>label</th>\n",
       "    </tr>\n",
       "  </thead>\n",
       "  <tbody>\n",
       "    <tr>\n",
       "      <th>261060</th>\n",
       "      <td>0.648122</td>\n",
       "      <td>NaN</td>\n",
       "      <td>no</td>\n",
       "      <td>yes</td>\n",
       "      <td>yes</td>\n",
       "      <td>no</td>\n",
       "      <td>no</td>\n",
       "      <td>70.0</td>\n",
       "      <td>40.0</td>\n",
       "      <td>NoRisk</td>\n",
       "    </tr>\n",
       "    <tr>\n",
       "      <th>205845</th>\n",
       "      <td>0.211760</td>\n",
       "      <td>NaN</td>\n",
       "      <td>no</td>\n",
       "      <td>yes</td>\n",
       "      <td>no</td>\n",
       "      <td>no</td>\n",
       "      <td>no</td>\n",
       "      <td>80.0</td>\n",
       "      <td>100.0</td>\n",
       "      <td>Risk</td>\n",
       "    </tr>\n",
       "    <tr>\n",
       "      <th>256076</th>\n",
       "      <td>0.761219</td>\n",
       "      <td>NaN</td>\n",
       "      <td>no</td>\n",
       "      <td>no</td>\n",
       "      <td>no</td>\n",
       "      <td>yes</td>\n",
       "      <td>yes</td>\n",
       "      <td>99.0</td>\n",
       "      <td>100.0</td>\n",
       "      <td>Risk</td>\n",
       "    </tr>\n",
       "    <tr>\n",
       "      <th>224257</th>\n",
       "      <td>0.681744</td>\n",
       "      <td>CVA</td>\n",
       "      <td>NaN</td>\n",
       "      <td>yes</td>\n",
       "      <td>yes</td>\n",
       "      <td>yes</td>\n",
       "      <td>no</td>\n",
       "      <td>90.0</td>\n",
       "      <td>100.0</td>\n",
       "      <td>Risk</td>\n",
       "    </tr>\n",
       "    <tr>\n",
       "      <th>210861</th>\n",
       "      <td>0.392130</td>\n",
       "      <td>A-F</td>\n",
       "      <td>NaN</td>\n",
       "      <td>no</td>\n",
       "      <td>yes</td>\n",
       "      <td>no</td>\n",
       "      <td>no</td>\n",
       "      <td>80.0</td>\n",
       "      <td>40.0</td>\n",
       "      <td>NoRisk</td>\n",
       "    </tr>\n",
       "    <tr>\n",
       "      <th>240232</th>\n",
       "      <td>0.388790</td>\n",
       "      <td>CVA</td>\n",
       "      <td>yes</td>\n",
       "      <td>no</td>\n",
       "      <td>NaN</td>\n",
       "      <td>yes</td>\n",
       "      <td>no</td>\n",
       "      <td>95.0</td>\n",
       "      <td>90.0</td>\n",
       "      <td>Risk</td>\n",
       "    </tr>\n",
       "    <tr>\n",
       "      <th>289096</th>\n",
       "      <td>0.707950</td>\n",
       "      <td>A-F</td>\n",
       "      <td>no</td>\n",
       "      <td>no</td>\n",
       "      <td>NaN</td>\n",
       "      <td>no</td>\n",
       "      <td>no</td>\n",
       "      <td>78.0</td>\n",
       "      <td>30.0</td>\n",
       "      <td>NoRisk</td>\n",
       "    </tr>\n",
       "    <tr>\n",
       "      <th>158024</th>\n",
       "      <td>0.319215</td>\n",
       "      <td>TIA</td>\n",
       "      <td>no</td>\n",
       "      <td>no</td>\n",
       "      <td>NaN</td>\n",
       "      <td>no</td>\n",
       "      <td>no</td>\n",
       "      <td>75.0</td>\n",
       "      <td>75.0</td>\n",
       "      <td>NoRisk</td>\n",
       "    </tr>\n",
       "    <tr>\n",
       "      <th>260770</th>\n",
       "      <td>0.617072</td>\n",
       "      <td>CVA</td>\n",
       "      <td>no</td>\n",
       "      <td>yes</td>\n",
       "      <td>no</td>\n",
       "      <td>no</td>\n",
       "      <td>NaN</td>\n",
       "      <td>85.0</td>\n",
       "      <td>50.0</td>\n",
       "      <td>NoRisk</td>\n",
       "    </tr>\n",
       "    <tr>\n",
       "      <th>196483</th>\n",
       "      <td>0.243645</td>\n",
       "      <td>CVA</td>\n",
       "      <td>no</td>\n",
       "      <td>no</td>\n",
       "      <td>yes</td>\n",
       "      <td>yes</td>\n",
       "      <td>NaN</td>\n",
       "      <td>95.0</td>\n",
       "      <td>100.0</td>\n",
       "      <td>Risk</td>\n",
       "    </tr>\n",
       "    <tr>\n",
       "      <th>227779</th>\n",
       "      <td>0.283872</td>\n",
       "      <td>A-F</td>\n",
       "      <td>no</td>\n",
       "      <td>no</td>\n",
       "      <td>no</td>\n",
       "      <td>no</td>\n",
       "      <td>no</td>\n",
       "      <td>NaN</td>\n",
       "      <td>100.0</td>\n",
       "      <td>Risk</td>\n",
       "    </tr>\n",
       "    <tr>\n",
       "      <th>146415</th>\n",
       "      <td>0.243518</td>\n",
       "      <td>CVA</td>\n",
       "      <td>no</td>\n",
       "      <td>yes</td>\n",
       "      <td>yes</td>\n",
       "      <td>yes</td>\n",
       "      <td>no</td>\n",
       "      <td>NaN</td>\n",
       "      <td>100.0</td>\n",
       "      <td>Risk</td>\n",
       "    </tr>\n",
       "    <tr>\n",
       "      <th>104176</th>\n",
       "      <td>0.920096</td>\n",
       "      <td>CVA</td>\n",
       "      <td>no</td>\n",
       "      <td>no</td>\n",
       "      <td>no</td>\n",
       "      <td>no</td>\n",
       "      <td>no</td>\n",
       "      <td>NaN</td>\n",
       "      <td>20.0</td>\n",
       "      <td>NoRisk</td>\n",
       "    </tr>\n",
       "    <tr>\n",
       "      <th>281679</th>\n",
       "      <td>0.004501</td>\n",
       "      <td>A-F</td>\n",
       "      <td>no</td>\n",
       "      <td>no</td>\n",
       "      <td>no</td>\n",
       "      <td>no</td>\n",
       "      <td>no</td>\n",
       "      <td>NaN</td>\n",
       "      <td>50.0</td>\n",
       "      <td>NoRisk</td>\n",
       "    </tr>\n",
       "    <tr>\n",
       "      <th>254469</th>\n",
       "      <td>0.518558</td>\n",
       "      <td>ASX</td>\n",
       "      <td>no</td>\n",
       "      <td>no</td>\n",
       "      <td>yes</td>\n",
       "      <td>no</td>\n",
       "      <td>no</td>\n",
       "      <td>70.0</td>\n",
       "      <td>NaN</td>\n",
       "      <td>NoRisk</td>\n",
       "    </tr>\n",
       "    <tr>\n",
       "      <th>173791</th>\n",
       "      <td>0.298074</td>\n",
       "      <td>ASX</td>\n",
       "      <td>no</td>\n",
       "      <td>yes</td>\n",
       "      <td>yes</td>\n",
       "      <td>no</td>\n",
       "      <td>no</td>\n",
       "      <td>70.0</td>\n",
       "      <td>55.0</td>\n",
       "      <td>NaN</td>\n",
       "    </tr>\n",
       "    <tr>\n",
       "      <th>283846</th>\n",
       "      <td>0.460170</td>\n",
       "      <td>CVA</td>\n",
       "      <td>no</td>\n",
       "      <td>no</td>\n",
       "      <td>yes</td>\n",
       "      <td>yes</td>\n",
       "      <td>no</td>\n",
       "      <td>95.0</td>\n",
       "      <td>100.0</td>\n",
       "      <td>NaN</td>\n",
       "    </tr>\n",
       "    <tr>\n",
       "      <th>190671</th>\n",
       "      <td>0.756938</td>\n",
       "      <td>CVA</td>\n",
       "      <td>no</td>\n",
       "      <td>yes</td>\n",
       "      <td>yes</td>\n",
       "      <td>no</td>\n",
       "      <td>no</td>\n",
       "      <td>76.0</td>\n",
       "      <td>50.0</td>\n",
       "      <td>NaN</td>\n",
       "    </tr>\n",
       "    <tr>\n",
       "      <th>165432</th>\n",
       "      <td>0.923418</td>\n",
       "      <td>CVA</td>\n",
       "      <td>no</td>\n",
       "      <td>yes</td>\n",
       "      <td>yes</td>\n",
       "      <td>yes</td>\n",
       "      <td>no</td>\n",
       "      <td>80.0</td>\n",
       "      <td>70.0</td>\n",
       "      <td>NaN</td>\n",
       "    </tr>\n",
       "    <tr>\n",
       "      <th>169726</th>\n",
       "      <td>0.813102</td>\n",
       "      <td>TIA</td>\n",
       "      <td>yes</td>\n",
       "      <td>no</td>\n",
       "      <td>no</td>\n",
       "      <td>no</td>\n",
       "      <td>yes</td>\n",
       "      <td>90.0</td>\n",
       "      <td>50.0</td>\n",
       "      <td>NaN</td>\n",
       "    </tr>\n",
       "  </tbody>\n",
       "</table>\n",
       "</div>"
      ],
      "text/plain": [
       "          Random Indication Diabetes  IHD Hypertension Arrhythmia History  \\\n",
       "261060  0.648122        NaN       no  yes          yes         no      no   \n",
       "205845  0.211760        NaN       no  yes           no         no      no   \n",
       "256076  0.761219        NaN       no   no           no        yes     yes   \n",
       "224257  0.681744        CVA      NaN  yes          yes        yes      no   \n",
       "210861  0.392130        A-F      NaN   no          yes         no      no   \n",
       "240232  0.388790        CVA      yes   no          NaN        yes      no   \n",
       "289096  0.707950        A-F       no   no          NaN         no      no   \n",
       "158024  0.319215        TIA       no   no          NaN         no      no   \n",
       "260770  0.617072        CVA       no  yes           no         no     NaN   \n",
       "196483  0.243645        CVA       no   no          yes        yes     NaN   \n",
       "227779  0.283872        A-F       no   no           no         no      no   \n",
       "146415  0.243518        CVA       no  yes          yes        yes      no   \n",
       "104176  0.920096        CVA       no   no           no         no      no   \n",
       "281679  0.004501        A-F       no   no           no         no      no   \n",
       "254469  0.518558        ASX       no   no          yes         no      no   \n",
       "173791  0.298074        ASX       no  yes          yes         no      no   \n",
       "283846  0.460170        CVA       no   no          yes        yes      no   \n",
       "190671  0.756938        CVA       no  yes          yes         no      no   \n",
       "165432  0.923418        CVA       no  yes          yes        yes      no   \n",
       "169726  0.813102        TIA      yes   no           no         no     yes   \n",
       "\n",
       "        IPSI  Contra   label  \n",
       "261060  70.0    40.0  NoRisk  \n",
       "205845  80.0   100.0    Risk  \n",
       "256076  99.0   100.0    Risk  \n",
       "224257  90.0   100.0    Risk  \n",
       "210861  80.0    40.0  NoRisk  \n",
       "240232  95.0    90.0    Risk  \n",
       "289096  78.0    30.0  NoRisk  \n",
       "158024  75.0    75.0  NoRisk  \n",
       "260770  85.0    50.0  NoRisk  \n",
       "196483  95.0   100.0    Risk  \n",
       "227779   NaN   100.0    Risk  \n",
       "146415   NaN   100.0    Risk  \n",
       "104176   NaN    20.0  NoRisk  \n",
       "281679   NaN    50.0  NoRisk  \n",
       "254469  70.0     NaN  NoRisk  \n",
       "173791  70.0    55.0     NaN  \n",
       "283846  95.0   100.0     NaN  \n",
       "190671  76.0    50.0     NaN  \n",
       "165432  80.0    70.0     NaN  \n",
       "169726  90.0    50.0     NaN  "
      ]
     },
     "execution_count": 21,
     "metadata": {},
     "output_type": "execute_result"
    }
   ],
   "source": [
    "null_records = pd.DataFrame(columns=data_copy.columns)\n",
    "for headings in null_columns:\n",
    "    null_records = null_records.append(data_copy[data_copy[headings].isnull()]) #append all records with null values to dataframe\n",
    "null_records # show all null records"
   ]
  },
  {
   "cell_type": "code",
   "execution_count": 22,
   "metadata": {},
   "outputs": [
    {
     "data": {
      "text/plain": [
       "Random          0.518558\n",
       "Indication           ASx\n",
       "Diabetes              no\n",
       "IHD                   no\n",
       "Hypertension         yes\n",
       "Arrhythmia            no\n",
       "History               no\n",
       "IPSI                  70\n",
       "Contra                  \n",
       "label             NoRisk\n",
       "Name: 254469, dtype: object"
      ]
     },
     "execution_count": 22,
     "metadata": {},
     "output_type": "execute_result"
    }
   ],
   "source": [
    "data.loc[254469] # check what contra was before replacement"
   ]
  },
  {
   "cell_type": "code",
   "execution_count": 23,
   "metadata": {},
   "outputs": [],
   "source": [
    "data_copy.dropna(inplace=True) # drop na and nan records"
   ]
  },
  {
   "cell_type": "code",
   "execution_count": 24,
   "metadata": {},
   "outputs": [
    {
     "data": {
      "text/html": [
       "<div>\n",
       "<style scoped>\n",
       "    .dataframe tbody tr th:only-of-type {\n",
       "        vertical-align: middle;\n",
       "    }\n",
       "\n",
       "    .dataframe tbody tr th {\n",
       "        vertical-align: top;\n",
       "    }\n",
       "\n",
       "    .dataframe thead th {\n",
       "        text-align: right;\n",
       "    }\n",
       "</style>\n",
       "<table border=\"1\" class=\"dataframe\">\n",
       "  <thead>\n",
       "    <tr style=\"text-align: right;\">\n",
       "      <th></th>\n",
       "      <th>Random</th>\n",
       "      <th>Indication</th>\n",
       "      <th>Diabetes</th>\n",
       "      <th>IHD</th>\n",
       "      <th>Hypertension</th>\n",
       "      <th>Arrhythmia</th>\n",
       "      <th>History</th>\n",
       "      <th>IPSI</th>\n",
       "      <th>Contra</th>\n",
       "      <th>label</th>\n",
       "    </tr>\n",
       "  </thead>\n",
       "  <tbody>\n",
       "    <tr>\n",
       "      <th>count</th>\n",
       "      <td>1500.000000</td>\n",
       "      <td>1500</td>\n",
       "      <td>1500</td>\n",
       "      <td>1500</td>\n",
       "      <td>1500</td>\n",
       "      <td>1500</td>\n",
       "      <td>1500</td>\n",
       "      <td>1500.000000</td>\n",
       "      <td>1500.000000</td>\n",
       "      <td>1500</td>\n",
       "    </tr>\n",
       "    <tr>\n",
       "      <th>unique</th>\n",
       "      <td>NaN</td>\n",
       "      <td>4</td>\n",
       "      <td>2</td>\n",
       "      <td>2</td>\n",
       "      <td>2</td>\n",
       "      <td>2</td>\n",
       "      <td>2</td>\n",
       "      <td>NaN</td>\n",
       "      <td>NaN</td>\n",
       "      <td>2</td>\n",
       "    </tr>\n",
       "    <tr>\n",
       "      <th>top</th>\n",
       "      <td>NaN</td>\n",
       "      <td>A-F</td>\n",
       "      <td>no</td>\n",
       "      <td>no</td>\n",
       "      <td>no</td>\n",
       "      <td>no</td>\n",
       "      <td>no</td>\n",
       "      <td>NaN</td>\n",
       "      <td>NaN</td>\n",
       "      <td>NoRisk</td>\n",
       "    </tr>\n",
       "    <tr>\n",
       "      <th>freq</th>\n",
       "      <td>NaN</td>\n",
       "      <td>489</td>\n",
       "      <td>1425</td>\n",
       "      <td>789</td>\n",
       "      <td>777</td>\n",
       "      <td>1177</td>\n",
       "      <td>1478</td>\n",
       "      <td>NaN</td>\n",
       "      <td>NaN</td>\n",
       "      <td>1000</td>\n",
       "    </tr>\n",
       "    <tr>\n",
       "      <th>mean</th>\n",
       "      <td>0.509543</td>\n",
       "      <td>NaN</td>\n",
       "      <td>NaN</td>\n",
       "      <td>NaN</td>\n",
       "      <td>NaN</td>\n",
       "      <td>NaN</td>\n",
       "      <td>NaN</td>\n",
       "      <td>78.828000</td>\n",
       "      <td>56.668000</td>\n",
       "      <td>NaN</td>\n",
       "    </tr>\n",
       "    <tr>\n",
       "      <th>std</th>\n",
       "      <td>0.284369</td>\n",
       "      <td>NaN</td>\n",
       "      <td>NaN</td>\n",
       "      <td>NaN</td>\n",
       "      <td>NaN</td>\n",
       "      <td>NaN</td>\n",
       "      <td>NaN</td>\n",
       "      <td>10.159555</td>\n",
       "      <td>29.524977</td>\n",
       "      <td>NaN</td>\n",
       "    </tr>\n",
       "    <tr>\n",
       "      <th>min</th>\n",
       "      <td>0.000295</td>\n",
       "      <td>NaN</td>\n",
       "      <td>NaN</td>\n",
       "      <td>NaN</td>\n",
       "      <td>NaN</td>\n",
       "      <td>NaN</td>\n",
       "      <td>NaN</td>\n",
       "      <td>35.000000</td>\n",
       "      <td>10.000000</td>\n",
       "      <td>NaN</td>\n",
       "    </tr>\n",
       "    <tr>\n",
       "      <th>25%</th>\n",
       "      <td>0.267899</td>\n",
       "      <td>NaN</td>\n",
       "      <td>NaN</td>\n",
       "      <td>NaN</td>\n",
       "      <td>NaN</td>\n",
       "      <td>NaN</td>\n",
       "      <td>NaN</td>\n",
       "      <td>73.000000</td>\n",
       "      <td>30.000000</td>\n",
       "      <td>NaN</td>\n",
       "    </tr>\n",
       "    <tr>\n",
       "      <th>50%</th>\n",
       "      <td>0.517616</td>\n",
       "      <td>NaN</td>\n",
       "      <td>NaN</td>\n",
       "      <td>NaN</td>\n",
       "      <td>NaN</td>\n",
       "      <td>NaN</td>\n",
       "      <td>NaN</td>\n",
       "      <td>77.000000</td>\n",
       "      <td>50.000000</td>\n",
       "      <td>NaN</td>\n",
       "    </tr>\n",
       "    <tr>\n",
       "      <th>75%</th>\n",
       "      <td>0.754724</td>\n",
       "      <td>NaN</td>\n",
       "      <td>NaN</td>\n",
       "      <td>NaN</td>\n",
       "      <td>NaN</td>\n",
       "      <td>NaN</td>\n",
       "      <td>NaN</td>\n",
       "      <td>85.000000</td>\n",
       "      <td>85.000000</td>\n",
       "      <td>NaN</td>\n",
       "    </tr>\n",
       "    <tr>\n",
       "      <th>max</th>\n",
       "      <td>0.999448</td>\n",
       "      <td>NaN</td>\n",
       "      <td>NaN</td>\n",
       "      <td>NaN</td>\n",
       "      <td>NaN</td>\n",
       "      <td>NaN</td>\n",
       "      <td>NaN</td>\n",
       "      <td>99.000000</td>\n",
       "      <td>100.000000</td>\n",
       "      <td>NaN</td>\n",
       "    </tr>\n",
       "  </tbody>\n",
       "</table>\n",
       "</div>"
      ],
      "text/plain": [
       "             Random Indication Diabetes   IHD Hypertension Arrhythmia History  \\\n",
       "count   1500.000000       1500     1500  1500         1500       1500    1500   \n",
       "unique          NaN          4        2     2            2          2       2   \n",
       "top             NaN        A-F       no    no           no         no      no   \n",
       "freq            NaN        489     1425   789          777       1177    1478   \n",
       "mean       0.509543        NaN      NaN   NaN          NaN        NaN     NaN   \n",
       "std        0.284369        NaN      NaN   NaN          NaN        NaN     NaN   \n",
       "min        0.000295        NaN      NaN   NaN          NaN        NaN     NaN   \n",
       "25%        0.267899        NaN      NaN   NaN          NaN        NaN     NaN   \n",
       "50%        0.517616        NaN      NaN   NaN          NaN        NaN     NaN   \n",
       "75%        0.754724        NaN      NaN   NaN          NaN        NaN     NaN   \n",
       "max        0.999448        NaN      NaN   NaN          NaN        NaN     NaN   \n",
       "\n",
       "               IPSI       Contra   label  \n",
       "count   1500.000000  1500.000000    1500  \n",
       "unique          NaN          NaN       2  \n",
       "top             NaN          NaN  NoRisk  \n",
       "freq            NaN          NaN    1000  \n",
       "mean      78.828000    56.668000     NaN  \n",
       "std       10.159555    29.524977     NaN  \n",
       "min       35.000000    10.000000     NaN  \n",
       "25%       73.000000    30.000000     NaN  \n",
       "50%       77.000000    50.000000     NaN  \n",
       "75%       85.000000    85.000000     NaN  \n",
       "max       99.000000   100.000000     NaN  "
      ]
     },
     "execution_count": 24,
     "metadata": {},
     "output_type": "execute_result"
    }
   ],
   "source": [
    "data_copy.describe(include = 'all') # check 20 records removed"
   ]
  },
  {
   "cell_type": "code",
   "execution_count": 25,
   "metadata": {},
   "outputs": [
    {
     "data": {
      "text/plain": [
       "<matplotlib.axes._subplots.AxesSubplot at 0x1c1e85f92c8>"
      ]
     },
     "execution_count": 25,
     "metadata": {},
     "output_type": "execute_result"
    },
    {
     "data": {
      "image/png": "[encoded data removed]",
      "text/plain": [
       "<Figure size 432x288 with 2 Axes>"
      ]
     },
     "metadata": {
      "needs_background": "light"
     },
     "output_type": "display_data"
    }
   ],
   "source": [
    "corr = data_copy.corr()\n",
    "sns.heatmap(corr,annot=True) # random has no corolation"
   ]
  },
  {
   "cell_type": "code",
   "execution_count": 26,
   "metadata": {},
   "outputs": [
    {
     "data": {
      "text/html": [
       "<div>\n",
       "<style scoped>\n",
       "    .dataframe tbody tr th:only-of-type {\n",
       "        vertical-align: middle;\n",
       "    }\n",
       "\n",
       "    .dataframe tbody tr th {\n",
       "        vertical-align: top;\n",
       "    }\n",
       "\n",
       "    .dataframe thead th {\n",
       "        text-align: right;\n",
       "    }\n",
       "</style>\n",
       "<table border=\"1\" class=\"dataframe\">\n",
       "  <thead>\n",
       "    <tr style=\"text-align: right;\">\n",
       "      <th></th>\n",
       "      <th>Indication</th>\n",
       "      <th>Diabetes</th>\n",
       "      <th>IHD</th>\n",
       "      <th>Hypertension</th>\n",
       "      <th>Arrhythmia</th>\n",
       "      <th>History</th>\n",
       "      <th>IPSI</th>\n",
       "      <th>Contra</th>\n",
       "      <th>label</th>\n",
       "    </tr>\n",
       "    <tr>\n",
       "      <th>Id</th>\n",
       "      <th></th>\n",
       "      <th></th>\n",
       "      <th></th>\n",
       "      <th></th>\n",
       "      <th></th>\n",
       "      <th></th>\n",
       "      <th></th>\n",
       "      <th></th>\n",
       "      <th></th>\n",
       "    </tr>\n",
       "  </thead>\n",
       "  <tbody>\n",
       "    <tr>\n",
       "      <th>218242</th>\n",
       "      <td>A-F</td>\n",
       "      <td>no</td>\n",
       "      <td>no</td>\n",
       "      <td>yes</td>\n",
       "      <td>no</td>\n",
       "      <td>no</td>\n",
       "      <td>78.0</td>\n",
       "      <td>20.0</td>\n",
       "      <td>NoRisk</td>\n",
       "    </tr>\n",
       "    <tr>\n",
       "      <th>159284</th>\n",
       "      <td>TIA</td>\n",
       "      <td>no</td>\n",
       "      <td>no</td>\n",
       "      <td>no</td>\n",
       "      <td>no</td>\n",
       "      <td>no</td>\n",
       "      <td>70.0</td>\n",
       "      <td>60.0</td>\n",
       "      <td>NoRisk</td>\n",
       "    </tr>\n",
       "    <tr>\n",
       "      <th>106066</th>\n",
       "      <td>A-F</td>\n",
       "      <td>no</td>\n",
       "      <td>yes</td>\n",
       "      <td>yes</td>\n",
       "      <td>no</td>\n",
       "      <td>no</td>\n",
       "      <td>95.0</td>\n",
       "      <td>40.0</td>\n",
       "      <td>Risk</td>\n",
       "    </tr>\n",
       "    <tr>\n",
       "      <th>229592</th>\n",
       "      <td>TIA</td>\n",
       "      <td>no</td>\n",
       "      <td>no</td>\n",
       "      <td>yes</td>\n",
       "      <td>no</td>\n",
       "      <td>no</td>\n",
       "      <td>90.0</td>\n",
       "      <td>85.0</td>\n",
       "      <td>Risk</td>\n",
       "    </tr>\n",
       "    <tr>\n",
       "      <th>245829</th>\n",
       "      <td>CVA</td>\n",
       "      <td>no</td>\n",
       "      <td>no</td>\n",
       "      <td>no</td>\n",
       "      <td>no</td>\n",
       "      <td>no</td>\n",
       "      <td>70.0</td>\n",
       "      <td>20.0</td>\n",
       "      <td>NoRisk</td>\n",
       "    </tr>\n",
       "    <tr>\n",
       "      <th>...</th>\n",
       "      <td>...</td>\n",
       "      <td>...</td>\n",
       "      <td>...</td>\n",
       "      <td>...</td>\n",
       "      <td>...</td>\n",
       "      <td>...</td>\n",
       "      <td>...</td>\n",
       "      <td>...</td>\n",
       "      <td>...</td>\n",
       "    </tr>\n",
       "    <tr>\n",
       "      <th>93406</th>\n",
       "      <td>A-F</td>\n",
       "      <td>no</td>\n",
       "      <td>yes</td>\n",
       "      <td>no</td>\n",
       "      <td>no</td>\n",
       "      <td>no</td>\n",
       "      <td>76.0</td>\n",
       "      <td>60.0</td>\n",
       "      <td>NoRisk</td>\n",
       "    </tr>\n",
       "    <tr>\n",
       "      <th>121814</th>\n",
       "      <td>A-F</td>\n",
       "      <td>no</td>\n",
       "      <td>no</td>\n",
       "      <td>yes</td>\n",
       "      <td>yes</td>\n",
       "      <td>no</td>\n",
       "      <td>90.0</td>\n",
       "      <td>75.0</td>\n",
       "      <td>Risk</td>\n",
       "    </tr>\n",
       "    <tr>\n",
       "      <th>101754</th>\n",
       "      <td>TIA</td>\n",
       "      <td>no</td>\n",
       "      <td>no</td>\n",
       "      <td>yes</td>\n",
       "      <td>no</td>\n",
       "      <td>no</td>\n",
       "      <td>75.0</td>\n",
       "      <td>20.0</td>\n",
       "      <td>NoRisk</td>\n",
       "    </tr>\n",
       "    <tr>\n",
       "      <th>263836</th>\n",
       "      <td>A-F</td>\n",
       "      <td>no</td>\n",
       "      <td>yes</td>\n",
       "      <td>no</td>\n",
       "      <td>no</td>\n",
       "      <td>no</td>\n",
       "      <td>70.0</td>\n",
       "      <td>45.0</td>\n",
       "      <td>NoRisk</td>\n",
       "    </tr>\n",
       "    <tr>\n",
       "      <th>254941</th>\n",
       "      <td>CVA</td>\n",
       "      <td>no</td>\n",
       "      <td>no</td>\n",
       "      <td>no</td>\n",
       "      <td>no</td>\n",
       "      <td>no</td>\n",
       "      <td>60.0</td>\n",
       "      <td>20.0</td>\n",
       "      <td>NoRisk</td>\n",
       "    </tr>\n",
       "  </tbody>\n",
       "</table>\n",
       "<p>1500 rows × 9 columns</p>\n",
       "</div>"
      ],
      "text/plain": [
       "       Indication Diabetes  IHD Hypertension Arrhythmia History  IPSI  Contra  \\\n",
       "Id                                                                              \n",
       "218242        A-F       no   no          yes         no      no  78.0    20.0   \n",
       "159284        TIA       no   no           no         no      no  70.0    60.0   \n",
       "106066        A-F       no  yes          yes         no      no  95.0    40.0   \n",
       "229592        TIA       no   no          yes         no      no  90.0    85.0   \n",
       "245829        CVA       no   no           no         no      no  70.0    20.0   \n",
       "...           ...      ...  ...          ...        ...     ...   ...     ...   \n",
       "93406         A-F       no  yes           no         no      no  76.0    60.0   \n",
       "121814        A-F       no   no          yes        yes      no  90.0    75.0   \n",
       "101754        TIA       no   no          yes         no      no  75.0    20.0   \n",
       "263836        A-F       no  yes           no         no      no  70.0    45.0   \n",
       "254941        CVA       no   no           no         no      no  60.0    20.0   \n",
       "\n",
       "         label  \n",
       "Id              \n",
       "218242  NoRisk  \n",
       "159284  NoRisk  \n",
       "106066    Risk  \n",
       "229592    Risk  \n",
       "245829  NoRisk  \n",
       "...        ...  \n",
       "93406   NoRisk  \n",
       "121814    Risk  \n",
       "101754  NoRisk  \n",
       "263836  NoRisk  \n",
       "254941  NoRisk  \n",
       "\n",
       "[1500 rows x 9 columns]"
      ]
     },
     "execution_count": 26,
     "metadata": {},
     "output_type": "execute_result"
    }
   ],
   "source": [
    "class_data = data_copy.copy()\n",
    "class_data = class_data.drop(columns=['Random'])\n",
    "class_data"
   ]
  },
  {
   "cell_type": "markdown",
   "metadata": {},
   "source": [
    "# Visualisation"
   ]
  },
  {
   "cell_type": "code",
   "execution_count": 27,
   "metadata": {},
   "outputs": [
    {
     "data": {
      "text/plain": [
       "<seaborn.axisgrid.PairGrid at 0x1c1e86f1588>"
      ]
     },
     "execution_count": 27,
     "metadata": {},
     "output_type": "execute_result"
    },
    {
     "data": {
      "image/png": "[encoded data removed]",
      "text/plain": [
       "<Figure size 428.375x360 with 6 Axes>"
      ]
     },
     "metadata": {
      "needs_background": "light"
     },
     "output_type": "display_data"
    }
   ],
   "source": [
    "sns.pairplot(class_data, hue='label')"
   ]
  },
  {
   "cell_type": "code",
   "execution_count": 28,
   "metadata": {},
   "outputs": [
    {
     "data": {
      "text/plain": [
       "<seaborn.axisgrid.FacetGrid at 0x1c1ea93c488>"
      ]
     },
     "execution_count": 28,
     "metadata": {},
     "output_type": "execute_result"
    },
    {
     "data": {
      "image/png": "[encoded data removed]",
      "text/plain": [
       "<Figure size 428.375x360 with 1 Axes>"
      ]
     },
     "metadata": {
      "needs_background": "light"
     },
     "output_type": "display_data"
    }
   ],
   "source": [
    "sns.relplot(x='IPSI',y='Contra',hue='label',data=class_data) # closer look"
   ]
  },
  {
   "cell_type": "code",
   "execution_count": 29,
   "metadata": {},
   "outputs": [
    {
     "data": {
      "text/plain": [
       "<matplotlib.axes._subplots.AxesSubplot at 0x1c1ea99e148>"
      ]
     },
     "execution_count": 29,
     "metadata": {},
     "output_type": "execute_result"
    },
    {
     "data": {
      "image/png": "[encoded data removed]",
      "text/plain": [
       "<Figure size 432x288 with 1 Axes>"
      ]
     },
     "metadata": {
      "needs_background": "light"
     },
     "output_type": "display_data"
    }
   ],
   "source": [
    "sns.distplot(class_data['Contra']) # look for pattern in distribution"
   ]
  },
  {
   "cell_type": "code",
   "execution_count": 30,
   "metadata": {},
   "outputs": [
    {
     "data": {
      "text/plain": [
       "<matplotlib.axes._subplots.AxesSubplot at 0x1c1eaa217c8>"
      ]
     },
     "execution_count": 30,
     "metadata": {},
     "output_type": "execute_result"
    },
    {
     "data": {
      "image/png": "[encoded data removed]",
      "text/plain": [
       "<Figure size 432x288 with 1 Axes>"
      ]
     },
     "metadata": {
      "needs_background": "light"
     },
     "output_type": "display_data"
    }
   ],
   "source": [
    "sns.distplot(class_data['IPSI'])  # look for pattern in distribution"
   ]
  },
  {
   "cell_type": "code",
   "execution_count": 31,
   "metadata": {},
   "outputs": [
    {
     "data": {
      "image/png": "[encoded data removed]",
      "text/plain": [
       "<Figure size 432x288 with 1 Axes>"
      ]
     },
     "metadata": {
      "needs_background": "light"
     },
     "output_type": "display_data"
    }
   ],
   "source": [
    "sns.boxplot(x='Contra',y='label',data=class_data)\n",
    "plt.show()"
   ]
  },
  {
   "cell_type": "code",
   "execution_count": 32,
   "metadata": {},
   "outputs": [
    {
     "data": {
      "image/png": "[encoded data removed]",
      "text/plain": [
       "<Figure size 432x288 with 1 Axes>"
      ]
     },
     "metadata": {
      "needs_background": "light"
     },
     "output_type": "display_data"
    }
   ],
   "source": [
    "sns.boxplot(x='IPSI',y='label',data=class_data)\n",
    "plt.show()"
   ]
  },
  {
   "cell_type": "code",
   "execution_count": 33,
   "metadata": {},
   "outputs": [
    {
     "data": {
      "text/plain": [
       "<matplotlib.axes._subplots.AxesSubplot at 0x1c1eabc4448>"
      ]
     },
     "execution_count": 33,
     "metadata": {},
     "output_type": "execute_result"
    },
    {
     "data": {
      "image/png": "[encoded data removed]",
      "text/plain": [
       "<Figure size 432x288 with 1 Axes>"
      ]
     },
     "metadata": {
      "needs_background": "light"
     },
     "output_type": "display_data"
    }
   ],
   "source": [
    "sns.countplot(class_data['label'],Label='count') # count risk"
   ]
  },
  {
   "cell_type": "markdown",
   "metadata": {},
   "source": [
    "## Data prep"
   ]
  },
  {
   "cell_type": "code",
   "execution_count": 34,
   "metadata": {},
   "outputs": [
    {
     "data": {
      "text/html": [
       "<div>\n",
       "<style scoped>\n",
       "    .dataframe tbody tr th:only-of-type {\n",
       "        vertical-align: middle;\n",
       "    }\n",
       "\n",
       "    .dataframe tbody tr th {\n",
       "        vertical-align: top;\n",
       "    }\n",
       "\n",
       "    .dataframe thead th {\n",
       "        text-align: right;\n",
       "    }\n",
       "</style>\n",
       "<table border=\"1\" class=\"dataframe\">\n",
       "  <thead>\n",
       "    <tr style=\"text-align: right;\">\n",
       "      <th></th>\n",
       "      <th>Indication</th>\n",
       "      <th>Diabetes</th>\n",
       "      <th>IHD</th>\n",
       "      <th>Hypertension</th>\n",
       "      <th>Arrhythmia</th>\n",
       "      <th>History</th>\n",
       "      <th>IPSI</th>\n",
       "      <th>Contra</th>\n",
       "      <th>label</th>\n",
       "    </tr>\n",
       "    <tr>\n",
       "      <th>Id</th>\n",
       "      <th></th>\n",
       "      <th></th>\n",
       "      <th></th>\n",
       "      <th></th>\n",
       "      <th></th>\n",
       "      <th></th>\n",
       "      <th></th>\n",
       "      <th></th>\n",
       "      <th></th>\n",
       "    </tr>\n",
       "  </thead>\n",
       "  <tbody>\n",
       "    <tr>\n",
       "      <th>218242</th>\n",
       "      <td>0</td>\n",
       "      <td>0</td>\n",
       "      <td>0</td>\n",
       "      <td>1</td>\n",
       "      <td>0</td>\n",
       "      <td>0</td>\n",
       "      <td>78.0</td>\n",
       "      <td>20.0</td>\n",
       "      <td>0</td>\n",
       "    </tr>\n",
       "    <tr>\n",
       "      <th>159284</th>\n",
       "      <td>3</td>\n",
       "      <td>0</td>\n",
       "      <td>0</td>\n",
       "      <td>0</td>\n",
       "      <td>0</td>\n",
       "      <td>0</td>\n",
       "      <td>70.0</td>\n",
       "      <td>60.0</td>\n",
       "      <td>0</td>\n",
       "    </tr>\n",
       "    <tr>\n",
       "      <th>106066</th>\n",
       "      <td>0</td>\n",
       "      <td>0</td>\n",
       "      <td>1</td>\n",
       "      <td>1</td>\n",
       "      <td>0</td>\n",
       "      <td>0</td>\n",
       "      <td>95.0</td>\n",
       "      <td>40.0</td>\n",
       "      <td>1</td>\n",
       "    </tr>\n",
       "    <tr>\n",
       "      <th>229592</th>\n",
       "      <td>3</td>\n",
       "      <td>0</td>\n",
       "      <td>0</td>\n",
       "      <td>1</td>\n",
       "      <td>0</td>\n",
       "      <td>0</td>\n",
       "      <td>90.0</td>\n",
       "      <td>85.0</td>\n",
       "      <td>1</td>\n",
       "    </tr>\n",
       "    <tr>\n",
       "      <th>245829</th>\n",
       "      <td>2</td>\n",
       "      <td>0</td>\n",
       "      <td>0</td>\n",
       "      <td>0</td>\n",
       "      <td>0</td>\n",
       "      <td>0</td>\n",
       "      <td>70.0</td>\n",
       "      <td>20.0</td>\n",
       "      <td>0</td>\n",
       "    </tr>\n",
       "  </tbody>\n",
       "</table>\n",
       "</div>"
      ],
      "text/plain": [
       "        Indication  Diabetes  IHD  Hypertension  Arrhythmia  History  IPSI  \\\n",
       "Id                                                                           \n",
       "218242           0         0    0             1           0        0  78.0   \n",
       "159284           3         0    0             0           0        0  70.0   \n",
       "106066           0         0    1             1           0        0  95.0   \n",
       "229592           3         0    0             1           0        0  90.0   \n",
       "245829           2         0    0             0           0        0  70.0   \n",
       "\n",
       "        Contra  label  \n",
       "Id                     \n",
       "218242    20.0      0  \n",
       "159284    60.0      0  \n",
       "106066    40.0      1  \n",
       "229592    85.0      1  \n",
       "245829    20.0      0  "
      ]
     },
     "execution_count": 34,
     "metadata": {},
     "output_type": "execute_result"
    }
   ],
   "source": [
    "le = preprocessing.LabelEncoder()\n",
    "model_data=class_data.copy()\n",
    "model_data['label']=le.fit_transform(class_data['label'])\n",
    "model_data['Diabetes']=le.fit_transform(class_data['Diabetes'])\n",
    "model_data['IHD']=le.fit_transform(class_data['IHD'])\n",
    "model_data['Hypertension']=le.fit_transform(class_data['Hypertension'])\n",
    "model_data['Arrhythmia']=le.fit_transform(class_data['Arrhythmia'])\n",
    "model_data['History']=le.fit_transform(class_data['History'])\n",
    "model_data['Indication']=le.fit_transform(class_data['Indication']) # alphabetical\n",
    "\n",
    "model_data.head()"
   ]
  },
  {
   "cell_type": "code",
   "execution_count": 35,
   "metadata": {},
   "outputs": [
    {
     "data": {
      "text/plain": [
       "<matplotlib.axes._subplots.AxesSubplot at 0x1c1eab433c8>"
      ]
     },
     "execution_count": 35,
     "metadata": {},
     "output_type": "execute_result"
    },
    {
     "data": {
      "image/png": "[encoded data removed]",
      "text/plain": [
       "<Figure size 1440x1440 with 2 Axes>"
      ]
     },
     "metadata": {
      "needs_background": "light"
     },
     "output_type": "display_data"
    }
   ],
   "source": [
    "o_size = plt.rcParams[\"figure.figsize\"]\n",
    "plt.rcParams[\"figure.figsize\"] = (20,20)\n",
    "corr = model_data.corr()\n",
    "sns.heatmap(corr,annot=True)"
   ]
  },
  {
   "cell_type": "code",
   "execution_count": 36,
   "metadata": {},
   "outputs": [
    {
     "data": {
      "text/plain": [
       "<matplotlib.axes._subplots.AxesSubplot at 0x1c1ec57c708>"
      ]
     },
     "execution_count": 36,
     "metadata": {},
     "output_type": "execute_result"
    },
    {
     "data": {
      "image/png": "[encoded data removed]",
      "text/plain": [
       "<Figure size 432x288 with 1 Axes>"
      ]
     },
     "metadata": {
      "needs_background": "light"
     },
     "output_type": "display_data"
    }
   ],
   "source": [
    "plt.rcParams[\"figure.figsize\"] = o_size\n",
    "sns.countplot(x='Indication',hue='label',data=class_data) # Weak correlation but still a valid indicator"
   ]
  },
  {
   "cell_type": "code",
   "execution_count": 37,
   "metadata": {},
   "outputs": [],
   "source": [
    "split = sklearn.model_selection.train_test_split(model_data,shuffle=True)\n",
    "train = split[0]\n",
    "test = split[1]\n",
    "all_x = model_data.drop(columns=['label']) \n",
    "all_y = model_data['label']"
   ]
  },
  {
   "cell_type": "markdown",
   "metadata": {},
   "source": [
    "## Logistic Regression"
   ]
  },
  {
   "cell_type": "code",
   "execution_count": 38,
   "metadata": {},
   "outputs": [],
   "source": [
    "model = LogisticRegression(solver='lbfgs')\n",
    "train_x = train['Contra']\n",
    "train_y = train['label']\n",
    "test_x = test['Contra']\n",
    "test_y = test['label']"
   ]
  },
  {
   "cell_type": "code",
   "execution_count": 39,
   "metadata": {},
   "outputs": [
    {
     "name": "stdout",
     "output_type": "stream",
     "text": [
      "(1125, 1)\n",
      "(1125,)\n"
     ]
    }
   ],
   "source": [
    "train_x = np.asarray(train_x).reshape(-1,1)\n",
    "train_y = np.asarray(train_y)\n",
    "test_x = np.asarray(test_x).reshape(-1,1)\n",
    "test_y = np.asarray(test_y)\n",
    "print(train_x.shape)\n",
    "print(train_y.shape)"
   ]
  },
  {
   "cell_type": "code",
   "execution_count": 40,
   "metadata": {},
   "outputs": [],
   "source": [
    "reg_model = model.fit(X=train_x,y=train_y)"
   ]
  },
  {
   "cell_type": "code",
   "execution_count": 41,
   "metadata": {},
   "outputs": [],
   "source": [
    "pred_y = reg_model.predict(test_x)"
   ]
  },
  {
   "cell_type": "code",
   "execution_count": 42,
   "metadata": {},
   "outputs": [
    {
     "data": {
      "text/plain": [
       "0.832"
      ]
     },
     "execution_count": 42,
     "metadata": {},
     "output_type": "execute_result"
    }
   ],
   "source": [
    "reg_model.score(test_x,test_y)"
   ]
  },
  {
   "cell_type": "code",
   "execution_count": 43,
   "metadata": {},
   "outputs": [
    {
     "data": {
      "text/plain": [
       "<matplotlib.axes._subplots.AxesSubplot at 0x1c1eaa21388>"
      ]
     },
     "execution_count": 43,
     "metadata": {},
     "output_type": "execute_result"
    },
    {
     "data": {
      "image/png": "[encoded data removed]",
      "text/plain": [
       "<Figure size 432x288 with 1 Axes>"
      ]
     },
     "metadata": {
      "needs_background": "light"
     },
     "output_type": "display_data"
    }
   ],
   "source": [
    "sns.lineplot(x=test['Contra'], y=pred_y.ravel(), label='Model')\n",
    "sns.scatterplot(x=test['Contra'], y=test['label'], label='Test Data')"
   ]
  },
  {
   "cell_type": "code",
   "execution_count": 44,
   "metadata": {},
   "outputs": [],
   "source": [
    "reg_model = LogisticRegression(solver='lbfgs',max_iter=500, class_weight=\"balanced\") \n",
    "train_x = train.drop(columns=['label'])  # class_weight is balenced as indication is >1\n",
    "train_y = train['label']\n",
    "test_x = test.drop(columns=['label']) # remove label from test\n",
    "test_y = test['label']\n",
    "# 100 iterations creates convergence issues"
   ]
  },
  {
   "cell_type": "code",
   "execution_count": 45,
   "metadata": {},
   "outputs": [
    {
     "data": {
      "text/plain": [
       "0.9626666666666667"
      ]
     },
     "execution_count": 45,
     "metadata": {},
     "output_type": "execute_result"
    }
   ],
   "source": [
    "reg_model = reg_model.fit(X=train_x,y=train_y)\n",
    "pred_y = reg_model.predict(test_x)\n",
    "reg_model.score(test_x,test_y)"
   ]
  },
  {
   "cell_type": "code",
   "execution_count": 46,
   "metadata": {},
   "outputs": [],
   "source": [
    "cross_results = cross_validate(reg_model,all_x,all_y,cv=5)"
   ]
  },
  {
   "cell_type": "code",
   "execution_count": 47,
   "metadata": {},
   "outputs": [],
   "source": [
    "reg_model_sub = LogisticRegression(solver='liblinear',max_iter=300,class_weight=\"balanced\")\n",
    "train_x = train.drop(columns=['label']) # liblinear is designed for smaller datasets\n",
    "train_y = train['label']\n",
    "test_x = test.drop(columns=['label']) # remove label from test\n",
    "test_y = test['label']"
   ]
  },
  {
   "cell_type": "code",
   "execution_count": 48,
   "metadata": {},
   "outputs": [
    {
     "data": {
      "text/plain": [
       "0.944"
      ]
     },
     "execution_count": 48,
     "metadata": {},
     "output_type": "execute_result"
    }
   ],
   "source": [
    "reg_model_sub = reg_model_sub.fit(X=train_x,y=train_y)\n",
    "pred_y = reg_model_sub.predict(test_x)\n",
    "reg_model_sub.score(test_x,test_y) # worse score"
   ]
  },
  {
   "cell_type": "code",
   "execution_count": 49,
   "metadata": {},
   "outputs": [],
   "source": [
    "reg_model_sub = LogisticRegression(solver='liblinear',max_iter=300,class_weight=\"balanced\",penalty='l1')\n",
    "train_x = train.drop(columns=['label']) # liblinear is designed for smaller datasets & l1 penalty minimizes bad features\n",
    "train_y = train['label']\n",
    "test_x = test.drop(columns=['label']) # remove label from test\n",
    "test_y = test['label']"
   ]
  },
  {
   "cell_type": "code",
   "execution_count": 50,
   "metadata": {},
   "outputs": [
    {
     "data": {
      "text/plain": [
       "0.968"
      ]
     },
     "execution_count": 50,
     "metadata": {},
     "output_type": "execute_result"
    }
   ],
   "source": [
    "reg_model_sub = reg_model_sub.fit(X=train_x,y=train_y)\n",
    "pred_y = reg_model_sub.predict(test_x)\n",
    "reg_model_sub.score(test_x,test_y)"
   ]
  },
  {
   "cell_type": "code",
   "execution_count": 51,
   "metadata": {},
   "outputs": [
    {
     "name": "stdout",
     "output_type": "stream",
     "text": [
      "              precision    recall  f1-score   support\n",
      "\n",
      "           0       0.99      0.96      0.98       245\n",
      "           1       0.93      0.98      0.95       130\n",
      "\n",
      "    accuracy                           0.97       375\n",
      "   macro avg       0.96      0.97      0.97       375\n",
      "weighted avg       0.97      0.97      0.97       375\n",
      "\n"
     ]
    }
   ],
   "source": [
    "Linear_report = classification_report(pred_y,test_y)\n",
    "print(Linear_report)"
   ]
  },
  {
   "cell_type": "code",
   "execution_count": 52,
   "metadata": {},
   "outputs": [
    {
     "name": "stdout",
     "output_type": "stream",
     "text": [
      "Average Fit time 0.02496199607849121\n",
      "Average Prediction time 0.0005975246429443359\n",
      "Average Score 0.9733333333333333\n"
     ]
    }
   ],
   "source": [
    "cross_results = cross_validate(reg_model_sub,all_x,all_y,cv=5)\n",
    "l_reg_ft = ((sum(cross_results['fit_time']))/(len(cross_results['fit_time'])))\n",
    "l_reg_st = ((sum(cross_results['score_time']))/(len(cross_results['score_time'])))\n",
    "l_reg_average = ((sum(cross_results['test_score']))/(len(cross_results['test_score'])))\n",
    "print(f\"Average Fit time {l_reg_ft}\")\n",
    "print(f\"Average Prediction time {l_reg_st}\")\n",
    "print(f\"Average Score {l_reg_average}\")"
   ]
  },
  {
   "cell_type": "code",
   "execution_count": 53,
   "metadata": {},
   "outputs": [
    {
     "data": {
      "image/png": "[encoded data removed]",
      "text/plain": [
       "<Figure size 432x288 with 2 Axes>"
      ]
     },
     "metadata": {
      "needs_background": "light"
     },
     "output_type": "display_data"
    }
   ],
   "source": [
    "skplt.metrics.plot_confusion_matrix(test_y, pred_y)\n",
    "plt.show()"
   ]
  },
  {
   "cell_type": "code",
   "execution_count": 54,
   "metadata": {},
   "outputs": [
    {
     "data": {
      "image/png": "[encoded data removed]",
      "text/plain": [
       "<Figure size 432x288 with 2 Axes>"
      ]
     },
     "metadata": {
      "needs_background": "light"
     },
     "output_type": "display_data"
    }
   ],
   "source": [
    "skplt.metrics.plot_confusion_matrix(test_y, pred_y,normalize=True)\n",
    "plt.show()"
   ]
  },
  {
   "cell_type": "markdown",
   "metadata": {},
   "source": [
    "# Binary Tree"
   ]
  },
  {
   "cell_type": "code",
   "execution_count": 55,
   "metadata": {},
   "outputs": [],
   "source": [
    "bin_tree = DecisionTreeClassifier()\n",
    "bin_tree = bin_tree.fit(X=train_x, y=train_y)\n",
    "pred_y = bin_tree.predict(test_x)"
   ]
  },
  {
   "cell_type": "code",
   "execution_count": 56,
   "metadata": {},
   "outputs": [
    {
     "data": {
      "text/plain": [
       "[Text(743.561320754717, 1032.8400000000001, 'Arrhythmia <= 0.5\\ngini = 0.438\\nsamples = 1125\\nvalue = [761, 364]'),\n",
       " Text(507.9905660377359, 924.1200000000001, 'Contra <= 74.0\\ngini = 0.267\\nsamples = 896\\nvalue = [754, 142]'),\n",
       " Text(294.7924528301887, 815.4000000000001, 'IPSI <= 87.5\\ngini = 0.108\\nsamples = 699\\nvalue = [659, 40]'),\n",
       " Text(147.39622641509436, 706.6800000000001, 'Hypertension <= 0.5\\ngini = 0.056\\nsamples = 626\\nvalue = [608, 18]'),\n",
       " Text(42.113207547169814, 597.96, 'History <= 0.5\\ngini = 0.005\\nsamples = 378\\nvalue = [377, 1]'),\n",
       " Text(21.056603773584907, 489.24, 'gini = 0.0\\nsamples = 374\\nvalue = [374, 0]'),\n",
       " Text(63.16981132075472, 489.24, 'Indication <= 1.0\\ngini = 0.375\\nsamples = 4\\nvalue = [3, 1]'),\n",
       " Text(42.113207547169814, 380.5200000000001, 'gini = 0.0\\nsamples = 1\\nvalue = [0, 1]'),\n",
       " Text(84.22641509433963, 380.5200000000001, 'gini = 0.0\\nsamples = 3\\nvalue = [3, 0]'),\n",
       " Text(252.67924528301887, 597.96, 'Contra <= 61.0\\ngini = 0.128\\nsamples = 248\\nvalue = [231, 17]'),\n",
       " Text(189.50943396226415, 489.24, 'Indication <= 0.5\\ngini = 0.095\\nsamples = 239\\nvalue = [227, 12]'),\n",
       " Text(126.33962264150944, 380.5200000000001, 'IHD <= 0.5\\ngini = 0.281\\nsamples = 65\\nvalue = [54, 11]'),\n",
       " Text(105.28301886792454, 271.80000000000007, 'gini = 0.0\\nsamples = 32\\nvalue = [32, 0]'),\n",
       " Text(147.39622641509436, 271.80000000000007, 'Contra <= 25.0\\ngini = 0.444\\nsamples = 33\\nvalue = [22, 11]'),\n",
       " Text(126.33962264150944, 163.08000000000004, 'gini = 0.0\\nsamples = 15\\nvalue = [15, 0]'),\n",
       " Text(168.45283018867926, 163.08000000000004, 'IPSI <= 72.5\\ngini = 0.475\\nsamples = 18\\nvalue = [7, 11]'),\n",
       " Text(147.39622641509436, 54.36000000000013, 'gini = 0.0\\nsamples = 7\\nvalue = [7, 0]'),\n",
       " Text(189.50943396226415, 54.36000000000013, 'gini = 0.0\\nsamples = 11\\nvalue = [0, 11]'),\n",
       " Text(252.67924528301887, 380.5200000000001, 'Indication <= 1.5\\ngini = 0.011\\nsamples = 174\\nvalue = [173, 1]'),\n",
       " Text(231.62264150943398, 271.80000000000007, 'IHD <= 0.5\\ngini = 0.091\\nsamples = 21\\nvalue = [20, 1]'),\n",
       " Text(210.56603773584908, 163.08000000000004, 'gini = 0.0\\nsamples = 16\\nvalue = [16, 0]'),\n",
       " Text(252.67924528301887, 163.08000000000004, 'IPSI <= 80.0\\ngini = 0.32\\nsamples = 5\\nvalue = [4, 1]'),\n",
       " Text(231.62264150943398, 54.36000000000013, 'gini = 0.0\\nsamples = 1\\nvalue = [0, 1]'),\n",
       " Text(273.7358490566038, 54.36000000000013, 'gini = 0.0\\nsamples = 4\\nvalue = [4, 0]'),\n",
       " Text(273.7358490566038, 271.80000000000007, 'gini = 0.0\\nsamples = 153\\nvalue = [153, 0]'),\n",
       " Text(315.8490566037736, 489.24, 'IPSI <= 77.5\\ngini = 0.494\\nsamples = 9\\nvalue = [4, 5]'),\n",
       " Text(294.7924528301887, 380.5200000000001, 'gini = 0.0\\nsamples = 4\\nvalue = [4, 0]'),\n",
       " Text(336.9056603773585, 380.5200000000001, 'gini = 0.0\\nsamples = 5\\nvalue = [0, 5]'),\n",
       " Text(442.188679245283, 706.6800000000001, 'Hypertension <= 0.5\\ngini = 0.421\\nsamples = 73\\nvalue = [51, 22]'),\n",
       " Text(379.0188679245283, 597.96, 'IHD <= 0.5\\ngini = 0.039\\nsamples = 50\\nvalue = [49, 1]'),\n",
       " Text(357.96226415094344, 489.24, 'gini = 0.0\\nsamples = 44\\nvalue = [44, 0]'),\n",
       " Text(400.07547169811323, 489.24, 'IPSI <= 94.5\\ngini = 0.278\\nsamples = 6\\nvalue = [5, 1]'),\n",
       " Text(379.0188679245283, 380.5200000000001, 'gini = 0.0\\nsamples = 5\\nvalue = [5, 0]'),\n",
       " Text(421.13207547169816, 380.5200000000001, 'gini = 0.0\\nsamples = 1\\nvalue = [0, 1]'),\n",
       " Text(505.35849056603774, 597.96, 'Contra <= 27.5\\ngini = 0.159\\nsamples = 23\\nvalue = [2, 21]'),\n",
       " Text(484.3018867924529, 489.24, 'Contra <= 15.0\\ngini = 0.444\\nsamples = 3\\nvalue = [2, 1]'),\n",
       " Text(463.24528301886795, 380.5200000000001, 'gini = 0.0\\nsamples = 1\\nvalue = [0, 1]'),\n",
       " Text(505.35849056603774, 380.5200000000001, 'gini = 0.0\\nsamples = 2\\nvalue = [2, 0]'),\n",
       " Text(526.4150943396227, 489.24, 'gini = 0.0\\nsamples = 20\\nvalue = [0, 20]'),\n",
       " Text(721.1886792452831, 815.4000000000001, 'Hypertension <= 0.5\\ngini = 0.499\\nsamples = 197\\nvalue = [95, 102]'),\n",
       " Text(631.6981132075472, 706.6800000000001, 'IPSI <= 87.5\\ngini = 0.396\\nsamples = 103\\nvalue = [75, 28]'),\n",
       " Text(589.5849056603774, 597.96, 'Indication <= 0.5\\ngini = 0.224\\nsamples = 78\\nvalue = [68, 10]'),\n",
       " Text(568.5283018867925, 489.24, 'Contra <= 90.0\\ngini = 0.48\\nsamples = 25\\nvalue = [15, 10]'),\n",
       " Text(547.4716981132076, 380.5200000000001, 'gini = 0.0\\nsamples = 15\\nvalue = [15, 0]'),\n",
       " Text(589.5849056603774, 380.5200000000001, 'gini = 0.0\\nsamples = 10\\nvalue = [0, 10]'),\n",
       " Text(610.6415094339623, 489.24, 'gini = 0.0\\nsamples = 53\\nvalue = [53, 0]'),\n",
       " Text(673.811320754717, 597.96, 'Contra <= 87.5\\ngini = 0.403\\nsamples = 25\\nvalue = [7, 18]'),\n",
       " Text(652.7547169811321, 489.24, 'gini = 0.0\\nsamples = 6\\nvalue = [6, 0]'),\n",
       " Text(694.867924528302, 489.24, 'IPSI <= 92.5\\ngini = 0.1\\nsamples = 19\\nvalue = [1, 18]'),\n",
       " Text(673.811320754717, 380.5200000000001, 'IHD <= 0.5\\ngini = 0.245\\nsamples = 7\\nvalue = [1, 6]'),\n",
       " Text(652.7547169811321, 271.80000000000007, 'gini = 0.0\\nsamples = 1\\nvalue = [1, 0]'),\n",
       " Text(694.867924528302, 271.80000000000007, 'gini = 0.0\\nsamples = 6\\nvalue = [0, 6]'),\n",
       " Text(715.9245283018869, 380.5200000000001, 'gini = 0.0\\nsamples = 12\\nvalue = [0, 12]'),\n",
       " Text(810.6792452830189, 706.6800000000001, 'IPSI <= 65.0\\ngini = 0.335\\nsamples = 94\\nvalue = [20, 74]'),\n",
       " Text(758.0377358490566, 597.96, 'Diabetes <= 0.5\\ngini = 0.305\\nsamples = 16\\nvalue = [13, 3]'),\n",
       " Text(736.9811320754718, 489.24, 'gini = 0.0\\nsamples = 13\\nvalue = [13, 0]'),\n",
       " Text(779.0943396226415, 489.24, 'gini = 0.0\\nsamples = 3\\nvalue = [0, 3]'),\n",
       " Text(863.3207547169812, 597.96, 'IHD <= 0.5\\ngini = 0.163\\nsamples = 78\\nvalue = [7, 71]'),\n",
       " Text(821.2075471698114, 489.24, 'IPSI <= 77.5\\ngini = 0.337\\nsamples = 28\\nvalue = [6, 22]'),\n",
       " Text(800.1509433962265, 380.5200000000001, 'Contra <= 87.5\\ngini = 0.48\\nsamples = 10\\nvalue = [6, 4]'),\n",
       " Text(779.0943396226415, 271.80000000000007, 'gini = 0.0\\nsamples = 4\\nvalue = [4, 0]'),\n",
       " Text(821.2075471698114, 271.80000000000007, 'IPSI <= 72.5\\ngini = 0.444\\nsamples = 6\\nvalue = [2, 4]'),\n",
       " Text(800.1509433962265, 163.08000000000004, 'gini = 0.0\\nsamples = 2\\nvalue = [2, 0]'),\n",
       " Text(842.2641509433963, 163.08000000000004, 'gini = 0.0\\nsamples = 4\\nvalue = [0, 4]'),\n",
       " Text(842.2641509433963, 380.5200000000001, 'gini = 0.0\\nsamples = 18\\nvalue = [0, 18]'),\n",
       " Text(905.433962264151, 489.24, 'Indication <= 2.5\\ngini = 0.039\\nsamples = 50\\nvalue = [1, 49]'),\n",
       " Text(884.377358490566, 380.5200000000001, 'gini = 0.0\\nsamples = 34\\nvalue = [0, 34]'),\n",
       " Text(926.4905660377359, 380.5200000000001, 'Contra <= 85.0\\ngini = 0.117\\nsamples = 16\\nvalue = [1, 15]'),\n",
       " Text(905.433962264151, 271.80000000000007, 'Contra <= 77.5\\ngini = 0.5\\nsamples = 2\\nvalue = [1, 1]'),\n",
       " Text(884.377358490566, 163.08000000000004, 'gini = 0.0\\nsamples = 1\\nvalue = [0, 1]'),\n",
       " Text(926.4905660377359, 163.08000000000004, 'gini = 0.0\\nsamples = 1\\nvalue = [1, 0]'),\n",
       " Text(947.5471698113208, 271.80000000000007, 'gini = 0.0\\nsamples = 14\\nvalue = [0, 14]'),\n",
       " Text(979.1320754716982, 924.1200000000001, 'Contra <= 42.5\\ngini = 0.059\\nsamples = 229\\nvalue = [7, 222]'),\n",
       " Text(926.4905660377359, 815.4000000000001, 'Indication <= 1.0\\ngini = 0.494\\nsamples = 9\\nvalue = [5, 4]'),\n",
       " Text(905.433962264151, 706.6800000000001, 'gini = 0.0\\nsamples = 4\\nvalue = [0, 4]'),\n",
       " Text(947.5471698113208, 706.6800000000001, 'gini = 0.0\\nsamples = 5\\nvalue = [5, 0]'),\n",
       " Text(1031.7735849056605, 815.4000000000001, 'Indication <= 2.5\\ngini = 0.018\\nsamples = 220\\nvalue = [2, 218]'),\n",
       " Text(989.6603773584907, 706.6800000000001, 'IPSI <= 72.5\\ngini = 0.009\\nsamples = 210\\nvalue = [1, 209]'),\n",
       " Text(968.6037735849058, 597.96, 'Hypertension <= 0.5\\ngini = 0.091\\nsamples = 21\\nvalue = [1, 20]'),\n",
       " Text(947.5471698113208, 489.24, 'gini = 0.0\\nsamples = 1\\nvalue = [1, 0]'),\n",
       " Text(989.6603773584907, 489.24, 'gini = 0.0\\nsamples = 20\\nvalue = [0, 20]'),\n",
       " Text(1010.7169811320755, 597.96, 'gini = 0.0\\nsamples = 189\\nvalue = [0, 189]'),\n",
       " Text(1073.8867924528304, 706.6800000000001, 'IHD <= 0.5\\ngini = 0.18\\nsamples = 10\\nvalue = [1, 9]'),\n",
       " Text(1052.8301886792453, 597.96, 'IPSI <= 85.0\\ngini = 0.5\\nsamples = 2\\nvalue = [1, 1]'),\n",
       " Text(1031.7735849056605, 489.24, 'gini = 0.0\\nsamples = 1\\nvalue = [1, 0]'),\n",
       " Text(1073.8867924528304, 489.24, 'gini = 0.0\\nsamples = 1\\nvalue = [0, 1]'),\n",
       " Text(1094.9433962264152, 597.96, 'gini = 0.0\\nsamples = 8\\nvalue = [0, 8]')]"
      ]
     },
     "execution_count": 56,
     "metadata": {},
     "output_type": "execute_result"
    },
    {
     "data": {
      "image/png": "[encoded data removed]",
      "text/plain": [
       "<Figure size 1440x1440 with 1 Axes>"
      ]
     },
     "metadata": {
      "needs_background": "light"
     },
     "output_type": "display_data"
    }
   ],
   "source": [
    "plt.rcParams[\"figure.figsize\"] = (20,20)\n",
    "plot_tree( bin_tree, feature_names=class_data.columns, fontsize=10)"
   ]
  },
  {
   "cell_type": "code",
   "execution_count": 57,
   "metadata": {},
   "outputs": [
    {
     "data": {
      "text/plain": [
       "0.976"
      ]
     },
     "execution_count": 57,
     "metadata": {},
     "output_type": "execute_result"
    }
   ],
   "source": [
    "plt.rcParams[\"figure.figsize\"] = o_size\n",
    "bin_tree.score(test_x,test_y)"
   ]
  },
  {
   "cell_type": "code",
   "execution_count": 58,
   "metadata": {},
   "outputs": [
    {
     "name": "stdout",
     "output_type": "stream",
     "text": [
      "              precision    recall  f1-score   support\n",
      "\n",
      "           0       1.00      0.96      0.98       248\n",
      "           1       0.93      1.00      0.97       127\n",
      "\n",
      "    accuracy                           0.98       375\n",
      "   macro avg       0.97      0.98      0.97       375\n",
      "weighted avg       0.98      0.98      0.98       375\n",
      "\n"
     ]
    }
   ],
   "source": [
    "Linear_report = classification_report(pred_y,test_y)\n",
    "print(Linear_report)"
   ]
  },
  {
   "cell_type": "code",
   "execution_count": 59,
   "metadata": {},
   "outputs": [
    {
     "name": "stdout",
     "output_type": "stream",
     "text": [
      "Average Fit time 0.0025939464569091795\n",
      "Average Prediction time 0.000997018814086914\n",
      "Average Score 0.99\n"
     ]
    }
   ],
   "source": [
    "cross_results = cross_validate(bin_tree,all_x,all_y,cv=5)\n",
    "bin_tree_ft = ((sum(cross_results['fit_time']))/(len(cross_results['fit_time'])))\n",
    "bin_tree_st = ((sum(cross_results['score_time']))/(len(cross_results['score_time'])))\n",
    "bin_tree_average = ((sum(cross_results['test_score']))/(len(cross_results['test_score'])))\n",
    "print(f\"Average Fit time {bin_tree_ft}\")\n",
    "print(f\"Average Prediction time {bin_tree_st}\")\n",
    "print(f\"Average Score {bin_tree_average}\")"
   ]
  },
  {
   "cell_type": "code",
   "execution_count": 60,
   "metadata": {},
   "outputs": [
    {
     "data": {
      "image/png": "[encoded data removed]",
      "text/plain": [
       "<Figure size 432x288 with 2 Axes>"
      ]
     },
     "metadata": {
      "needs_background": "light"
     },
     "output_type": "display_data"
    }
   ],
   "source": [
    "skplt.metrics.plot_confusion_matrix(test_y, pred_y)\n",
    "plt.show()"
   ]
  },
  {
   "cell_type": "code",
   "execution_count": 61,
   "metadata": {},
   "outputs": [
    {
     "data": {
      "image/png": "[encoded data removed]",
      "text/plain": [
       "<Figure size 432x288 with 2 Axes>"
      ]
     },
     "metadata": {
      "needs_background": "light"
     },
     "output_type": "display_data"
    }
   ],
   "source": [
    "skplt.metrics.plot_confusion_matrix(test_y, pred_y,normalize=True)\n",
    "plt.show()"
   ]
  },
  {
   "cell_type": "markdown",
   "metadata": {},
   "source": [
    "# Neural-net"
   ]
  },
  {
   "cell_type": "code",
   "execution_count": 62,
   "metadata": {},
   "outputs": [
    {
     "data": {
      "text/plain": [
       "0.9573333333333334"
      ]
     },
     "execution_count": 62,
     "metadata": {},
     "output_type": "execute_result"
    }
   ],
   "source": [
    "n_net = MLPClassifier(solver='adam', max_iter=50000, hidden_layer_sizes=(100),batch_size=10)\n",
    "n_net = n_net.fit(train_x,train_y)\n",
    "pred_y = n_net.predict(test_x)\n",
    "n_net.score(test_x,test_y)"
   ]
  },
  {
   "cell_type": "code",
   "execution_count": 63,
   "metadata": {},
   "outputs": [
    {
     "name": "stdout",
     "output_type": "stream",
     "text": [
      "              precision    recall  f1-score   support\n",
      "\n",
      "           0       0.98      0.95      0.97       247\n",
      "           1       0.91      0.97      0.94       128\n",
      "\n",
      "    accuracy                           0.96       375\n",
      "   macro avg       0.95      0.96      0.95       375\n",
      "weighted avg       0.96      0.96      0.96       375\n",
      "\n"
     ]
    }
   ],
   "source": [
    "print(classification_report(pred_y,test_y))"
   ]
  },
  {
   "cell_type": "code",
   "execution_count": 64,
   "metadata": {},
   "outputs": [
    {
     "name": "stdout",
     "output_type": "stream",
     "text": [
      "Average Fit time 2.8627703189849854\n",
      "Average Prediction time 0.002378559112548828\n",
      "Average Score 0.9553333333333335\n"
     ]
    }
   ],
   "source": [
    "cross_results = cross_validate(n_net,all_x,all_y,cv=5)\n",
    "n_net_ft = ((sum(cross_results['fit_time']))/(len(cross_results['fit_time'])))\n",
    "n_net_st = ((sum(cross_results['score_time']))/(len(cross_results['score_time'])))\n",
    "n_net_average = ((sum(cross_results['test_score']))/(len(cross_results['test_score'])))\n",
    "print(f\"Average Fit time {n_net_ft}\")\n",
    "print(f\"Average Prediction time {n_net_st}\")\n",
    "print(f\"Average Score {n_net_average}\")"
   ]
  },
  {
   "cell_type": "code",
   "execution_count": 65,
   "metadata": {},
   "outputs": [
    {
     "data": {
      "image/png": "[encoded data removed]",
      "text/plain": [
       "<Figure size 432x288 with 2 Axes>"
      ]
     },
     "metadata": {
      "needs_background": "light"
     },
     "output_type": "display_data"
    }
   ],
   "source": [
    "skplt.metrics.plot_confusion_matrix(test_y, pred_y)\n",
    "plt.show()"
   ]
  },
  {
   "cell_type": "code",
   "execution_count": 66,
   "metadata": {},
   "outputs": [
    {
     "data": {
      "image/png": "[encoded data removed]",
      "text/plain": [
       "<Figure size 432x288 with 2 Axes>"
      ]
     },
     "metadata": {
      "needs_background": "light"
     },
     "output_type": "display_data"
    }
   ],
   "source": [
    "skplt.metrics.plot_confusion_matrix(test_y, pred_y,normalize=True)\n",
    "plt.show()"
   ]
  },
  {
   "cell_type": "markdown",
   "metadata": {},
   "source": [
    "# Random Forest"
   ]
  },
  {
   "cell_type": "code",
   "execution_count": 67,
   "metadata": {},
   "outputs": [
    {
     "data": {
      "text/plain": [
       "0.976"
      ]
     },
     "execution_count": 67,
     "metadata": {},
     "output_type": "execute_result"
    }
   ],
   "source": [
    "rand_for = RandomForestClassifier(n_estimators=50)\n",
    "rand_for = rand_for.fit(train_x,train_y)\n",
    "pred_y = rand_for.predict(test_x)\n",
    "rand_for.score(test_x,test_y)"
   ]
  },
  {
   "cell_type": "code",
   "execution_count": 68,
   "metadata": {},
   "outputs": [
    {
     "name": "stdout",
     "output_type": "stream",
     "text": [
      "              precision    recall  f1-score   support\n",
      "\n",
      "           0       1.00      0.96      0.98       248\n",
      "           1       0.93      1.00      0.97       127\n",
      "\n",
      "    accuracy                           0.98       375\n",
      "   macro avg       0.97      0.98      0.97       375\n",
      "weighted avg       0.98      0.98      0.98       375\n",
      "\n"
     ]
    }
   ],
   "source": [
    "print(classification_report(pred_y,test_y))"
   ]
  },
  {
   "cell_type": "code",
   "execution_count": 69,
   "metadata": {},
   "outputs": [
    {
     "name": "stdout",
     "output_type": "stream",
     "text": [
      "Average Fit time 0.07078638076782226\n",
      "Average Prediction time 0.006182813644409179\n",
      "Average Score 0.9866666666666667\n"
     ]
    }
   ],
   "source": [
    "cross_results = cross_validate(rand_for,all_x,all_y,cv=5)\n",
    "rand_for_ft = ((sum(cross_results['fit_time']))/(len(cross_results['fit_time'])))\n",
    "rand_for_st = ((sum(cross_results['score_time']))/(len(cross_results['score_time'])))\n",
    "rand_for_average = ((sum(cross_results['test_score']))/(len(cross_results['test_score'])))\n",
    "print(f\"Average Fit time {rand_for_ft}\")\n",
    "print(f\"Average Prediction time {rand_for_st}\")\n",
    "print(f\"Average Score {rand_for_average}\")"
   ]
  },
  {
   "cell_type": "code",
   "execution_count": 70,
   "metadata": {},
   "outputs": [
    {
     "data": {
      "image/png": "[encoded data removed]",
      "text/plain": [
       "<Figure size 432x288 with 2 Axes>"
      ]
     },
     "metadata": {
      "needs_background": "light"
     },
     "output_type": "display_data"
    }
   ],
   "source": [
    "skplt.metrics.plot_confusion_matrix(test_y, pred_y)\n",
    "plt.show()"
   ]
  },
  {
   "cell_type": "code",
   "execution_count": 71,
   "metadata": {},
   "outputs": [
    {
     "data": {
      "image/png": "[encoded data removed]",
      "text/plain": [
       "<Figure size 432x288 with 2 Axes>"
      ]
     },
     "metadata": {
      "needs_background": "light"
     },
     "output_type": "display_data"
    }
   ],
   "source": [
    "skplt.metrics.plot_confusion_matrix(test_y, pred_y,normalize=True)\n",
    "plt.show()"
   ]
  },
  {
   "cell_type": "code",
   "execution_count": null,
   "metadata": {},
   "outputs": [],
   "source": []
  },
  {
   "cell_type": "code",
   "execution_count": null,
   "metadata": {},
   "outputs": [],
   "source": []
  }
 ],
 "metadata": {
  "colab": {
   "include_colab_link": true,
   "name": "Legacy Data.ipynb",
   "provenance": []
  },
  "kernelspec": {
   "display_name": "Python 3",
   "language": "python",
   "name": "python3"
  },
  "language_info": {
   "codemirror_mode": {
    "name": "ipython",
    "version": 3
   },
   "file_extension": ".py",
   "mimetype": "text/x-python",
   "name": "python",
   "nbconvert_exporter": "python",
   "pygments_lexer": "ipython3",
   "version": "3.7.5"
  }
 },
 "nbformat": 4,
 "nbformat_minor": 4
}
