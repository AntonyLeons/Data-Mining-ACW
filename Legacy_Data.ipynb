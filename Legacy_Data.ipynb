{
 "cells": [
  {
   "cell_type": "markdown",
   "metadata": {
    "colab_type": "text",
    "id": "view-in-github"
   },
   "source": [
    "<a href=\"https://colab.research.google.com/github/AntonyLeons/Data-Mining-ACW/blob/master/Legacy_Data.ipynb\" target=\"_parent\"><img src=\"https://colab.research.google.com/assets/colab-badge.svg\" alt=\"Open In Colab\"/></a>"
   ]
  },
  {
   "cell_type": "markdown",
   "metadata": {
    "colab_type": "text",
    "id": "sg6oiJnY9suG"
   },
   "source": [
    "# Legacy Data"
   ]
  },
  {
   "cell_type": "code",
   "execution_count": 76,
   "metadata": {
    "colab": {},
    "colab_type": "code",
    "id": "XkTgFM8T9n1c"
   },
   "outputs": [],
   "source": [
    "import pandas as pd\n",
    "import numpy as np\n",
    "import random as rand # import libs\n",
    "import seaborn as sns\n",
    "import sklearn\n",
    "import sklearn.tree as tree\n",
    "from sklearn.metrics import confusion_matrix\n",
    "from sklearn.linear_model import LogisticRegression\n",
    "import scikitplot as skplt\n",
    "from sklearn.preprocessing import OneHotEncoder\n",
    "from sklearn import preprocessing\n",
    "from sklearn.tree import DecisionTreeClassifier\n",
    "import matplotlib.pyplot as plt\n",
    "from sklearn.tree import plot_tree\n",
    "from sklearn.neural_network import MLPClassifier"
   ]
  },
  {
   "cell_type": "code",
   "execution_count": 2,
   "metadata": {},
   "outputs": [],
   "source": [
    "# from google.colab import files  # If running on google upload data\n",
    "\n",
    "# uploaded = files.upload()\n",
    "\n",
    "# for fn in uploaded.keys():\n",
    "#   print('User uploaded file \"{name}\" with length {length} bytes'.format(\n",
    "#       name=fn, length=len(uploaded[fn])))\n",
    "%notebook inline"
   ]
  },
  {
   "cell_type": "code",
   "execution_count": 3,
   "metadata": {},
   "outputs": [],
   "source": [
    "data=pd.read_csv('data/600092_data.csv') # import CSV"
   ]
  },
  {
   "cell_type": "code",
   "execution_count": 4,
   "metadata": {},
   "outputs": [
    {
     "name": "stdout",
     "output_type": "stream",
     "text": [
      "Random          float64\n",
      "Id                int64\n",
      "Indication       object\n",
      "Diabetes         object\n",
      "IHD              object\n",
      "Hypertension     object\n",
      "Arrhythmia       object\n",
      "History          object\n",
      "IPSI            float64\n",
      "Contra           object\n",
      "label            object\n",
      "dtype: object\n",
      "total heading 11\n"
     ]
    }
   ],
   "source": [
    "print(data.dtypes) # see types, conta is not a int. IPSI is float but can be an int however this should not affect the model\n",
    "print(f\"total heading {len(data.columns)}\")"
   ]
  },
  {
   "cell_type": "code",
   "execution_count": 5,
   "metadata": {},
   "outputs": [
    {
     "data": {
      "text/html": [
       "<div>\n",
       "<style scoped>\n",
       "    .dataframe tbody tr th:only-of-type {\n",
       "        vertical-align: middle;\n",
       "    }\n",
       "\n",
       "    .dataframe tbody tr th {\n",
       "        vertical-align: top;\n",
       "    }\n",
       "\n",
       "    .dataframe thead th {\n",
       "        text-align: right;\n",
       "    }\n",
       "</style>\n",
       "<table border=\"1\" class=\"dataframe\">\n",
       "  <thead>\n",
       "    <tr style=\"text-align: right;\">\n",
       "      <th></th>\n",
       "      <th>Random</th>\n",
       "      <th>Id</th>\n",
       "      <th>Indication</th>\n",
       "      <th>Diabetes</th>\n",
       "      <th>IHD</th>\n",
       "      <th>Hypertension</th>\n",
       "      <th>Arrhythmia</th>\n",
       "      <th>History</th>\n",
       "      <th>IPSI</th>\n",
       "      <th>Contra</th>\n",
       "      <th>label</th>\n",
       "    </tr>\n",
       "  </thead>\n",
       "  <tbody>\n",
       "    <tr>\n",
       "      <th>count</th>\n",
       "      <td>1520.000000</td>\n",
       "      <td>1520.000000</td>\n",
       "      <td>1517</td>\n",
       "      <td>1518</td>\n",
       "      <td>1520</td>\n",
       "      <td>1517</td>\n",
       "      <td>1520</td>\n",
       "      <td>1518</td>\n",
       "      <td>1516.000000</td>\n",
       "      <td>1520</td>\n",
       "      <td>1517</td>\n",
       "    </tr>\n",
       "    <tr>\n",
       "      <th>unique</th>\n",
       "      <td>NaN</td>\n",
       "      <td>NaN</td>\n",
       "      <td>5</td>\n",
       "      <td>2</td>\n",
       "      <td>2</td>\n",
       "      <td>2</td>\n",
       "      <td>2</td>\n",
       "      <td>2</td>\n",
       "      <td>NaN</td>\n",
       "      <td>41</td>\n",
       "      <td>3</td>\n",
       "    </tr>\n",
       "    <tr>\n",
       "      <th>top</th>\n",
       "      <td>NaN</td>\n",
       "      <td>NaN</td>\n",
       "      <td>A-F</td>\n",
       "      <td>no</td>\n",
       "      <td>no</td>\n",
       "      <td>no</td>\n",
       "      <td>no</td>\n",
       "      <td>no</td>\n",
       "      <td>NaN</td>\n",
       "      <td>100</td>\n",
       "      <td>NoRisk</td>\n",
       "    </tr>\n",
       "    <tr>\n",
       "      <th>freq</th>\n",
       "      <td>NaN</td>\n",
       "      <td>NaN</td>\n",
       "      <td>493</td>\n",
       "      <td>1441</td>\n",
       "      <td>801</td>\n",
       "      <td>784</td>\n",
       "      <td>1190</td>\n",
       "      <td>1494</td>\n",
       "      <td>NaN</td>\n",
       "      <td>244</td>\n",
       "      <td>1008</td>\n",
       "    </tr>\n",
       "    <tr>\n",
       "      <th>mean</th>\n",
       "      <td>0.509545</td>\n",
       "      <td>188365.022368</td>\n",
       "      <td>NaN</td>\n",
       "      <td>NaN</td>\n",
       "      <td>NaN</td>\n",
       "      <td>NaN</td>\n",
       "      <td>NaN</td>\n",
       "      <td>NaN</td>\n",
       "      <td>78.872032</td>\n",
       "      <td>NaN</td>\n",
       "      <td>NaN</td>\n",
       "    </tr>\n",
       "    <tr>\n",
       "      <th>std</th>\n",
       "      <td>0.284006</td>\n",
       "      <td>64355.870242</td>\n",
       "      <td>NaN</td>\n",
       "      <td>NaN</td>\n",
       "      <td>NaN</td>\n",
       "      <td>NaN</td>\n",
       "      <td>NaN</td>\n",
       "      <td>NaN</td>\n",
       "      <td>10.162351</td>\n",
       "      <td>NaN</td>\n",
       "      <td>NaN</td>\n",
       "    </tr>\n",
       "    <tr>\n",
       "      <th>min</th>\n",
       "      <td>0.000295</td>\n",
       "      <td>78261.000000</td>\n",
       "      <td>NaN</td>\n",
       "      <td>NaN</td>\n",
       "      <td>NaN</td>\n",
       "      <td>NaN</td>\n",
       "      <td>NaN</td>\n",
       "      <td>NaN</td>\n",
       "      <td>35.000000</td>\n",
       "      <td>NaN</td>\n",
       "      <td>NaN</td>\n",
       "    </tr>\n",
       "    <tr>\n",
       "      <th>25%</th>\n",
       "      <td>0.268531</td>\n",
       "      <td>137130.750000</td>\n",
       "      <td>NaN</td>\n",
       "      <td>NaN</td>\n",
       "      <td>NaN</td>\n",
       "      <td>NaN</td>\n",
       "      <td>NaN</td>\n",
       "      <td>NaN</td>\n",
       "      <td>73.000000</td>\n",
       "      <td>NaN</td>\n",
       "      <td>NaN</td>\n",
       "    </tr>\n",
       "    <tr>\n",
       "      <th>50%</th>\n",
       "      <td>0.517616</td>\n",
       "      <td>191344.500000</td>\n",
       "      <td>NaN</td>\n",
       "      <td>NaN</td>\n",
       "      <td>NaN</td>\n",
       "      <td>NaN</td>\n",
       "      <td>NaN</td>\n",
       "      <td>NaN</td>\n",
       "      <td>77.000000</td>\n",
       "      <td>NaN</td>\n",
       "      <td>NaN</td>\n",
       "    </tr>\n",
       "    <tr>\n",
       "      <th>75%</th>\n",
       "      <td>0.754724</td>\n",
       "      <td>244559.500000</td>\n",
       "      <td>NaN</td>\n",
       "      <td>NaN</td>\n",
       "      <td>NaN</td>\n",
       "      <td>NaN</td>\n",
       "      <td>NaN</td>\n",
       "      <td>NaN</td>\n",
       "      <td>85.000000</td>\n",
       "      <td>NaN</td>\n",
       "      <td>NaN</td>\n",
       "    </tr>\n",
       "    <tr>\n",
       "      <th>max</th>\n",
       "      <td>0.999448</td>\n",
       "      <td>295978.000000</td>\n",
       "      <td>NaN</td>\n",
       "      <td>NaN</td>\n",
       "      <td>NaN</td>\n",
       "      <td>NaN</td>\n",
       "      <td>NaN</td>\n",
       "      <td>NaN</td>\n",
       "      <td>99.000000</td>\n",
       "      <td>NaN</td>\n",
       "      <td>NaN</td>\n",
       "    </tr>\n",
       "  </tbody>\n",
       "</table>\n",
       "</div>"
      ],
      "text/plain": [
       "             Random             Id Indication Diabetes   IHD Hypertension  \\\n",
       "count   1520.000000    1520.000000       1517     1518  1520         1517   \n",
       "unique          NaN            NaN          5        2     2            2   \n",
       "top             NaN            NaN        A-F       no    no           no   \n",
       "freq            NaN            NaN        493     1441   801          784   \n",
       "mean       0.509545  188365.022368        NaN      NaN   NaN          NaN   \n",
       "std        0.284006   64355.870242        NaN      NaN   NaN          NaN   \n",
       "min        0.000295   78261.000000        NaN      NaN   NaN          NaN   \n",
       "25%        0.268531  137130.750000        NaN      NaN   NaN          NaN   \n",
       "50%        0.517616  191344.500000        NaN      NaN   NaN          NaN   \n",
       "75%        0.754724  244559.500000        NaN      NaN   NaN          NaN   \n",
       "max        0.999448  295978.000000        NaN      NaN   NaN          NaN   \n",
       "\n",
       "       Arrhythmia History         IPSI Contra   label  \n",
       "count        1520    1518  1516.000000   1520    1517  \n",
       "unique          2       2          NaN     41       3  \n",
       "top            no      no          NaN    100  NoRisk  \n",
       "freq         1190    1494          NaN    244    1008  \n",
       "mean          NaN     NaN    78.872032    NaN     NaN  \n",
       "std           NaN     NaN    10.162351    NaN     NaN  \n",
       "min           NaN     NaN    35.000000    NaN     NaN  \n",
       "25%           NaN     NaN    73.000000    NaN     NaN  \n",
       "50%           NaN     NaN    77.000000    NaN     NaN  \n",
       "75%           NaN     NaN    85.000000    NaN     NaN  \n",
       "max           NaN     NaN    99.000000    NaN     NaN  "
      ]
     },
     "execution_count": 5,
     "metadata": {},
     "output_type": "execute_result"
    }
   ],
   "source": [
    "data.describe(include = 'all') # Contra is an integer according to the data description but missing"
   ]
  },
  {
   "cell_type": "code",
   "execution_count": 6,
   "metadata": {},
   "outputs": [
    {
     "data": {
      "text/html": [
       "<div>\n",
       "<style scoped>\n",
       "    .dataframe tbody tr th:only-of-type {\n",
       "        vertical-align: middle;\n",
       "    }\n",
       "\n",
       "    .dataframe tbody tr th {\n",
       "        vertical-align: top;\n",
       "    }\n",
       "\n",
       "    .dataframe thead th {\n",
       "        text-align: right;\n",
       "    }\n",
       "</style>\n",
       "<table border=\"1\" class=\"dataframe\">\n",
       "  <thead>\n",
       "    <tr style=\"text-align: right;\">\n",
       "      <th></th>\n",
       "      <th>Random</th>\n",
       "      <th>Id</th>\n",
       "      <th>Indication</th>\n",
       "      <th>Diabetes</th>\n",
       "      <th>IHD</th>\n",
       "      <th>Hypertension</th>\n",
       "      <th>Arrhythmia</th>\n",
       "      <th>History</th>\n",
       "      <th>IPSI</th>\n",
       "      <th>Contra</th>\n",
       "      <th>label</th>\n",
       "    </tr>\n",
       "  </thead>\n",
       "  <tbody>\n",
       "    <tr>\n",
       "      <th>0</th>\n",
       "      <td>0.602437</td>\n",
       "      <td>218242</td>\n",
       "      <td>A-F</td>\n",
       "      <td>no</td>\n",
       "      <td>no</td>\n",
       "      <td>yes</td>\n",
       "      <td>no</td>\n",
       "      <td>no</td>\n",
       "      <td>78.0</td>\n",
       "      <td>20</td>\n",
       "      <td>NoRisk</td>\n",
       "    </tr>\n",
       "    <tr>\n",
       "      <th>1</th>\n",
       "      <td>0.602437</td>\n",
       "      <td>159284</td>\n",
       "      <td>TIA</td>\n",
       "      <td>no</td>\n",
       "      <td>no</td>\n",
       "      <td>no</td>\n",
       "      <td>no</td>\n",
       "      <td>no</td>\n",
       "      <td>70.0</td>\n",
       "      <td>60</td>\n",
       "      <td>NoRisk</td>\n",
       "    </tr>\n",
       "    <tr>\n",
       "      <th>2</th>\n",
       "      <td>0.602437</td>\n",
       "      <td>106066</td>\n",
       "      <td>A-F</td>\n",
       "      <td>no</td>\n",
       "      <td>yes</td>\n",
       "      <td>yes</td>\n",
       "      <td>no</td>\n",
       "      <td>no</td>\n",
       "      <td>95.0</td>\n",
       "      <td>40</td>\n",
       "      <td>Risk</td>\n",
       "    </tr>\n",
       "    <tr>\n",
       "      <th>3</th>\n",
       "      <td>0.128157</td>\n",
       "      <td>229592</td>\n",
       "      <td>TIA</td>\n",
       "      <td>no</td>\n",
       "      <td>no</td>\n",
       "      <td>yes</td>\n",
       "      <td>no</td>\n",
       "      <td>no</td>\n",
       "      <td>90.0</td>\n",
       "      <td>85</td>\n",
       "      <td>Risk</td>\n",
       "    </tr>\n",
       "    <tr>\n",
       "      <th>4</th>\n",
       "      <td>0.676862</td>\n",
       "      <td>245829</td>\n",
       "      <td>CVA</td>\n",
       "      <td>no</td>\n",
       "      <td>no</td>\n",
       "      <td>no</td>\n",
       "      <td>no</td>\n",
       "      <td>no</td>\n",
       "      <td>70.0</td>\n",
       "      <td>20</td>\n",
       "      <td>NoRisk</td>\n",
       "    </tr>\n",
       "    <tr>\n",
       "      <th>5</th>\n",
       "      <td>0.916897</td>\n",
       "      <td>169990</td>\n",
       "      <td>A-F</td>\n",
       "      <td>no</td>\n",
       "      <td>no</td>\n",
       "      <td>no</td>\n",
       "      <td>yes</td>\n",
       "      <td>no</td>\n",
       "      <td>95.0</td>\n",
       "      <td>95</td>\n",
       "      <td>Risk</td>\n",
       "    </tr>\n",
       "    <tr>\n",
       "      <th>6</th>\n",
       "      <td>0.383408</td>\n",
       "      <td>196122</td>\n",
       "      <td>A-F</td>\n",
       "      <td>no</td>\n",
       "      <td>yes</td>\n",
       "      <td>yes</td>\n",
       "      <td>no</td>\n",
       "      <td>no</td>\n",
       "      <td>90.0</td>\n",
       "      <td>95</td>\n",
       "      <td>Risk</td>\n",
       "    </tr>\n",
       "    <tr>\n",
       "      <th>7</th>\n",
       "      <td>0.538333</td>\n",
       "      <td>261057</td>\n",
       "      <td>CVA</td>\n",
       "      <td>no</td>\n",
       "      <td>no</td>\n",
       "      <td>no</td>\n",
       "      <td>no</td>\n",
       "      <td>no</td>\n",
       "      <td>75.0</td>\n",
       "      <td>60</td>\n",
       "      <td>NoRisk</td>\n",
       "    </tr>\n",
       "    <tr>\n",
       "      <th>8</th>\n",
       "      <td>0.678157</td>\n",
       "      <td>256128</td>\n",
       "      <td>TIA</td>\n",
       "      <td>no</td>\n",
       "      <td>no</td>\n",
       "      <td>yes</td>\n",
       "      <td>no</td>\n",
       "      <td>no</td>\n",
       "      <td>81.0</td>\n",
       "      <td>20</td>\n",
       "      <td>NoRisk</td>\n",
       "    </tr>\n",
       "    <tr>\n",
       "      <th>9</th>\n",
       "      <td>0.689331</td>\n",
       "      <td>196936</td>\n",
       "      <td>A-F</td>\n",
       "      <td>no</td>\n",
       "      <td>no</td>\n",
       "      <td>yes</td>\n",
       "      <td>yes</td>\n",
       "      <td>no</td>\n",
       "      <td>95.0</td>\n",
       "      <td>100</td>\n",
       "      <td>Risk</td>\n",
       "    </tr>\n",
       "    <tr>\n",
       "      <th>10</th>\n",
       "      <td>0.678157</td>\n",
       "      <td>174588</td>\n",
       "      <td>CVA</td>\n",
       "      <td>no</td>\n",
       "      <td>yes</td>\n",
       "      <td>yes</td>\n",
       "      <td>yes</td>\n",
       "      <td>no</td>\n",
       "      <td>75.0</td>\n",
       "      <td>50</td>\n",
       "      <td>Risk</td>\n",
       "    </tr>\n",
       "    <tr>\n",
       "      <th>11</th>\n",
       "      <td>0.655217</td>\n",
       "      <td>271863</td>\n",
       "      <td>A-F</td>\n",
       "      <td>no</td>\n",
       "      <td>yes</td>\n",
       "      <td>yes</td>\n",
       "      <td>no</td>\n",
       "      <td>no</td>\n",
       "      <td>80.0</td>\n",
       "      <td>40</td>\n",
       "      <td>Risk</td>\n",
       "    </tr>\n",
       "    <tr>\n",
       "      <th>12</th>\n",
       "      <td>0.071533</td>\n",
       "      <td>274906</td>\n",
       "      <td>A-F</td>\n",
       "      <td>no</td>\n",
       "      <td>yes</td>\n",
       "      <td>no</td>\n",
       "      <td>no</td>\n",
       "      <td>no</td>\n",
       "      <td>76.0</td>\n",
       "      <td>50</td>\n",
       "      <td>NoRisk</td>\n",
       "    </tr>\n",
       "    <tr>\n",
       "      <th>13</th>\n",
       "      <td>0.025356</td>\n",
       "      <td>224025</td>\n",
       "      <td>CVA</td>\n",
       "      <td>no</td>\n",
       "      <td>yes</td>\n",
       "      <td>yes</td>\n",
       "      <td>yes</td>\n",
       "      <td>no</td>\n",
       "      <td>75.0</td>\n",
       "      <td>50</td>\n",
       "      <td>Risk</td>\n",
       "    </tr>\n",
       "    <tr>\n",
       "      <th>14</th>\n",
       "      <td>0.637037</td>\n",
       "      <td>167053</td>\n",
       "      <td>TIA</td>\n",
       "      <td>no</td>\n",
       "      <td>yes</td>\n",
       "      <td>no</td>\n",
       "      <td>no</td>\n",
       "      <td>no</td>\n",
       "      <td>78.0</td>\n",
       "      <td>30</td>\n",
       "      <td>NoRisk</td>\n",
       "    </tr>\n",
       "  </tbody>\n",
       "</table>\n",
       "</div>"
      ],
      "text/plain": [
       "      Random      Id Indication Diabetes  IHD Hypertension Arrhythmia History  \\\n",
       "0   0.602437  218242        A-F       no   no          yes         no      no   \n",
       "1   0.602437  159284        TIA       no   no           no         no      no   \n",
       "2   0.602437  106066        A-F       no  yes          yes         no      no   \n",
       "3   0.128157  229592        TIA       no   no          yes         no      no   \n",
       "4   0.676862  245829        CVA       no   no           no         no      no   \n",
       "5   0.916897  169990        A-F       no   no           no        yes      no   \n",
       "6   0.383408  196122        A-F       no  yes          yes         no      no   \n",
       "7   0.538333  261057        CVA       no   no           no         no      no   \n",
       "8   0.678157  256128        TIA       no   no          yes         no      no   \n",
       "9   0.689331  196936        A-F       no   no          yes        yes      no   \n",
       "10  0.678157  174588        CVA       no  yes          yes        yes      no   \n",
       "11  0.655217  271863        A-F       no  yes          yes         no      no   \n",
       "12  0.071533  274906        A-F       no  yes           no         no      no   \n",
       "13  0.025356  224025        CVA       no  yes          yes        yes      no   \n",
       "14  0.637037  167053        TIA       no  yes           no         no      no   \n",
       "\n",
       "    IPSI Contra   label  \n",
       "0   78.0    20   NoRisk  \n",
       "1   70.0    60   NoRisk  \n",
       "2   95.0     40    Risk  \n",
       "3   90.0     85    Risk  \n",
       "4   70.0    20   NoRisk  \n",
       "5   95.0     95    Risk  \n",
       "6   90.0     95    Risk  \n",
       "7   75.0    60   NoRisk  \n",
       "8   81.0    20   NoRisk  \n",
       "9   95.0    100    Risk  \n",
       "10  75.0     50    Risk  \n",
       "11  80.0     40    Risk  \n",
       "12  76.0    50   NoRisk  \n",
       "13  75.0     50    Risk  \n",
       "14  78.0    30   NoRisk  "
      ]
     },
     "execution_count": 6,
     "metadata": {},
     "output_type": "execute_result"
    }
   ],
   "source": [
    "data.head(15) # quick look at the data"
   ]
  },
  {
   "cell_type": "code",
   "execution_count": 7,
   "metadata": {},
   "outputs": [],
   "source": [
    "# looking at the top 15 rows corta is indeed a Integer and yes/no and noRisk and Risk can be replaced with 1 or 0."
   ]
  },
  {
   "cell_type": "code",
   "execution_count": 8,
   "metadata": {},
   "outputs": [
    {
     "name": "stdout",
     "output_type": "stream",
     "text": [
      "Random 1222\n",
      "Id 1520\n",
      "Indication 5\n",
      "Diabetes 2\n",
      "IHD 2\n",
      "Hypertension 2\n",
      "Arrhythmia 2\n",
      "History 2\n",
      "IPSI 29\n",
      "Contra 41\n",
      "label 3\n"
     ]
    }
   ],
   "source": [
    "for headings in data.columns:\n",
    "    print(f\"{headings} {data[headings].nunique()}\")  # get total distict for each column"
   ]
  },
  {
   "cell_type": "code",
   "execution_count": 9,
   "metadata": {},
   "outputs": [],
   "source": [
    "# random should be unique according to the data decription but in the id is Unique and Random has ~200 repeats, this implies the columns have been switched.\n",
    "# label also has 3 values but should be nominal with Risk and NoRisk values"
   ]
  },
  {
   "cell_type": "code",
   "execution_count": 10,
   "metadata": {},
   "outputs": [],
   "source": [
    "data_copy = data.copy() #copy original dataframe"
   ]
  },
  {
   "cell_type": "code",
   "execution_count": 11,
   "metadata": {},
   "outputs": [
    {
     "data": {
      "text/html": [
       "<div>\n",
       "<style scoped>\n",
       "    .dataframe tbody tr th:only-of-type {\n",
       "        vertical-align: middle;\n",
       "    }\n",
       "\n",
       "    .dataframe tbody tr th {\n",
       "        vertical-align: top;\n",
       "    }\n",
       "\n",
       "    .dataframe thead th {\n",
       "        text-align: right;\n",
       "    }\n",
       "</style>\n",
       "<table border=\"1\" class=\"dataframe\">\n",
       "  <thead>\n",
       "    <tr style=\"text-align: right;\">\n",
       "      <th></th>\n",
       "      <th>Random</th>\n",
       "      <th>Id</th>\n",
       "      <th>Indication</th>\n",
       "      <th>Diabetes</th>\n",
       "      <th>IHD</th>\n",
       "      <th>Hypertension</th>\n",
       "      <th>Arrhythmia</th>\n",
       "      <th>History</th>\n",
       "      <th>IPSI</th>\n",
       "      <th>Contra</th>\n",
       "      <th>label</th>\n",
       "    </tr>\n",
       "  </thead>\n",
       "  <tbody>\n",
       "    <tr>\n",
       "      <th>1</th>\n",
       "      <td>0.602437</td>\n",
       "      <td>159284</td>\n",
       "      <td>TIA</td>\n",
       "      <td>no</td>\n",
       "      <td>no</td>\n",
       "      <td>no</td>\n",
       "      <td>no</td>\n",
       "      <td>no</td>\n",
       "      <td>70.0</td>\n",
       "      <td>60</td>\n",
       "      <td>NoRisk</td>\n",
       "    </tr>\n",
       "    <tr>\n",
       "      <th>2</th>\n",
       "      <td>0.602437</td>\n",
       "      <td>106066</td>\n",
       "      <td>A-F</td>\n",
       "      <td>no</td>\n",
       "      <td>yes</td>\n",
       "      <td>yes</td>\n",
       "      <td>no</td>\n",
       "      <td>no</td>\n",
       "      <td>95.0</td>\n",
       "      <td>40</td>\n",
       "      <td>Risk</td>\n",
       "    </tr>\n",
       "    <tr>\n",
       "      <th>10</th>\n",
       "      <td>0.678157</td>\n",
       "      <td>174588</td>\n",
       "      <td>CVA</td>\n",
       "      <td>no</td>\n",
       "      <td>yes</td>\n",
       "      <td>yes</td>\n",
       "      <td>yes</td>\n",
       "      <td>no</td>\n",
       "      <td>75.0</td>\n",
       "      <td>50</td>\n",
       "      <td>Risk</td>\n",
       "    </tr>\n",
       "    <tr>\n",
       "      <th>15</th>\n",
       "      <td>0.025356</td>\n",
       "      <td>219417</td>\n",
       "      <td>CVA</td>\n",
       "      <td>no</td>\n",
       "      <td>yes</td>\n",
       "      <td>yes</td>\n",
       "      <td>yes</td>\n",
       "      <td>no</td>\n",
       "      <td>90.0</td>\n",
       "      <td>100</td>\n",
       "      <td>Risk</td>\n",
       "    </tr>\n",
       "    <tr>\n",
       "      <th>19</th>\n",
       "      <td>0.065821</td>\n",
       "      <td>101248</td>\n",
       "      <td>ASx</td>\n",
       "      <td>yes</td>\n",
       "      <td>no</td>\n",
       "      <td>yes</td>\n",
       "      <td>no</td>\n",
       "      <td>no</td>\n",
       "      <td>80.0</td>\n",
       "      <td>80</td>\n",
       "      <td>Risk</td>\n",
       "    </tr>\n",
       "    <tr>\n",
       "      <th>...</th>\n",
       "      <td>...</td>\n",
       "      <td>...</td>\n",
       "      <td>...</td>\n",
       "      <td>...</td>\n",
       "      <td>...</td>\n",
       "      <td>...</td>\n",
       "      <td>...</td>\n",
       "      <td>...</td>\n",
       "      <td>...</td>\n",
       "      <td>...</td>\n",
       "      <td>...</td>\n",
       "    </tr>\n",
       "    <tr>\n",
       "      <th>1457</th>\n",
       "      <td>0.754513</td>\n",
       "      <td>293073</td>\n",
       "      <td>A-F</td>\n",
       "      <td>no</td>\n",
       "      <td>yes</td>\n",
       "      <td>no</td>\n",
       "      <td>yes</td>\n",
       "      <td>no</td>\n",
       "      <td>95.0</td>\n",
       "      <td>100</td>\n",
       "      <td>Risk</td>\n",
       "    </tr>\n",
       "    <tr>\n",
       "      <th>1459</th>\n",
       "      <td>0.735681</td>\n",
       "      <td>151183</td>\n",
       "      <td>CVA</td>\n",
       "      <td>no</td>\n",
       "      <td>no</td>\n",
       "      <td>no</td>\n",
       "      <td>no</td>\n",
       "      <td>no</td>\n",
       "      <td>75.0</td>\n",
       "      <td>90</td>\n",
       "      <td>NoRisk</td>\n",
       "    </tr>\n",
       "    <tr>\n",
       "      <th>1467</th>\n",
       "      <td>0.889219</td>\n",
       "      <td>202550</td>\n",
       "      <td>TIA</td>\n",
       "      <td>no</td>\n",
       "      <td>no</td>\n",
       "      <td>yes</td>\n",
       "      <td>no</td>\n",
       "      <td>no</td>\n",
       "      <td>77.0</td>\n",
       "      <td>20</td>\n",
       "      <td>NoRisk</td>\n",
       "    </tr>\n",
       "    <tr>\n",
       "      <th>1511</th>\n",
       "      <td>0.174637</td>\n",
       "      <td>284804</td>\n",
       "      <td>TIA</td>\n",
       "      <td>no</td>\n",
       "      <td>yes</td>\n",
       "      <td>no</td>\n",
       "      <td>no</td>\n",
       "      <td>no</td>\n",
       "      <td>73.0</td>\n",
       "      <td>30</td>\n",
       "      <td>NoRisk</td>\n",
       "    </tr>\n",
       "    <tr>\n",
       "      <th>1515</th>\n",
       "      <td>0.391440</td>\n",
       "      <td>93406</td>\n",
       "      <td>A-F</td>\n",
       "      <td>no</td>\n",
       "      <td>yes</td>\n",
       "      <td>no</td>\n",
       "      <td>no</td>\n",
       "      <td>no</td>\n",
       "      <td>76.0</td>\n",
       "      <td>60</td>\n",
       "      <td>NoRisk</td>\n",
       "    </tr>\n",
       "  </tbody>\n",
       "</table>\n",
       "<p>298 rows × 11 columns</p>\n",
       "</div>"
      ],
      "text/plain": [
       "        Random      Id Indication Diabetes  IHD Hypertension Arrhythmia  \\\n",
       "1     0.602437  159284        TIA       no   no           no         no   \n",
       "2     0.602437  106066        A-F       no  yes          yes         no   \n",
       "10    0.678157  174588        CVA       no  yes          yes        yes   \n",
       "15    0.025356  219417        CVA       no  yes          yes        yes   \n",
       "19    0.065821  101248        ASx      yes   no          yes         no   \n",
       "...        ...     ...        ...      ...  ...          ...        ...   \n",
       "1457  0.754513  293073        A-F       no  yes           no        yes   \n",
       "1459  0.735681  151183        CVA       no   no           no         no   \n",
       "1467  0.889219  202550        TIA       no   no          yes         no   \n",
       "1511  0.174637  284804        TIA       no  yes           no         no   \n",
       "1515  0.391440   93406        A-F       no  yes           no         no   \n",
       "\n",
       "     History  IPSI Contra   label  \n",
       "1         no  70.0    60   NoRisk  \n",
       "2         no  95.0     40    Risk  \n",
       "10        no  75.0     50    Risk  \n",
       "15        no  90.0    100    Risk  \n",
       "19        no  80.0     80    Risk  \n",
       "...      ...   ...    ...     ...  \n",
       "1457      no  95.0    100    Risk  \n",
       "1459      no  75.0    90   NoRisk  \n",
       "1467      no  77.0    20   NoRisk  \n",
       "1511      no  73.0    30   NoRisk  \n",
       "1515      no  76.0    60   NoRisk  \n",
       "\n",
       "[298 rows x 11 columns]"
      ]
     },
     "execution_count": 11,
     "metadata": {},
     "output_type": "execute_result"
    }
   ],
   "source": [
    "data_copy[data_copy['Random'].duplicated()] # we can see the duplicated random records are unique"
   ]
  },
  {
   "cell_type": "code",
   "execution_count": 12,
   "metadata": {},
   "outputs": [],
   "source": [
    "data_copy.set_index('Id',inplace=True,verify_integrity=True) # setting unique index as Id is unique"
   ]
  },
  {
   "cell_type": "code",
   "execution_count": 13,
   "metadata": {},
   "outputs": [],
   "source": [
    "data.set_index('Id',inplace=True,verify_integrity=True) # setting unique index as Id is unique for reference"
   ]
  },
  {
   "cell_type": "code",
   "execution_count": 14,
   "metadata": {},
   "outputs": [
    {
     "data": {
      "text/plain": [
       "Random          float64\n",
       "Indication       object\n",
       "Diabetes         object\n",
       "IHD              object\n",
       "Hypertension     object\n",
       "Arrhythmia       object\n",
       "History          object\n",
       "IPSI            float64\n",
       "Contra          float64\n",
       "label            object\n",
       "dtype: object"
      ]
     },
     "execution_count": 14,
     "metadata": {},
     "output_type": "execute_result"
    }
   ],
   "source": [
    "data_copy['Contra'] = pd.to_numeric(data_copy['Contra'],errors='coerce') # convert conta to numberic values replacing invalid with NaNs\n",
    "data_copy.dtypes # conta now numeric "
   ]
  },
  {
   "cell_type": "code",
   "execution_count": 15,
   "metadata": {},
   "outputs": [
    {
     "data": {
      "text/plain": [
       "array(['NoRisk', 'Risk', 'Unknown', nan], dtype=object)"
      ]
     },
     "execution_count": 15,
     "metadata": {},
     "output_type": "execute_result"
    }
   ],
   "source": [
    "data_copy['label'].unique() #only 2 possible values"
   ]
  },
  {
   "cell_type": "code",
   "execution_count": 16,
   "metadata": {},
   "outputs": [],
   "source": [
    "data_copy[\"label\"] = data_copy['label'].replace('Unknown',np.nan)"
   ]
  },
  {
   "cell_type": "code",
   "execution_count": 17,
   "metadata": {},
   "outputs": [
    {
     "data": {
      "text/plain": [
       "array(['NoRisk', 'Risk', nan], dtype=object)"
      ]
     },
     "execution_count": 17,
     "metadata": {},
     "output_type": "execute_result"
    }
   ],
   "source": [
    "data_copy['label'].unique()"
   ]
  },
  {
   "cell_type": "code",
   "execution_count": 18,
   "metadata": {},
   "outputs": [
    {
     "data": {
      "text/plain": [
       "array(['A-F', 'TIA', 'CVA', 'ASx', 'Asx', nan], dtype=object)"
      ]
     },
     "execution_count": 18,
     "metadata": {},
     "output_type": "execute_result"
    }
   ],
   "source": [
    "data_copy['Indication'].unique()  # Data Decription says only 4 possible values"
   ]
  },
  {
   "cell_type": "code",
   "execution_count": 19,
   "metadata": {},
   "outputs": [],
   "source": [
    "data_copy['Indication'] = data_copy['Indication'].replace('Asx','ASX')"
   ]
  },
  {
   "cell_type": "code",
   "execution_count": 20,
   "metadata": {},
   "outputs": [
    {
     "data": {
      "text/plain": [
       "array(['A-F', 'TIA', 'CVA', 'ASx', 'ASX', nan], dtype=object)"
      ]
     },
     "execution_count": 20,
     "metadata": {},
     "output_type": "execute_result"
    }
   ],
   "source": [
    "data_copy['Indication'].unique()"
   ]
  },
  {
   "cell_type": "code",
   "execution_count": null,
   "metadata": {},
   "outputs": [],
   "source": []
  },
  {
   "cell_type": "code",
   "execution_count": 21,
   "metadata": {},
   "outputs": [
    {
     "name": "stdout",
     "output_type": "stream",
     "text": [
      "Indication      3\n",
      "Diabetes        2\n",
      "Hypertension    3\n",
      "History         2\n",
      "IPSI            4\n",
      "Contra          1\n",
      "label           5\n",
      "dtype: int64\n",
      "total  20\n",
      "Percent 1.32%\n"
     ]
    }
   ],
   "source": [
    "null_headings = data_copy.isnull().any()\n",
    "null_columns = data_copy.columns[null_headings]\n",
    "null_column_count = data_copy[null_columns].isnull().sum() \n",
    "# find the number of null values in each column, Note Contra is absent\n",
    "total = null_column_count.sum()\n",
    "print(null_column_count)\n",
    "print(f\"total  {total}\") # total records containing null values\n",
    "percent = (total/len(data_copy.index))*100\n",
    "print(f\"Percent {percent:.3}%\") #  20 records cointain null, this makes up only 1.32% of the data"
   ]
  },
  {
   "cell_type": "code",
   "execution_count": 22,
   "metadata": {},
   "outputs": [
    {
     "data": {
      "text/html": [
       "<div>\n",
       "<style scoped>\n",
       "    .dataframe tbody tr th:only-of-type {\n",
       "        vertical-align: middle;\n",
       "    }\n",
       "\n",
       "    .dataframe tbody tr th {\n",
       "        vertical-align: top;\n",
       "    }\n",
       "\n",
       "    .dataframe thead th {\n",
       "        text-align: right;\n",
       "    }\n",
       "</style>\n",
       "<table border=\"1\" class=\"dataframe\">\n",
       "  <thead>\n",
       "    <tr style=\"text-align: right;\">\n",
       "      <th></th>\n",
       "      <th>Random</th>\n",
       "      <th>Indication</th>\n",
       "      <th>Diabetes</th>\n",
       "      <th>IHD</th>\n",
       "      <th>Hypertension</th>\n",
       "      <th>Arrhythmia</th>\n",
       "      <th>History</th>\n",
       "      <th>IPSI</th>\n",
       "      <th>Contra</th>\n",
       "      <th>label</th>\n",
       "    </tr>\n",
       "  </thead>\n",
       "  <tbody>\n",
       "    <tr>\n",
       "      <th>261060</th>\n",
       "      <td>0.648122</td>\n",
       "      <td>NaN</td>\n",
       "      <td>no</td>\n",
       "      <td>yes</td>\n",
       "      <td>yes</td>\n",
       "      <td>no</td>\n",
       "      <td>no</td>\n",
       "      <td>70.0</td>\n",
       "      <td>40.0</td>\n",
       "      <td>NoRisk</td>\n",
       "    </tr>\n",
       "    <tr>\n",
       "      <th>205845</th>\n",
       "      <td>0.211760</td>\n",
       "      <td>NaN</td>\n",
       "      <td>no</td>\n",
       "      <td>yes</td>\n",
       "      <td>no</td>\n",
       "      <td>no</td>\n",
       "      <td>no</td>\n",
       "      <td>80.0</td>\n",
       "      <td>100.0</td>\n",
       "      <td>Risk</td>\n",
       "    </tr>\n",
       "    <tr>\n",
       "      <th>256076</th>\n",
       "      <td>0.761219</td>\n",
       "      <td>NaN</td>\n",
       "      <td>no</td>\n",
       "      <td>no</td>\n",
       "      <td>no</td>\n",
       "      <td>yes</td>\n",
       "      <td>yes</td>\n",
       "      <td>99.0</td>\n",
       "      <td>100.0</td>\n",
       "      <td>Risk</td>\n",
       "    </tr>\n",
       "    <tr>\n",
       "      <th>224257</th>\n",
       "      <td>0.681744</td>\n",
       "      <td>CVA</td>\n",
       "      <td>NaN</td>\n",
       "      <td>yes</td>\n",
       "      <td>yes</td>\n",
       "      <td>yes</td>\n",
       "      <td>no</td>\n",
       "      <td>90.0</td>\n",
       "      <td>100.0</td>\n",
       "      <td>Risk</td>\n",
       "    </tr>\n",
       "    <tr>\n",
       "      <th>210861</th>\n",
       "      <td>0.392130</td>\n",
       "      <td>A-F</td>\n",
       "      <td>NaN</td>\n",
       "      <td>no</td>\n",
       "      <td>yes</td>\n",
       "      <td>no</td>\n",
       "      <td>no</td>\n",
       "      <td>80.0</td>\n",
       "      <td>40.0</td>\n",
       "      <td>NoRisk</td>\n",
       "    </tr>\n",
       "    <tr>\n",
       "      <th>240232</th>\n",
       "      <td>0.388790</td>\n",
       "      <td>CVA</td>\n",
       "      <td>yes</td>\n",
       "      <td>no</td>\n",
       "      <td>NaN</td>\n",
       "      <td>yes</td>\n",
       "      <td>no</td>\n",
       "      <td>95.0</td>\n",
       "      <td>90.0</td>\n",
       "      <td>Risk</td>\n",
       "    </tr>\n",
       "    <tr>\n",
       "      <th>289096</th>\n",
       "      <td>0.707950</td>\n",
       "      <td>A-F</td>\n",
       "      <td>no</td>\n",
       "      <td>no</td>\n",
       "      <td>NaN</td>\n",
       "      <td>no</td>\n",
       "      <td>no</td>\n",
       "      <td>78.0</td>\n",
       "      <td>30.0</td>\n",
       "      <td>NoRisk</td>\n",
       "    </tr>\n",
       "    <tr>\n",
       "      <th>158024</th>\n",
       "      <td>0.319215</td>\n",
       "      <td>TIA</td>\n",
       "      <td>no</td>\n",
       "      <td>no</td>\n",
       "      <td>NaN</td>\n",
       "      <td>no</td>\n",
       "      <td>no</td>\n",
       "      <td>75.0</td>\n",
       "      <td>75.0</td>\n",
       "      <td>NoRisk</td>\n",
       "    </tr>\n",
       "    <tr>\n",
       "      <th>260770</th>\n",
       "      <td>0.617072</td>\n",
       "      <td>CVA</td>\n",
       "      <td>no</td>\n",
       "      <td>yes</td>\n",
       "      <td>no</td>\n",
       "      <td>no</td>\n",
       "      <td>NaN</td>\n",
       "      <td>85.0</td>\n",
       "      <td>50.0</td>\n",
       "      <td>NoRisk</td>\n",
       "    </tr>\n",
       "    <tr>\n",
       "      <th>196483</th>\n",
       "      <td>0.243645</td>\n",
       "      <td>CVA</td>\n",
       "      <td>no</td>\n",
       "      <td>no</td>\n",
       "      <td>yes</td>\n",
       "      <td>yes</td>\n",
       "      <td>NaN</td>\n",
       "      <td>95.0</td>\n",
       "      <td>100.0</td>\n",
       "      <td>Risk</td>\n",
       "    </tr>\n",
       "    <tr>\n",
       "      <th>227779</th>\n",
       "      <td>0.283872</td>\n",
       "      <td>A-F</td>\n",
       "      <td>no</td>\n",
       "      <td>no</td>\n",
       "      <td>no</td>\n",
       "      <td>no</td>\n",
       "      <td>no</td>\n",
       "      <td>NaN</td>\n",
       "      <td>100.0</td>\n",
       "      <td>Risk</td>\n",
       "    </tr>\n",
       "    <tr>\n",
       "      <th>146415</th>\n",
       "      <td>0.243518</td>\n",
       "      <td>CVA</td>\n",
       "      <td>no</td>\n",
       "      <td>yes</td>\n",
       "      <td>yes</td>\n",
       "      <td>yes</td>\n",
       "      <td>no</td>\n",
       "      <td>NaN</td>\n",
       "      <td>100.0</td>\n",
       "      <td>Risk</td>\n",
       "    </tr>\n",
       "    <tr>\n",
       "      <th>104176</th>\n",
       "      <td>0.920096</td>\n",
       "      <td>CVA</td>\n",
       "      <td>no</td>\n",
       "      <td>no</td>\n",
       "      <td>no</td>\n",
       "      <td>no</td>\n",
       "      <td>no</td>\n",
       "      <td>NaN</td>\n",
       "      <td>20.0</td>\n",
       "      <td>NoRisk</td>\n",
       "    </tr>\n",
       "    <tr>\n",
       "      <th>281679</th>\n",
       "      <td>0.004501</td>\n",
       "      <td>A-F</td>\n",
       "      <td>no</td>\n",
       "      <td>no</td>\n",
       "      <td>no</td>\n",
       "      <td>no</td>\n",
       "      <td>no</td>\n",
       "      <td>NaN</td>\n",
       "      <td>50.0</td>\n",
       "      <td>NoRisk</td>\n",
       "    </tr>\n",
       "    <tr>\n",
       "      <th>254469</th>\n",
       "      <td>0.518558</td>\n",
       "      <td>ASx</td>\n",
       "      <td>no</td>\n",
       "      <td>no</td>\n",
       "      <td>yes</td>\n",
       "      <td>no</td>\n",
       "      <td>no</td>\n",
       "      <td>70.0</td>\n",
       "      <td>NaN</td>\n",
       "      <td>NoRisk</td>\n",
       "    </tr>\n",
       "    <tr>\n",
       "      <th>173791</th>\n",
       "      <td>0.298074</td>\n",
       "      <td>ASx</td>\n",
       "      <td>no</td>\n",
       "      <td>yes</td>\n",
       "      <td>yes</td>\n",
       "      <td>no</td>\n",
       "      <td>no</td>\n",
       "      <td>70.0</td>\n",
       "      <td>55.0</td>\n",
       "      <td>NaN</td>\n",
       "    </tr>\n",
       "    <tr>\n",
       "      <th>283846</th>\n",
       "      <td>0.460170</td>\n",
       "      <td>CVA</td>\n",
       "      <td>no</td>\n",
       "      <td>no</td>\n",
       "      <td>yes</td>\n",
       "      <td>yes</td>\n",
       "      <td>no</td>\n",
       "      <td>95.0</td>\n",
       "      <td>100.0</td>\n",
       "      <td>NaN</td>\n",
       "    </tr>\n",
       "    <tr>\n",
       "      <th>190671</th>\n",
       "      <td>0.756938</td>\n",
       "      <td>CVA</td>\n",
       "      <td>no</td>\n",
       "      <td>yes</td>\n",
       "      <td>yes</td>\n",
       "      <td>no</td>\n",
       "      <td>no</td>\n",
       "      <td>76.0</td>\n",
       "      <td>50.0</td>\n",
       "      <td>NaN</td>\n",
       "    </tr>\n",
       "    <tr>\n",
       "      <th>165432</th>\n",
       "      <td>0.923418</td>\n",
       "      <td>CVA</td>\n",
       "      <td>no</td>\n",
       "      <td>yes</td>\n",
       "      <td>yes</td>\n",
       "      <td>yes</td>\n",
       "      <td>no</td>\n",
       "      <td>80.0</td>\n",
       "      <td>70.0</td>\n",
       "      <td>NaN</td>\n",
       "    </tr>\n",
       "    <tr>\n",
       "      <th>169726</th>\n",
       "      <td>0.813102</td>\n",
       "      <td>TIA</td>\n",
       "      <td>yes</td>\n",
       "      <td>no</td>\n",
       "      <td>no</td>\n",
       "      <td>no</td>\n",
       "      <td>yes</td>\n",
       "      <td>90.0</td>\n",
       "      <td>50.0</td>\n",
       "      <td>NaN</td>\n",
       "    </tr>\n",
       "  </tbody>\n",
       "</table>\n",
       "</div>"
      ],
      "text/plain": [
       "          Random Indication Diabetes  IHD Hypertension Arrhythmia History  \\\n",
       "261060  0.648122        NaN       no  yes          yes         no      no   \n",
       "205845  0.211760        NaN       no  yes           no         no      no   \n",
       "256076  0.761219        NaN       no   no           no        yes     yes   \n",
       "224257  0.681744        CVA      NaN  yes          yes        yes      no   \n",
       "210861  0.392130        A-F      NaN   no          yes         no      no   \n",
       "240232  0.388790        CVA      yes   no          NaN        yes      no   \n",
       "289096  0.707950        A-F       no   no          NaN         no      no   \n",
       "158024  0.319215        TIA       no   no          NaN         no      no   \n",
       "260770  0.617072        CVA       no  yes           no         no     NaN   \n",
       "196483  0.243645        CVA       no   no          yes        yes     NaN   \n",
       "227779  0.283872        A-F       no   no           no         no      no   \n",
       "146415  0.243518        CVA       no  yes          yes        yes      no   \n",
       "104176  0.920096        CVA       no   no           no         no      no   \n",
       "281679  0.004501        A-F       no   no           no         no      no   \n",
       "254469  0.518558        ASx       no   no          yes         no      no   \n",
       "173791  0.298074        ASx       no  yes          yes         no      no   \n",
       "283846  0.460170        CVA       no   no          yes        yes      no   \n",
       "190671  0.756938        CVA       no  yes          yes         no      no   \n",
       "165432  0.923418        CVA       no  yes          yes        yes      no   \n",
       "169726  0.813102        TIA      yes   no           no         no     yes   \n",
       "\n",
       "        IPSI  Contra   label  \n",
       "261060  70.0    40.0  NoRisk  \n",
       "205845  80.0   100.0    Risk  \n",
       "256076  99.0   100.0    Risk  \n",
       "224257  90.0   100.0    Risk  \n",
       "210861  80.0    40.0  NoRisk  \n",
       "240232  95.0    90.0    Risk  \n",
       "289096  78.0    30.0  NoRisk  \n",
       "158024  75.0    75.0  NoRisk  \n",
       "260770  85.0    50.0  NoRisk  \n",
       "196483  95.0   100.0    Risk  \n",
       "227779   NaN   100.0    Risk  \n",
       "146415   NaN   100.0    Risk  \n",
       "104176   NaN    20.0  NoRisk  \n",
       "281679   NaN    50.0  NoRisk  \n",
       "254469  70.0     NaN  NoRisk  \n",
       "173791  70.0    55.0     NaN  \n",
       "283846  95.0   100.0     NaN  \n",
       "190671  76.0    50.0     NaN  \n",
       "165432  80.0    70.0     NaN  \n",
       "169726  90.0    50.0     NaN  "
      ]
     },
     "execution_count": 22,
     "metadata": {},
     "output_type": "execute_result"
    }
   ],
   "source": [
    "null_records = pd.DataFrame(columns=data_copy.columns)\n",
    "for headings in null_columns:\n",
    "    null_records = null_records.append(data_copy[data_copy[headings].isnull()]) #append all records with null values to dataframe\n",
    "null_records"
   ]
  },
  {
   "cell_type": "code",
   "execution_count": 23,
   "metadata": {},
   "outputs": [],
   "source": [
    "# all records with null values"
   ]
  },
  {
   "cell_type": "code",
   "execution_count": 24,
   "metadata": {},
   "outputs": [],
   "source": [
    "data_copy.dropna(inplace=True) # drop na and nan records"
   ]
  },
  {
   "cell_type": "code",
   "execution_count": 25,
   "metadata": {},
   "outputs": [
    {
     "data": {
      "text/html": [
       "<div>\n",
       "<style scoped>\n",
       "    .dataframe tbody tr th:only-of-type {\n",
       "        vertical-align: middle;\n",
       "    }\n",
       "\n",
       "    .dataframe tbody tr th {\n",
       "        vertical-align: top;\n",
       "    }\n",
       "\n",
       "    .dataframe thead th {\n",
       "        text-align: right;\n",
       "    }\n",
       "</style>\n",
       "<table border=\"1\" class=\"dataframe\">\n",
       "  <thead>\n",
       "    <tr style=\"text-align: right;\">\n",
       "      <th></th>\n",
       "      <th>Random</th>\n",
       "      <th>Indication</th>\n",
       "      <th>Diabetes</th>\n",
       "      <th>IHD</th>\n",
       "      <th>Hypertension</th>\n",
       "      <th>Arrhythmia</th>\n",
       "      <th>History</th>\n",
       "      <th>IPSI</th>\n",
       "      <th>Contra</th>\n",
       "      <th>label</th>\n",
       "    </tr>\n",
       "  </thead>\n",
       "  <tbody>\n",
       "    <tr>\n",
       "      <th>count</th>\n",
       "      <td>1500.000000</td>\n",
       "      <td>1500</td>\n",
       "      <td>1500</td>\n",
       "      <td>1500</td>\n",
       "      <td>1500</td>\n",
       "      <td>1500</td>\n",
       "      <td>1500</td>\n",
       "      <td>1500.000000</td>\n",
       "      <td>1500.000000</td>\n",
       "      <td>1500</td>\n",
       "    </tr>\n",
       "    <tr>\n",
       "      <th>unique</th>\n",
       "      <td>NaN</td>\n",
       "      <td>5</td>\n",
       "      <td>2</td>\n",
       "      <td>2</td>\n",
       "      <td>2</td>\n",
       "      <td>2</td>\n",
       "      <td>2</td>\n",
       "      <td>NaN</td>\n",
       "      <td>NaN</td>\n",
       "      <td>2</td>\n",
       "    </tr>\n",
       "    <tr>\n",
       "      <th>top</th>\n",
       "      <td>NaN</td>\n",
       "      <td>A-F</td>\n",
       "      <td>no</td>\n",
       "      <td>no</td>\n",
       "      <td>no</td>\n",
       "      <td>no</td>\n",
       "      <td>no</td>\n",
       "      <td>NaN</td>\n",
       "      <td>NaN</td>\n",
       "      <td>NoRisk</td>\n",
       "    </tr>\n",
       "    <tr>\n",
       "      <th>freq</th>\n",
       "      <td>NaN</td>\n",
       "      <td>489</td>\n",
       "      <td>1425</td>\n",
       "      <td>789</td>\n",
       "      <td>777</td>\n",
       "      <td>1177</td>\n",
       "      <td>1478</td>\n",
       "      <td>NaN</td>\n",
       "      <td>NaN</td>\n",
       "      <td>1000</td>\n",
       "    </tr>\n",
       "    <tr>\n",
       "      <th>mean</th>\n",
       "      <td>0.509543</td>\n",
       "      <td>NaN</td>\n",
       "      <td>NaN</td>\n",
       "      <td>NaN</td>\n",
       "      <td>NaN</td>\n",
       "      <td>NaN</td>\n",
       "      <td>NaN</td>\n",
       "      <td>78.828000</td>\n",
       "      <td>56.668000</td>\n",
       "      <td>NaN</td>\n",
       "    </tr>\n",
       "    <tr>\n",
       "      <th>std</th>\n",
       "      <td>0.284369</td>\n",
       "      <td>NaN</td>\n",
       "      <td>NaN</td>\n",
       "      <td>NaN</td>\n",
       "      <td>NaN</td>\n",
       "      <td>NaN</td>\n",
       "      <td>NaN</td>\n",
       "      <td>10.159555</td>\n",
       "      <td>29.524977</td>\n",
       "      <td>NaN</td>\n",
       "    </tr>\n",
       "    <tr>\n",
       "      <th>min</th>\n",
       "      <td>0.000295</td>\n",
       "      <td>NaN</td>\n",
       "      <td>NaN</td>\n",
       "      <td>NaN</td>\n",
       "      <td>NaN</td>\n",
       "      <td>NaN</td>\n",
       "      <td>NaN</td>\n",
       "      <td>35.000000</td>\n",
       "      <td>10.000000</td>\n",
       "      <td>NaN</td>\n",
       "    </tr>\n",
       "    <tr>\n",
       "      <th>25%</th>\n",
       "      <td>0.267899</td>\n",
       "      <td>NaN</td>\n",
       "      <td>NaN</td>\n",
       "      <td>NaN</td>\n",
       "      <td>NaN</td>\n",
       "      <td>NaN</td>\n",
       "      <td>NaN</td>\n",
       "      <td>73.000000</td>\n",
       "      <td>30.000000</td>\n",
       "      <td>NaN</td>\n",
       "    </tr>\n",
       "    <tr>\n",
       "      <th>50%</th>\n",
       "      <td>0.517616</td>\n",
       "      <td>NaN</td>\n",
       "      <td>NaN</td>\n",
       "      <td>NaN</td>\n",
       "      <td>NaN</td>\n",
       "      <td>NaN</td>\n",
       "      <td>NaN</td>\n",
       "      <td>77.000000</td>\n",
       "      <td>50.000000</td>\n",
       "      <td>NaN</td>\n",
       "    </tr>\n",
       "    <tr>\n",
       "      <th>75%</th>\n",
       "      <td>0.754724</td>\n",
       "      <td>NaN</td>\n",
       "      <td>NaN</td>\n",
       "      <td>NaN</td>\n",
       "      <td>NaN</td>\n",
       "      <td>NaN</td>\n",
       "      <td>NaN</td>\n",
       "      <td>85.000000</td>\n",
       "      <td>85.000000</td>\n",
       "      <td>NaN</td>\n",
       "    </tr>\n",
       "    <tr>\n",
       "      <th>max</th>\n",
       "      <td>0.999448</td>\n",
       "      <td>NaN</td>\n",
       "      <td>NaN</td>\n",
       "      <td>NaN</td>\n",
       "      <td>NaN</td>\n",
       "      <td>NaN</td>\n",
       "      <td>NaN</td>\n",
       "      <td>99.000000</td>\n",
       "      <td>100.000000</td>\n",
       "      <td>NaN</td>\n",
       "    </tr>\n",
       "  </tbody>\n",
       "</table>\n",
       "</div>"
      ],
      "text/plain": [
       "             Random Indication Diabetes   IHD Hypertension Arrhythmia History  \\\n",
       "count   1500.000000       1500     1500  1500         1500       1500    1500   \n",
       "unique          NaN          5        2     2            2          2       2   \n",
       "top             NaN        A-F       no    no           no         no      no   \n",
       "freq            NaN        489     1425   789          777       1177    1478   \n",
       "mean       0.509543        NaN      NaN   NaN          NaN        NaN     NaN   \n",
       "std        0.284369        NaN      NaN   NaN          NaN        NaN     NaN   \n",
       "min        0.000295        NaN      NaN   NaN          NaN        NaN     NaN   \n",
       "25%        0.267899        NaN      NaN   NaN          NaN        NaN     NaN   \n",
       "50%        0.517616        NaN      NaN   NaN          NaN        NaN     NaN   \n",
       "75%        0.754724        NaN      NaN   NaN          NaN        NaN     NaN   \n",
       "max        0.999448        NaN      NaN   NaN          NaN        NaN     NaN   \n",
       "\n",
       "               IPSI       Contra   label  \n",
       "count   1500.000000  1500.000000    1500  \n",
       "unique          NaN          NaN       2  \n",
       "top             NaN          NaN  NoRisk  \n",
       "freq            NaN          NaN    1000  \n",
       "mean      78.828000    56.668000     NaN  \n",
       "std       10.159555    29.524977     NaN  \n",
       "min       35.000000    10.000000     NaN  \n",
       "25%       73.000000    30.000000     NaN  \n",
       "50%       77.000000    50.000000     NaN  \n",
       "75%       85.000000    85.000000     NaN  \n",
       "max       99.000000   100.000000     NaN  "
      ]
     },
     "execution_count": 25,
     "metadata": {},
     "output_type": "execute_result"
    }
   ],
   "source": [
    "data_copy.describe(include = 'all') # check 20 records removed"
   ]
  },
  {
   "cell_type": "code",
   "execution_count": 26,
   "metadata": {},
   "outputs": [],
   "source": [
    "# pd.to_numeric(data_copy['IPSI'],downcast='integer',errors='coerce')"
   ]
  },
  {
   "cell_type": "code",
   "execution_count": 27,
   "metadata": {},
   "outputs": [],
   "source": [
    "# data_dummy = pd.get_dummies(data_copy, columns=['Diabetes']) # working get dummies"
   ]
  },
  {
   "cell_type": "code",
   "execution_count": 28,
   "metadata": {},
   "outputs": [
    {
     "data": {
      "text/plain": [
       "Random          0.518558\n",
       "Indication           ASx\n",
       "Diabetes              no\n",
       "IHD                   no\n",
       "Hypertension         yes\n",
       "Arrhythmia            no\n",
       "History               no\n",
       "IPSI                  70\n",
       "Contra                  \n",
       "label             NoRisk\n",
       "Name: 254469, dtype: object"
      ]
     },
     "execution_count": 28,
     "metadata": {},
     "output_type": "execute_result"
    }
   ],
   "source": [
    "data.loc[254469]"
   ]
  },
  {
   "cell_type": "code",
   "execution_count": 29,
   "metadata": {},
   "outputs": [
    {
     "data": {
      "text/html": [
       "<div>\n",
       "<style scoped>\n",
       "    .dataframe tbody tr th:only-of-type {\n",
       "        vertical-align: middle;\n",
       "    }\n",
       "\n",
       "    .dataframe tbody tr th {\n",
       "        vertical-align: top;\n",
       "    }\n",
       "\n",
       "    .dataframe thead th {\n",
       "        text-align: right;\n",
       "    }\n",
       "</style>\n",
       "<table border=\"1\" class=\"dataframe\">\n",
       "  <thead>\n",
       "    <tr style=\"text-align: right;\">\n",
       "      <th></th>\n",
       "      <th>Indication</th>\n",
       "      <th>Diabetes</th>\n",
       "      <th>IHD</th>\n",
       "      <th>Hypertension</th>\n",
       "      <th>Arrhythmia</th>\n",
       "      <th>History</th>\n",
       "      <th>IPSI</th>\n",
       "      <th>Contra</th>\n",
       "      <th>label</th>\n",
       "    </tr>\n",
       "    <tr>\n",
       "      <th>Id</th>\n",
       "      <th></th>\n",
       "      <th></th>\n",
       "      <th></th>\n",
       "      <th></th>\n",
       "      <th></th>\n",
       "      <th></th>\n",
       "      <th></th>\n",
       "      <th></th>\n",
       "      <th></th>\n",
       "    </tr>\n",
       "  </thead>\n",
       "  <tbody>\n",
       "    <tr>\n",
       "      <th>218242</th>\n",
       "      <td>A-F</td>\n",
       "      <td>no</td>\n",
       "      <td>no</td>\n",
       "      <td>yes</td>\n",
       "      <td>no</td>\n",
       "      <td>no</td>\n",
       "      <td>78.0</td>\n",
       "      <td>20.0</td>\n",
       "      <td>NoRisk</td>\n",
       "    </tr>\n",
       "    <tr>\n",
       "      <th>159284</th>\n",
       "      <td>TIA</td>\n",
       "      <td>no</td>\n",
       "      <td>no</td>\n",
       "      <td>no</td>\n",
       "      <td>no</td>\n",
       "      <td>no</td>\n",
       "      <td>70.0</td>\n",
       "      <td>60.0</td>\n",
       "      <td>NoRisk</td>\n",
       "    </tr>\n",
       "    <tr>\n",
       "      <th>106066</th>\n",
       "      <td>A-F</td>\n",
       "      <td>no</td>\n",
       "      <td>yes</td>\n",
       "      <td>yes</td>\n",
       "      <td>no</td>\n",
       "      <td>no</td>\n",
       "      <td>95.0</td>\n",
       "      <td>40.0</td>\n",
       "      <td>Risk</td>\n",
       "    </tr>\n",
       "    <tr>\n",
       "      <th>229592</th>\n",
       "      <td>TIA</td>\n",
       "      <td>no</td>\n",
       "      <td>no</td>\n",
       "      <td>yes</td>\n",
       "      <td>no</td>\n",
       "      <td>no</td>\n",
       "      <td>90.0</td>\n",
       "      <td>85.0</td>\n",
       "      <td>Risk</td>\n",
       "    </tr>\n",
       "    <tr>\n",
       "      <th>245829</th>\n",
       "      <td>CVA</td>\n",
       "      <td>no</td>\n",
       "      <td>no</td>\n",
       "      <td>no</td>\n",
       "      <td>no</td>\n",
       "      <td>no</td>\n",
       "      <td>70.0</td>\n",
       "      <td>20.0</td>\n",
       "      <td>NoRisk</td>\n",
       "    </tr>\n",
       "    <tr>\n",
       "      <th>...</th>\n",
       "      <td>...</td>\n",
       "      <td>...</td>\n",
       "      <td>...</td>\n",
       "      <td>...</td>\n",
       "      <td>...</td>\n",
       "      <td>...</td>\n",
       "      <td>...</td>\n",
       "      <td>...</td>\n",
       "      <td>...</td>\n",
       "    </tr>\n",
       "    <tr>\n",
       "      <th>93406</th>\n",
       "      <td>A-F</td>\n",
       "      <td>no</td>\n",
       "      <td>yes</td>\n",
       "      <td>no</td>\n",
       "      <td>no</td>\n",
       "      <td>no</td>\n",
       "      <td>76.0</td>\n",
       "      <td>60.0</td>\n",
       "      <td>NoRisk</td>\n",
       "    </tr>\n",
       "    <tr>\n",
       "      <th>121814</th>\n",
       "      <td>A-F</td>\n",
       "      <td>no</td>\n",
       "      <td>no</td>\n",
       "      <td>yes</td>\n",
       "      <td>yes</td>\n",
       "      <td>no</td>\n",
       "      <td>90.0</td>\n",
       "      <td>75.0</td>\n",
       "      <td>Risk</td>\n",
       "    </tr>\n",
       "    <tr>\n",
       "      <th>101754</th>\n",
       "      <td>TIA</td>\n",
       "      <td>no</td>\n",
       "      <td>no</td>\n",
       "      <td>yes</td>\n",
       "      <td>no</td>\n",
       "      <td>no</td>\n",
       "      <td>75.0</td>\n",
       "      <td>20.0</td>\n",
       "      <td>NoRisk</td>\n",
       "    </tr>\n",
       "    <tr>\n",
       "      <th>263836</th>\n",
       "      <td>A-F</td>\n",
       "      <td>no</td>\n",
       "      <td>yes</td>\n",
       "      <td>no</td>\n",
       "      <td>no</td>\n",
       "      <td>no</td>\n",
       "      <td>70.0</td>\n",
       "      <td>45.0</td>\n",
       "      <td>NoRisk</td>\n",
       "    </tr>\n",
       "    <tr>\n",
       "      <th>254941</th>\n",
       "      <td>CVA</td>\n",
       "      <td>no</td>\n",
       "      <td>no</td>\n",
       "      <td>no</td>\n",
       "      <td>no</td>\n",
       "      <td>no</td>\n",
       "      <td>60.0</td>\n",
       "      <td>20.0</td>\n",
       "      <td>NoRisk</td>\n",
       "    </tr>\n",
       "  </tbody>\n",
       "</table>\n",
       "<p>1500 rows × 9 columns</p>\n",
       "</div>"
      ],
      "text/plain": [
       "       Indication Diabetes  IHD Hypertension Arrhythmia History  IPSI  Contra  \\\n",
       "Id                                                                              \n",
       "218242        A-F       no   no          yes         no      no  78.0    20.0   \n",
       "159284        TIA       no   no           no         no      no  70.0    60.0   \n",
       "106066        A-F       no  yes          yes         no      no  95.0    40.0   \n",
       "229592        TIA       no   no          yes         no      no  90.0    85.0   \n",
       "245829        CVA       no   no           no         no      no  70.0    20.0   \n",
       "...           ...      ...  ...          ...        ...     ...   ...     ...   \n",
       "93406         A-F       no  yes           no         no      no  76.0    60.0   \n",
       "121814        A-F       no   no          yes        yes      no  90.0    75.0   \n",
       "101754        TIA       no   no          yes         no      no  75.0    20.0   \n",
       "263836        A-F       no  yes           no         no      no  70.0    45.0   \n",
       "254941        CVA       no   no           no         no      no  60.0    20.0   \n",
       "\n",
       "         label  \n",
       "Id              \n",
       "218242  NoRisk  \n",
       "159284  NoRisk  \n",
       "106066    Risk  \n",
       "229592    Risk  \n",
       "245829  NoRisk  \n",
       "...        ...  \n",
       "93406   NoRisk  \n",
       "121814    Risk  \n",
       "101754  NoRisk  \n",
       "263836  NoRisk  \n",
       "254941  NoRisk  \n",
       "\n",
       "[1500 rows x 9 columns]"
      ]
     },
     "execution_count": 29,
     "metadata": {},
     "output_type": "execute_result"
    }
   ],
   "source": [
    "class_data = data_copy.copy()\n",
    "class_data = class_data.drop(columns=['Random'])\n",
    "class_data"
   ]
  },
  {
   "cell_type": "code",
   "execution_count": 30,
   "metadata": {},
   "outputs": [
    {
     "data": {
      "text/plain": [
       "<seaborn.axisgrid.PairGrid at 0x265c1280808>"
      ]
     },
     "execution_count": 30,
     "metadata": {},
     "output_type": "execute_result"
    },
    {
     "data": {
      "image/png": "[encoded data removed]",
      "text/plain": [
       "<Figure size 360x360 with 6 Axes>"
      ]
     },
     "metadata": {
      "needs_background": "light"
     },
     "output_type": "display_data"
    }
   ],
   "source": [
    "sns.pairplot(class_data)"
   ]
  },
  {
   "cell_type": "code",
   "execution_count": 31,
   "metadata": {},
   "outputs": [
    {
     "data": {
      "text/plain": [
       "<matplotlib.axes._subplots.AxesSubplot at 0x265c35309c8>"
      ]
     },
     "execution_count": 31,
     "metadata": {},
     "output_type": "execute_result"
    },
    {
     "data": {
      "image/png": "[encoded data removed]",
      "text/plain": [
       "<Figure size 432x288 with 2 Axes>"
      ]
     },
     "metadata": {
      "needs_background": "light"
     },
     "output_type": "display_data"
    }
   ],
   "source": [
    "sns.heatmap(class_data.corr())"
   ]
  },
  {
   "cell_type": "code",
   "execution_count": 32,
   "metadata": {},
   "outputs": [
    {
     "data": {
      "text/plain": [
       "<matplotlib.axes._subplots.AxesSubplot at 0x265c35f10c8>"
      ]
     },
     "execution_count": 32,
     "metadata": {},
     "output_type": "execute_result"
    },
    {
     "data": {
      "image/png": "[encoded data removed]",
      "text/plain": [
       "<Figure size 432x288 with 1 Axes>"
      ]
     },
     "metadata": {
      "needs_background": "light"
     },
     "output_type": "display_data"
    }
   ],
   "source": [
    "sns.distplot(class_data['Contra'])"
   ]
  },
  {
   "cell_type": "code",
   "execution_count": 33,
   "metadata": {},
   "outputs": [
    {
     "data": {
      "text/plain": [
       "<matplotlib.axes._subplots.AxesSubplot at 0x265c3530b08>"
      ]
     },
     "execution_count": 33,
     "metadata": {},
     "output_type": "execute_result"
    },
    {
     "data": {
      "image/png": "[encoded data removed]",
      "text/plain": [
       "<Figure size 432x288 with 1 Axes>"
      ]
     },
     "metadata": {
      "needs_background": "light"
     },
     "output_type": "display_data"
    }
   ],
   "source": [
    "sns.distplot(class_data['IPSI'])"
   ]
  },
  {
   "cell_type": "code",
   "execution_count": 34,
   "metadata": {},
   "outputs": [
    {
     "data": {
      "text/plain": [
       "<seaborn.axisgrid.FacetGrid at 0x265c56f2f88>"
      ]
     },
     "execution_count": 34,
     "metadata": {},
     "output_type": "execute_result"
    },
    {
     "data": {
      "image/png": "[encoded data removed]",
      "text/plain": [
       "<Figure size 360x360 with 1 Axes>"
      ]
     },
     "metadata": {
      "needs_background": "light"
     },
     "output_type": "display_data"
    }
   ],
   "source": [
    "sns.catplot(x='Indication',y='Contra',data=class_data)"
   ]
  },
  {
   "cell_type": "code",
   "execution_count": 35,
   "metadata": {},
   "outputs": [
    {
     "data": {
      "text/plain": [
       "<matplotlib.axes._subplots.AxesSubplot at 0x265c57af4c8>"
      ]
     },
     "execution_count": 35,
     "metadata": {},
     "output_type": "execute_result"
    },
    {
     "data": {
      "image/png": "[encoded data removed]",
      "text/plain": [
       "<Figure size 432x288 with 1 Axes>"
      ]
     },
     "metadata": {
      "needs_background": "light"
     },
     "output_type": "display_data"
    }
   ],
   "source": [
    "sns.boxplot(x='Indication',y='Contra',data=class_data)"
   ]
  },
  {
   "cell_type": "code",
   "execution_count": 36,
   "metadata": {},
   "outputs": [
    {
     "data": {
      "text/plain": [
       "<matplotlib.axes._subplots.AxesSubplot at 0x265c567a4c8>"
      ]
     },
     "execution_count": 36,
     "metadata": {},
     "output_type": "execute_result"
    },
    {
     "data": {
      "image/png": "[encoded data removed]",
      "text/plain": [
       "<Figure size 432x288 with 1 Axes>"
      ]
     },
     "metadata": {
      "needs_background": "light"
     },
     "output_type": "display_data"
    }
   ],
   "source": [
    "sns.countplot(class_data['Indication'],Label='count')"
   ]
  },
  {
   "cell_type": "code",
   "execution_count": 37,
   "metadata": {},
   "outputs": [
    {
     "data": {
      "text/html": [
       "<div>\n",
       "<style scoped>\n",
       "    .dataframe tbody tr th:only-of-type {\n",
       "        vertical-align: middle;\n",
       "    }\n",
       "\n",
       "    .dataframe tbody tr th {\n",
       "        vertical-align: top;\n",
       "    }\n",
       "\n",
       "    .dataframe thead th {\n",
       "        text-align: right;\n",
       "    }\n",
       "</style>\n",
       "<table border=\"1\" class=\"dataframe\">\n",
       "  <thead>\n",
       "    <tr style=\"text-align: right;\">\n",
       "      <th></th>\n",
       "      <th>Indication</th>\n",
       "      <th>Diabetes</th>\n",
       "      <th>IHD</th>\n",
       "      <th>Hypertension</th>\n",
       "      <th>Arrhythmia</th>\n",
       "      <th>History</th>\n",
       "      <th>IPSI</th>\n",
       "      <th>Contra</th>\n",
       "      <th>label</th>\n",
       "    </tr>\n",
       "    <tr>\n",
       "      <th>Id</th>\n",
       "      <th></th>\n",
       "      <th></th>\n",
       "      <th></th>\n",
       "      <th></th>\n",
       "      <th></th>\n",
       "      <th></th>\n",
       "      <th></th>\n",
       "      <th></th>\n",
       "      <th></th>\n",
       "    </tr>\n",
       "  </thead>\n",
       "  <tbody>\n",
       "    <tr>\n",
       "      <th>218242</th>\n",
       "      <td>0</td>\n",
       "      <td>0</td>\n",
       "      <td>0</td>\n",
       "      <td>1</td>\n",
       "      <td>0</td>\n",
       "      <td>0</td>\n",
       "      <td>78.0</td>\n",
       "      <td>20.0</td>\n",
       "      <td>0</td>\n",
       "    </tr>\n",
       "    <tr>\n",
       "      <th>159284</th>\n",
       "      <td>4</td>\n",
       "      <td>0</td>\n",
       "      <td>0</td>\n",
       "      <td>0</td>\n",
       "      <td>0</td>\n",
       "      <td>0</td>\n",
       "      <td>70.0</td>\n",
       "      <td>60.0</td>\n",
       "      <td>0</td>\n",
       "    </tr>\n",
       "    <tr>\n",
       "      <th>106066</th>\n",
       "      <td>0</td>\n",
       "      <td>0</td>\n",
       "      <td>1</td>\n",
       "      <td>1</td>\n",
       "      <td>0</td>\n",
       "      <td>0</td>\n",
       "      <td>95.0</td>\n",
       "      <td>40.0</td>\n",
       "      <td>1</td>\n",
       "    </tr>\n",
       "    <tr>\n",
       "      <th>229592</th>\n",
       "      <td>4</td>\n",
       "      <td>0</td>\n",
       "      <td>0</td>\n",
       "      <td>1</td>\n",
       "      <td>0</td>\n",
       "      <td>0</td>\n",
       "      <td>90.0</td>\n",
       "      <td>85.0</td>\n",
       "      <td>1</td>\n",
       "    </tr>\n",
       "    <tr>\n",
       "      <th>245829</th>\n",
       "      <td>3</td>\n",
       "      <td>0</td>\n",
       "      <td>0</td>\n",
       "      <td>0</td>\n",
       "      <td>0</td>\n",
       "      <td>0</td>\n",
       "      <td>70.0</td>\n",
       "      <td>20.0</td>\n",
       "      <td>0</td>\n",
       "    </tr>\n",
       "  </tbody>\n",
       "</table>\n",
       "</div>"
      ],
      "text/plain": [
       "        Indication  Diabetes  IHD  Hypertension  Arrhythmia  History  IPSI  \\\n",
       "Id                                                                           \n",
       "218242           0         0    0             1           0        0  78.0   \n",
       "159284           4         0    0             0           0        0  70.0   \n",
       "106066           0         0    1             1           0        0  95.0   \n",
       "229592           4         0    0             1           0        0  90.0   \n",
       "245829           3         0    0             0           0        0  70.0   \n",
       "\n",
       "        Contra  label  \n",
       "Id                     \n",
       "218242    20.0      0  \n",
       "159284    60.0      0  \n",
       "106066    40.0      1  \n",
       "229592    85.0      1  \n",
       "245829    20.0      0  "
      ]
     },
     "execution_count": 37,
     "metadata": {},
     "output_type": "execute_result"
    }
   ],
   "source": [
    "le = preprocessing.LabelEncoder()\n",
    "class_data['label']=le.fit_transform(class_data['label'])\n",
    "class_data['Diabetes']=le.fit_transform(class_data['Diabetes'])\n",
    "class_data['IHD']=le.fit_transform(class_data['IHD'])\n",
    "class_data['Hypertension']=le.fit_transform(class_data['Hypertension'])\n",
    "class_data['Arrhythmia']=le.fit_transform(class_data['Arrhythmia'])\n",
    "class_data['History']=le.fit_transform(class_data['History'])\n",
    "class_data['Indication']=le.fit_transform(class_data['Indication']) # alphabetical\n",
    "\n",
    "class_data.head()"
   ]
  },
  {
   "cell_type": "code",
   "execution_count": 38,
   "metadata": {},
   "outputs": [],
   "source": [
    "split = sklearn.model_selection.train_test_split(class_data,shuffle=True)\n",
    "train = split[0]\n",
    "test = split[1]"
   ]
  },
  {
   "cell_type": "code",
   "execution_count": 39,
   "metadata": {},
   "outputs": [
    {
     "name": "stdout",
     "output_type": "stream",
     "text": [
      "(1125,)\n",
      "(1125,)\n"
     ]
    }
   ],
   "source": [
    "model = LogisticRegression()\n",
    "train_x = train['IPSI']\n",
    "train_y = train['label']\n",
    "test_x = test['IPSI']\n",
    "test_y = test['label']\n",
    "print(train_x.shape)\n",
    "print(train_y.shape)"
   ]
  },
  {
   "cell_type": "code",
   "execution_count": 40,
   "metadata": {},
   "outputs": [
    {
     "name": "stdout",
     "output_type": "stream",
     "text": [
      "(1125, 1)\n",
      "(1125,)\n"
     ]
    }
   ],
   "source": [
    "train_x = np.asarray(train_x).reshape(-1,1)\n",
    "train_y = np.asarray(train_y)\n",
    "test_x = np.asarray(test_x).reshape(-1,1)\n",
    "test_y = np.asarray(test_y)\n",
    "print(train_x.shape)\n",
    "print(train_y.shape)"
   ]
  },
  {
   "cell_type": "code",
   "execution_count": 41,
   "metadata": {},
   "outputs": [
    {
     "name": "stderr",
     "output_type": "stream",
     "text": [
      "c:\\users\\anton\\appdata\\local\\programs\\python\\python37\\lib\\site-packages\\sklearn\\linear_model\\logistic.py:432: FutureWarning: Default solver will be changed to 'lbfgs' in 0.22. Specify a solver to silence this warning.\n",
      "  FutureWarning)\n"
     ]
    }
   ],
   "source": [
    "reg_model = model.fit(X=train_x,y=train_y)"
   ]
  },
  {
   "cell_type": "code",
   "execution_count": 42,
   "metadata": {},
   "outputs": [],
   "source": [
    "pred_y = reg_model.predict(test_x)"
   ]
  },
  {
   "cell_type": "code",
   "execution_count": 43,
   "metadata": {},
   "outputs": [
    {
     "data": {
      "text/plain": [
       "0.8186666666666667"
      ]
     },
     "execution_count": 43,
     "metadata": {},
     "output_type": "execute_result"
    }
   ],
   "source": [
    "reg_model.score(test_x,test_y)"
   ]
  },
  {
   "cell_type": "code",
   "execution_count": 44,
   "metadata": {},
   "outputs": [
    {
     "data": {
      "text/plain": [
       "<matplotlib.axes._subplots.AxesSubplot at 0x265c58da2c8>"
      ]
     },
     "execution_count": 44,
     "metadata": {},
     "output_type": "execute_result"
    },
    {
     "data": {
      "image/png": "[encoded data removed]",
      "text/plain": [
       "<Figure size 432x288 with 1 Axes>"
      ]
     },
     "metadata": {
      "needs_background": "light"
     },
     "output_type": "display_data"
    }
   ],
   "source": [
    "sns.lineplot(x=test['IPSI'], y=pred_y.ravel(), label='Model')\n",
    "sns.scatterplot(x=test['IPSI'], y=test['label'], label='Test Data')"
   ]
  },
  {
   "cell_type": "code",
   "execution_count": 45,
   "metadata": {},
   "outputs": [
    {
     "data": {
      "text/plain": [
       "<matplotlib.axes._subplots.AxesSubplot at 0x265c5981b88>"
      ]
     },
     "execution_count": 45,
     "metadata": {},
     "output_type": "execute_result"
    },
    {
     "data": {
      "image/png": "[encoded data removed]",
      "text/plain": [
       "<Figure size 432x288 with 2 Axes>"
      ]
     },
     "metadata": {
      "needs_background": "light"
     },
     "output_type": "display_data"
    }
   ],
   "source": [
    " skplt.metrics.plot_confusion_matrix(test_y, pred_y)"
   ]
  },
  {
   "cell_type": "code",
   "execution_count": 46,
   "metadata": {},
   "outputs": [
    {
     "data": {
      "text/plain": [
       "<matplotlib.axes._subplots.AxesSubplot at 0x265c5a4db48>"
      ]
     },
     "execution_count": 46,
     "metadata": {},
     "output_type": "execute_result"
    },
    {
     "data": {
      "image/png": "[encoded data removed]",
      "text/plain": [
       "<Figure size 432x288 with 2 Axes>"
      ]
     },
     "metadata": {
      "needs_background": "light"
     },
     "output_type": "display_data"
    }
   ],
   "source": [
    "skplt.metrics.plot_confusion_matrix(test_y, pred_y,normalize=True)"
   ]
  },
  {
   "cell_type": "code",
   "execution_count": 47,
   "metadata": {},
   "outputs": [
    {
     "name": "stdout",
     "output_type": "stream",
     "text": [
      "(1125,)\n",
      "(1125,)\n"
     ]
    }
   ],
   "source": [
    "model = LogisticRegression()\n",
    "train_x = train['Contra']\n",
    "train_y = train['label']\n",
    "test_x = test['Contra']\n",
    "test_y = test['label']\n",
    "print(train_x.shape)\n",
    "print(train_y.shape)"
   ]
  },
  {
   "cell_type": "code",
   "execution_count": 48,
   "metadata": {},
   "outputs": [
    {
     "name": "stdout",
     "output_type": "stream",
     "text": [
      "(1125, 1)\n",
      "(1125,)\n"
     ]
    }
   ],
   "source": [
    "train_x = np.asarray(train_x).reshape(-1,1)\n",
    "train_y = np.asarray(train_y)\n",
    "test_x = np.asarray(test_x).reshape(-1,1)\n",
    "test_y = np.asarray(test_y)\n",
    "print(train_x.shape)\n",
    "print(train_y.shape)"
   ]
  },
  {
   "cell_type": "code",
   "execution_count": 49,
   "metadata": {},
   "outputs": [
    {
     "name": "stderr",
     "output_type": "stream",
     "text": [
      "c:\\users\\anton\\appdata\\local\\programs\\python\\python37\\lib\\site-packages\\sklearn\\linear_model\\logistic.py:432: FutureWarning: Default solver will be changed to 'lbfgs' in 0.22. Specify a solver to silence this warning.\n",
      "  FutureWarning)\n"
     ]
    }
   ],
   "source": [
    "reg_model = model.fit(X=train_x,y=train_y)"
   ]
  },
  {
   "cell_type": "code",
   "execution_count": 50,
   "metadata": {},
   "outputs": [],
   "source": [
    "pred_y = reg_model.predict(test_x)"
   ]
  },
  {
   "cell_type": "code",
   "execution_count": 51,
   "metadata": {},
   "outputs": [
    {
     "data": {
      "text/plain": [
       "0.84"
      ]
     },
     "execution_count": 51,
     "metadata": {},
     "output_type": "execute_result"
    }
   ],
   "source": [
    "reg_model.score(test_x,test_y)"
   ]
  },
  {
   "cell_type": "code",
   "execution_count": 52,
   "metadata": {},
   "outputs": [
    {
     "data": {
      "text/plain": [
       "<matplotlib.axes._subplots.AxesSubplot at 0x265c6ad67c8>"
      ]
     },
     "execution_count": 52,
     "metadata": {},
     "output_type": "execute_result"
    },
    {
     "data": {
      "image/png": "[encoded data removed]",
      "text/plain": [
       "<Figure size 432x288 with 1 Axes>"
      ]
     },
     "metadata": {
      "needs_background": "light"
     },
     "output_type": "display_data"
    }
   ],
   "source": [
    "sns.lineplot(x=test['Contra'], y=pred_y.ravel(), label='Model')\n",
    "sns.scatterplot(x=test['Contra'], y=test['label'], label='Test Data')"
   ]
  },
  {
   "cell_type": "code",
   "execution_count": 53,
   "metadata": {},
   "outputs": [
    {
     "data": {
      "text/plain": [
       "<matplotlib.axes._subplots.AxesSubplot at 0x265c6b4ce08>"
      ]
     },
     "execution_count": 53,
     "metadata": {},
     "output_type": "execute_result"
    },
    {
     "data": {
      "image/png": "[encoded data removed]",
      "text/plain": [
       "<Figure size 432x288 with 2 Axes>"
      ]
     },
     "metadata": {
      "needs_background": "light"
     },
     "output_type": "display_data"
    }
   ],
   "source": [
    "skplt.metrics.plot_confusion_matrix(test_y, pred_y)"
   ]
  },
  {
   "cell_type": "code",
   "execution_count": 54,
   "metadata": {},
   "outputs": [
    {
     "data": {
      "text/plain": [
       "<matplotlib.axes._subplots.AxesSubplot at 0x265c6be2a48>"
      ]
     },
     "execution_count": 54,
     "metadata": {},
     "output_type": "execute_result"
    },
    {
     "data": {
      "image/png": "[encoded data removed]",
      "text/plain": [
       "<Figure size 432x288 with 2 Axes>"
      ]
     },
     "metadata": {
      "needs_background": "light"
     },
     "output_type": "display_data"
    }
   ],
   "source": [
    "skplt.metrics.plot_confusion_matrix(test_y, pred_y,normalize=True)"
   ]
  },
  {
   "cell_type": "code",
   "execution_count": 55,
   "metadata": {},
   "outputs": [
    {
     "name": "stdout",
     "output_type": "stream",
     "text": [
      "(1125, 8)\n",
      "(1125,)\n"
     ]
    }
   ],
   "source": [
    "model = LogisticRegression()\n",
    "train_x = train.drop(columns=['label']) \n",
    "train_y = train['label']\n",
    "test_x = test.drop(columns=['label']) # remove label from test\n",
    "test_y = test['label']\n",
    "print(train_x.shape)\n",
    "print(train_y.shape)"
   ]
  },
  {
   "cell_type": "code",
   "execution_count": 56,
   "metadata": {},
   "outputs": [
    {
     "name": "stderr",
     "output_type": "stream",
     "text": [
      "c:\\users\\anton\\appdata\\local\\programs\\python\\python37\\lib\\site-packages\\sklearn\\linear_model\\logistic.py:432: FutureWarning: Default solver will be changed to 'lbfgs' in 0.22. Specify a solver to silence this warning.\n",
      "  FutureWarning)\n"
     ]
    }
   ],
   "source": [
    "reg_model = model.fit(X=train_x,y=train_y)"
   ]
  },
  {
   "cell_type": "code",
   "execution_count": 57,
   "metadata": {},
   "outputs": [],
   "source": [
    "pred_y = reg_model.predict(test_x)"
   ]
  },
  {
   "cell_type": "code",
   "execution_count": 58,
   "metadata": {},
   "outputs": [
    {
     "data": {
      "text/plain": [
       "0.952"
      ]
     },
     "execution_count": 58,
     "metadata": {},
     "output_type": "execute_result"
    }
   ],
   "source": [
    "reg_model.score(test_x,test_y)"
   ]
  },
  {
   "cell_type": "code",
   "execution_count": 59,
   "metadata": {},
   "outputs": [
    {
     "data": {
      "text/plain": [
       "<matplotlib.axes._subplots.AxesSubplot at 0x265c6c9bd48>"
      ]
     },
     "execution_count": 59,
     "metadata": {},
     "output_type": "execute_result"
    },
    {
     "data": {
      "image/png": "[encoded data removed]",
      "text/plain": [
       "<Figure size 432x288 with 2 Axes>"
      ]
     },
     "metadata": {
      "needs_background": "light"
     },
     "output_type": "display_data"
    }
   ],
   "source": [
    "skplt.metrics.plot_confusion_matrix(test_y, pred_y)"
   ]
  },
  {
   "cell_type": "code",
   "execution_count": 60,
   "metadata": {},
   "outputs": [
    {
     "data": {
      "text/plain": [
       "<matplotlib.axes._subplots.AxesSubplot at 0x265c6c7a988>"
      ]
     },
     "execution_count": 60,
     "metadata": {},
     "output_type": "execute_result"
    },
    {
     "data": {
      "image/png": "[encoded data removed]",
      "text/plain": [
       "<Figure size 432x288 with 2 Axes>"
      ]
     },
     "metadata": {
      "needs_background": "light"
     },
     "output_type": "display_data"
    }
   ],
   "source": [
    "skplt.metrics.plot_confusion_matrix(test_y, pred_y,normalize=True)"
   ]
  },
  {
   "cell_type": "code",
   "execution_count": 84,
   "metadata": {},
   "outputs": [],
   "source": [
    "model = DecisionTreeClassifier()\n",
    "model = model.fit(X=train_x, y=train_y)\n",
    "pred_y = model.predict(test_x)"
   ]
  },
  {
   "cell_type": "code",
   "execution_count": 85,
   "metadata": {},
   "outputs": [
    {
     "data": {
      "text/plain": [
       "[Text(558.0, 906.0, 'Arrhythmia <= 0.5\\ngini = 0.449\\nsamples = 1125\\nvalue = [743, 382]'),\n",
       " Text(279.0, 543.6, 'Contra <= 61.0\\ngini = 0.268\\nsamples = 877\\nvalue = [737, 140]'),\n",
       " Text(139.5, 181.19999999999993, '\\n  (...)  \\n'),\n",
       " Text(418.5, 181.19999999999993, '\\n  (...)  \\n'),\n",
       " Text(837.0, 543.6, 'Contra <= 42.5\\ngini = 0.047\\nsamples = 248\\nvalue = [6, 242]'),\n",
       " Text(697.5, 181.19999999999993, '\\n  (...)  \\n'),\n",
       " Text(976.5, 181.19999999999993, '\\n  (...)  \\n')]"
      ]
     },
     "execution_count": 85,
     "metadata": {},
     "output_type": "execute_result"
    },
    {
     "data": {
      "image/png": "[encoded data removed]",
      "text/plain": [
       "<Figure size 1440x1440 with 1 Axes>"
      ]
     },
     "metadata": {
      "needs_background": "light"
     },
     "output_type": "display_data"
    }
   ],
   "source": [
    "# plt.rcParams[\"figure.figsize\"] = (20,20)\n",
    "plot_tree( model,max_depth=1, feature_names=class_data.columns, fontsize=15)"
   ]
  },
  {
   "cell_type": "code",
   "execution_count": 63,
   "metadata": {},
   "outputs": [
    {
     "data": {
      "text/plain": [
       "0.992"
      ]
     },
     "execution_count": 63,
     "metadata": {},
     "output_type": "execute_result"
    }
   ],
   "source": [
    "model.score(test_x,test_y)"
   ]
  },
  {
   "cell_type": "code",
   "execution_count": 64,
   "metadata": {},
   "outputs": [
    {
     "data": {
      "text/plain": [
       "<matplotlib.axes._subplots.AxesSubplot at 0x265c6e8f9c8>"
      ]
     },
     "execution_count": 64,
     "metadata": {},
     "output_type": "execute_result"
    },
    {
     "data": {
      "image/png": "[encoded data removed]",
      "text/plain": [
       "<Figure size 432x288 with 2 Axes>"
      ]
     },
     "metadata": {
      "needs_background": "light"
     },
     "output_type": "display_data"
    }
   ],
   "source": [
    "skplt.metrics.plot_confusion_matrix(test_y, pred_y) "
   ]
  },
  {
   "cell_type": "code",
   "execution_count": 65,
   "metadata": {},
   "outputs": [
    {
     "data": {
      "text/plain": [
       "<matplotlib.axes._subplots.AxesSubplot at 0x265c6f476c8>"
      ]
     },
     "execution_count": 65,
     "metadata": {},
     "output_type": "execute_result"
    },
    {
     "data": {
      "image/png": "[encoded data removed]",
      "text/plain": [
       "<Figure size 432x288 with 2 Axes>"
      ]
     },
     "metadata": {
      "needs_background": "light"
     },
     "output_type": "display_data"
    }
   ],
   "source": [
    "skplt.metrics.plot_confusion_matrix(test_y, pred_y,normalize=True)"
   ]
  },
  {
   "cell_type": "markdown",
   "metadata": {},
   "source": [
    "# Neural-net"
   ]
  },
  {
   "cell_type": "code",
   "execution_count": 80,
   "metadata": {},
   "outputs": [
    {
     "data": {
      "text/plain": [
       "0.832"
      ]
     },
     "execution_count": 80,
     "metadata": {},
     "output_type": "execute_result"
    }
   ],
   "source": [
    "model = MLPClassifier(solver='sgd', max_iter=50000, hidden_layer_sizes=(10), random_state=1)\n",
    "model = model.fit(train_x,train_y)\n",
    "pred_y = model.predict(test_x)\n",
    "model.score(test_x,test_y)"
   ]
  },
  {
   "cell_type": "code",
   "execution_count": 86,
   "metadata": {},
   "outputs": [
    {
     "data": {
      "text/plain": [
       "<matplotlib.axes._subplots.AxesSubplot at 0x265c92e4788>"
      ]
     },
     "execution_count": 86,
     "metadata": {},
     "output_type": "execute_result"
    },
    {
     "data": {
      "image/png": "[encoded data removed]",
      "text/plain": [
       "<Figure size 1440x1440 with 2 Axes>"
      ]
     },
     "metadata": {
      "needs_background": "light"
     },
     "output_type": "display_data"
    }
   ],
   "source": [
    "skplt.metrics.plot_confusion_matrix(test_y, pred_y)"
   ]
  },
  {
   "cell_type": "code",
   "execution_count": 87,
   "metadata": {},
   "outputs": [
    {
     "data": {
      "text/plain": [
       "<matplotlib.axes._subplots.AxesSubplot at 0x265c935b788>"
      ]
     },
     "execution_count": 87,
     "metadata": {},
     "output_type": "execute_result"
    },
    {
     "data": {
      "image/png": "[encoded data removed]",
      "text/plain": [
       "<Figure size 1440x1440 with 2 Axes>"
      ]
     },
     "metadata": {
      "needs_background": "light"
     },
     "output_type": "display_data"
    }
   ],
   "source": [
    "skplt.metrics.plot_confusion_matrix(test_y, pred_y)"
   ]
  },
  {
   "cell_type": "code",
   "execution_count": null,
   "metadata": {},
   "outputs": [],
   "source": []
  },
  {
   "cell_type": "code",
   "execution_count": null,
   "metadata": {},
   "outputs": [],
   "source": []
  },
  {
   "cell_type": "code",
   "execution_count": null,
   "metadata": {},
   "outputs": [],
   "source": []
  },
  {
   "cell_type": "code",
   "execution_count": null,
   "metadata": {},
   "outputs": [],
   "source": []
  },
  {
   "cell_type": "code",
   "execution_count": null,
   "metadata": {},
   "outputs": [],
   "source": []
  },
  {
   "cell_type": "code",
   "execution_count": null,
   "metadata": {},
   "outputs": [],
   "source": []
  },
  {
   "cell_type": "code",
   "execution_count": null,
   "metadata": {},
   "outputs": [],
   "source": []
  },
  {
   "cell_type": "code",
   "execution_count": null,
   "metadata": {},
   "outputs": [],
   "source": []
  },
  {
   "cell_type": "code",
   "execution_count": 67,
   "metadata": {},
   "outputs": [
    {
     "name": "stdout",
     "output_type": "stream",
     "text": [
      "[0]\tvalidation_0-error:0.066667\n",
      "[1]\tvalidation_0-error:0.077333\n",
      "[2]\tvalidation_0-error:0.085333\n",
      "[3]\tvalidation_0-error:0.08\n",
      "[4]\tvalidation_0-error:0.074667\n",
      "[5]\tvalidation_0-error:0.074667\n",
      "[6]\tvalidation_0-error:0.074667\n",
      "[7]\tvalidation_0-error:0.077333\n",
      "[8]\tvalidation_0-error:0.074667\n",
      "[9]\tvalidation_0-error:0.077333\n",
      "[10]\tvalidation_0-error:0.08\n",
      "[11]\tvalidation_0-error:0.056\n",
      "[12]\tvalidation_0-error:0.050667\n",
      "[13]\tvalidation_0-error:0.048\n",
      "[14]\tvalidation_0-error:0.056\n",
      "[15]\tvalidation_0-error:0.053333\n",
      "[16]\tvalidation_0-error:0.045333\n",
      "[17]\tvalidation_0-error:0.045333\n",
      "[18]\tvalidation_0-error:0.045333\n",
      "[19]\tvalidation_0-error:0.042667\n",
      "[20]\tvalidation_0-error:0.045333\n",
      "[21]\tvalidation_0-error:0.042667\n",
      "[22]\tvalidation_0-error:0.034667\n",
      "[23]\tvalidation_0-error:0.034667\n",
      "[24]\tvalidation_0-error:0.034667\n",
      "[25]\tvalidation_0-error:0.034667\n",
      "[26]\tvalidation_0-error:0.029333\n",
      "[27]\tvalidation_0-error:0.029333\n",
      "[28]\tvalidation_0-error:0.029333\n",
      "[29]\tvalidation_0-error:0.029333\n",
      "[30]\tvalidation_0-error:0.029333\n",
      "[31]\tvalidation_0-error:0.029333\n",
      "[32]\tvalidation_0-error:0.029333\n",
      "[33]\tvalidation_0-error:0.029333\n",
      "[34]\tvalidation_0-error:0.029333\n",
      "[35]\tvalidation_0-error:0.029333\n",
      "[36]\tvalidation_0-error:0.029333\n",
      "[37]\tvalidation_0-error:0.029333\n",
      "[38]\tvalidation_0-error:0.029333\n",
      "[39]\tvalidation_0-error:0.029333\n",
      "[40]\tvalidation_0-error:0.029333\n",
      "[41]\tvalidation_0-error:0.029333\n",
      "[42]\tvalidation_0-error:0.029333\n",
      "[43]\tvalidation_0-error:0.029333\n",
      "[44]\tvalidation_0-error:0.029333\n",
      "[45]\tvalidation_0-error:0.029333\n",
      "[46]\tvalidation_0-error:0.024\n",
      "[47]\tvalidation_0-error:0.024\n",
      "[48]\tvalidation_0-error:0.024\n",
      "[49]\tvalidation_0-error:0.024\n",
      "[50]\tvalidation_0-error:0.024\n",
      "[51]\tvalidation_0-error:0.024\n",
      "[52]\tvalidation_0-error:0.024\n",
      "[53]\tvalidation_0-error:0.024\n",
      "[54]\tvalidation_0-error:0.024\n",
      "[55]\tvalidation_0-error:0.024\n",
      "[56]\tvalidation_0-error:0.024\n",
      "[57]\tvalidation_0-error:0.024\n",
      "[58]\tvalidation_0-error:0.024\n",
      "[59]\tvalidation_0-error:0.024\n",
      "[60]\tvalidation_0-error:0.021333\n",
      "[61]\tvalidation_0-error:0.021333\n",
      "[62]\tvalidation_0-error:0.021333\n",
      "[63]\tvalidation_0-error:0.021333\n",
      "[64]\tvalidation_0-error:0.021333\n",
      "[65]\tvalidation_0-error:0.021333\n",
      "[66]\tvalidation_0-error:0.021333\n",
      "[67]\tvalidation_0-error:0.026667\n",
      "[68]\tvalidation_0-error:0.021333\n",
      "[69]\tvalidation_0-error:0.021333\n",
      "[70]\tvalidation_0-error:0.021333\n",
      "[71]\tvalidation_0-error:0.016\n",
      "[72]\tvalidation_0-error:0.016\n",
      "[73]\tvalidation_0-error:0.016\n",
      "[74]\tvalidation_0-error:0.021333\n",
      "[75]\tvalidation_0-error:0.016\n",
      "[76]\tvalidation_0-error:0.016\n",
      "[77]\tvalidation_0-error:0.016\n",
      "[78]\tvalidation_0-error:0.016\n",
      "[79]\tvalidation_0-error:0.016\n",
      "[80]\tvalidation_0-error:0.016\n",
      "[81]\tvalidation_0-error:0.016\n",
      "[82]\tvalidation_0-error:0.016\n",
      "[83]\tvalidation_0-error:0.016\n",
      "[84]\tvalidation_0-error:0.016\n",
      "[85]\tvalidation_0-error:0.016\n",
      "[86]\tvalidation_0-error:0.016\n",
      "[87]\tvalidation_0-error:0.016\n",
      "[88]\tvalidation_0-error:0.016\n",
      "[89]\tvalidation_0-error:0.016\n",
      "[90]\tvalidation_0-error:0.016\n",
      "[91]\tvalidation_0-error:0.016\n",
      "[92]\tvalidation_0-error:0.016\n",
      "[93]\tvalidation_0-error:0.016\n",
      "[94]\tvalidation_0-error:0.016\n",
      "[95]\tvalidation_0-error:0.016\n",
      "[96]\tvalidation_0-error:0.016\n",
      "[97]\tvalidation_0-error:0.016\n",
      "[98]\tvalidation_0-error:0.013333\n",
      "[99]\tvalidation_0-error:0.013333\n"
     ]
    },
    {
     "data": {
      "text/plain": [
       "0.9866666666666667"
      ]
     },
     "execution_count": 67,
     "metadata": {},
     "output_type": "execute_result"
    }
   ],
   "source": [
    "from xgboost import XGBClassifier\n",
    "from xgboost import plot_tree\n",
    "\n",
    "model = XGBClassifier()\n",
    "model =model.fit(train_x, train_y, eval_set=[(test_x, test_y)])\n",
    "pred_y = model.predict(test_x)\n",
    "model.score(test_x,test_y)"
   ]
  },
  {
   "cell_type": "code",
   "execution_count": 68,
   "metadata": {},
   "outputs": [
    {
     "data": {
      "image/png": "[encoded data removed]",
      "text/plain": [
       "<Figure size 2160x1080 with 1 Axes>"
      ]
     },
     "metadata": {
      "needs_background": "light"
     },
     "output_type": "display_data"
    }
   ],
   "source": [
    "plot_tree(model, num_trees=1)\n",
    "fig = plt.gcf()\n",
    "fig.set_size_inches(30, 15)"
   ]
  },
  {
   "cell_type": "code",
   "execution_count": 69,
   "metadata": {},
   "outputs": [
    {
     "data": {
      "text/plain": [
       "<matplotlib.axes._subplots.AxesSubplot at 0x265c70a3988>"
      ]
     },
     "execution_count": 69,
     "metadata": {},
     "output_type": "execute_result"
    },
    {
     "data": {
      "image/png": "[encoded data removed]",
      "text/plain": [
       "<Figure size 432x288 with 2 Axes>"
      ]
     },
     "metadata": {
      "needs_background": "light"
     },
     "output_type": "display_data"
    }
   ],
   "source": [
    "skplt.metrics.plot_confusion_matrix(test_y, pred_y)"
   ]
  },
  {
   "cell_type": "code",
   "execution_count": 70,
   "metadata": {},
   "outputs": [
    {
     "data": {
      "text/plain": [
       "<matplotlib.axes._subplots.AxesSubplot at 0x265c756bdc8>"
      ]
     },
     "execution_count": 70,
     "metadata": {},
     "output_type": "execute_result"
    },
    {
     "data": {
      "image/png": "[encoded data removed]",
      "text/plain": [
       "<Figure size 432x288 with 2 Axes>"
      ]
     },
     "metadata": {
      "needs_background": "light"
     },
     "output_type": "display_data"
    }
   ],
   "source": [
    "skplt.metrics.plot_confusion_matrix(test_y, pred_y,normalize=True)"
   ]
  },
  {
   "cell_type": "code",
   "execution_count": null,
   "metadata": {},
   "outputs": [],
   "source": []
  }
 ],
 "metadata": {
  "colab": {
   "include_colab_link": true,
   "name": "Legacy Data.ipynb",
   "provenance": []
  },
  "kernelspec": {
   "display_name": "Python 3",
   "language": "python",
   "name": "python3"
  },
  "language_info": {
   "codemirror_mode": {
    "name": "ipython",
    "version": 3
   },
   "file_extension": ".py",
   "mimetype": "text/x-python",
   "name": "python",
   "nbconvert_exporter": "python",
   "pygments_lexer": "ipython3",
   "version": "3.7.5"
  }
 },
 "nbformat": 4,
 "nbformat_minor": 4
}
